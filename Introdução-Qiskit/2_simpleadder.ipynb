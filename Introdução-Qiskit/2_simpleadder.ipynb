{
 "cells": [
  {
   "cell_type": "markdown",
   "metadata": {},
   "source": [
    "# Simple Adder no Qiskit"
   ]
  },
  {
   "cell_type": "code",
   "execution_count": 2,
   "metadata": {},
   "outputs": [],
   "source": [
    "from qiskit import QuantumCircuit\n",
    "from qiskit.visualization import plot_histogram\n",
    "\n",
    "def half_adder():\n",
    "    \"\"\"\n",
    "    Esta função cria um circuito half adder que soma dois bits quânticos.\n",
    "\n",
    "    Returns:\n",
    "        QuantumCircuit: Um circuito quântico que implementa um half adder.\n",
    "    \"\"\"\n",
    "    # Criação do circuito quântico\n",
    "    qc = QuantumCircuit(3, 2)  # 3 qubits e 2 bits clássicos\n",
    "\n",
    "    # Qubits de entrada (A e B)\n",
    "    a = 0  # Qubit 0 para bit A\n",
    "    b = 1  # Qubit 1 para bit B\n",
    "\n",
    "    # Qubit para o carry\n",
    "    carry = 2\n",
    "\n",
    "    # Aplicação das portas para realizar a operação half adder\n",
    "    # XOR entre A e B para obter a soma\n",
    "    qc.cx(a, carry)\n",
    "    qc.cx(b, carry)\n",
    "\n",
    "    # Porta AND para determinar o carry usando uma porta Toffoli (controle duplo)\n",
    "    qc.ccx(a, b, carry)\n",
    "\n",
    "    # Medições dos bits de saída\n",
    "    qc.measure(carry, 0)  # Medida do carry no bit clássico 0\n",
    "    qc.measure(carry, 1)  # Medida da soma no bit clássico 1 \n"
   ]
  }
 ],
 "metadata": {
  "kernelspec": {
   "display_name": "venv",
   "language": "python",
   "name": "python3"
  },
  "language_info": {
   "codemirror_mode": {
    "name": "ipython",
    "version": 3
   },
   "file_extension": ".py",
   "mimetype": "text/x-python",
   "name": "python",
   "nbconvert_exporter": "python",
   "pygments_lexer": "ipython3",
   "version": "3.12.7"
  }
 },
 "nbformat": 4,
 "nbformat_minor": 2
}
