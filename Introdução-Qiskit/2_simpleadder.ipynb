{
 "cells": [
  {
   "cell_type": "markdown",
   "metadata": {},
   "source": [
    "# FullAdder no Qiskit\n",
    "\n",
    "## 1° Parte: Iniciar e Configurar o backend e as credenciais"
   ]
  },
  {
   "cell_type": "code",
   "execution_count": 1,
   "metadata": {},
   "outputs": [
    {
     "name": "stdout",
     "output_type": "stream",
     "text": [
      "Requirement already satisfied: pylatexenc in /home/josegustavo/Documentos/IC/.conda/lib/python3.11/site-packages (2.10)\n",
      "Note: you may need to restart the kernel to use updated packages.\n",
      "Requirement already satisfied: qiskit in /home/josegustavo/Documentos/IC/.conda/lib/python3.11/site-packages (1.2.4)\n",
      "Requirement already satisfied: rustworkx>=0.15.0 in /home/josegustavo/Documentos/IC/.conda/lib/python3.11/site-packages (from qiskit) (0.15.1)\n",
      "Requirement already satisfied: numpy<3,>=1.17 in /home/josegustavo/Documentos/IC/.conda/lib/python3.11/site-packages (from qiskit) (1.23.5)\n",
      "Requirement already satisfied: scipy>=1.5 in /home/josegustavo/Documentos/IC/.conda/lib/python3.11/site-packages (from qiskit) (1.14.1)\n",
      "Requirement already satisfied: sympy>=1.3 in /home/josegustavo/Documentos/IC/.conda/lib/python3.11/site-packages (from qiskit) (1.13.3)\n",
      "Requirement already satisfied: dill>=0.3 in /home/josegustavo/Documentos/IC/.conda/lib/python3.11/site-packages (from qiskit) (0.3.9)\n",
      "Requirement already satisfied: python-dateutil>=2.8.0 in /home/josegustavo/Documentos/IC/.conda/lib/python3.11/site-packages (from qiskit) (2.9.0)\n",
      "Requirement already satisfied: stevedore>=3.0.0 in /home/josegustavo/Documentos/IC/.conda/lib/python3.11/site-packages (from qiskit) (5.3.0)\n",
      "Requirement already satisfied: typing-extensions in /home/josegustavo/Documentos/IC/.conda/lib/python3.11/site-packages (from qiskit) (4.12.2)\n",
      "Requirement already satisfied: symengine<0.14,>=0.11 in /home/josegustavo/Documentos/IC/.conda/lib/python3.11/site-packages (from qiskit) (0.13.0)\n",
      "Requirement already satisfied: six>=1.5 in /home/josegustavo/Documentos/IC/.conda/lib/python3.11/site-packages (from python-dateutil>=2.8.0->qiskit) (1.16.0)\n",
      "Requirement already satisfied: pbr>=2.0.0 in /home/josegustavo/Documentos/IC/.conda/lib/python3.11/site-packages (from stevedore>=3.0.0->qiskit) (6.1.0)\n",
      "Requirement already satisfied: mpmath<1.4,>=1.1.0 in /home/josegustavo/Documentos/IC/.conda/lib/python3.11/site-packages (from sympy>=1.3->qiskit) (1.3.0)\n",
      "Note: you may need to restart the kernel to use updated packages.\n",
      "Requirement already satisfied: qiskit-ibmq-provider in /home/josegustavo/Documentos/IC/.conda/lib/python3.11/site-packages (0.20.2)\n",
      "Requirement already satisfied: qiskit-terra>=0.18.0 in /home/josegustavo/Documentos/IC/.conda/lib/python3.11/site-packages (from qiskit-ibmq-provider) (0.46.3)\n",
      "Requirement already satisfied: requests>=2.19 in /home/josegustavo/Documentos/IC/.conda/lib/python3.11/site-packages (from qiskit-ibmq-provider) (2.32.3)\n",
      "Requirement already satisfied: requests-ntlm<=1.1.0 in /home/josegustavo/Documentos/IC/.conda/lib/python3.11/site-packages (from qiskit-ibmq-provider) (1.1.0)\n",
      "Requirement already satisfied: numpy<1.24 in /home/josegustavo/Documentos/IC/.conda/lib/python3.11/site-packages (from qiskit-ibmq-provider) (1.23.5)\n",
      "Requirement already satisfied: urllib3>=1.21.1 in /home/josegustavo/Documentos/IC/.conda/lib/python3.11/site-packages (from qiskit-ibmq-provider) (2.2.3)\n",
      "Requirement already satisfied: python-dateutil>=2.8.0 in /home/josegustavo/Documentos/IC/.conda/lib/python3.11/site-packages (from qiskit-ibmq-provider) (2.9.0)\n",
      "Requirement already satisfied: websocket-client>=1.5.1 in /home/josegustavo/Documentos/IC/.conda/lib/python3.11/site-packages (from qiskit-ibmq-provider) (1.8.0)\n",
      "Requirement already satisfied: websockets>=10.0 in /home/josegustavo/Documentos/IC/.conda/lib/python3.11/site-packages (from qiskit-ibmq-provider) (13.1)\n",
      "Requirement already satisfied: six>=1.5 in /home/josegustavo/Documentos/IC/.conda/lib/python3.11/site-packages (from python-dateutil>=2.8.0->qiskit-ibmq-provider) (1.16.0)\n",
      "Requirement already satisfied: rustworkx>=0.13.0 in /home/josegustavo/Documentos/IC/.conda/lib/python3.11/site-packages (from qiskit-terra>=0.18.0->qiskit-ibmq-provider) (0.15.1)\n",
      "Requirement already satisfied: ply>=3.10 in /home/josegustavo/Documentos/IC/.conda/lib/python3.11/site-packages (from qiskit-terra>=0.18.0->qiskit-ibmq-provider) (3.11)\n",
      "Requirement already satisfied: psutil>=5 in /home/josegustavo/Documentos/IC/.conda/lib/python3.11/site-packages (from qiskit-terra>=0.18.0->qiskit-ibmq-provider) (6.0.0)\n",
      "Requirement already satisfied: scipy>=1.5 in /home/josegustavo/Documentos/IC/.conda/lib/python3.11/site-packages (from qiskit-terra>=0.18.0->qiskit-ibmq-provider) (1.14.1)\n",
      "Requirement already satisfied: sympy>=1.3 in /home/josegustavo/Documentos/IC/.conda/lib/python3.11/site-packages (from qiskit-terra>=0.18.0->qiskit-ibmq-provider) (1.13.3)\n",
      "Requirement already satisfied: dill>=0.3 in /home/josegustavo/Documentos/IC/.conda/lib/python3.11/site-packages (from qiskit-terra>=0.18.0->qiskit-ibmq-provider) (0.3.9)\n",
      "Requirement already satisfied: stevedore>=3.0.0 in /home/josegustavo/Documentos/IC/.conda/lib/python3.11/site-packages (from qiskit-terra>=0.18.0->qiskit-ibmq-provider) (5.3.0)\n",
      "Requirement already satisfied: symengine>=0.11 in /home/josegustavo/Documentos/IC/.conda/lib/python3.11/site-packages (from qiskit-terra>=0.18.0->qiskit-ibmq-provider) (0.13.0)\n",
      "Requirement already satisfied: charset-normalizer<4,>=2 in /home/josegustavo/Documentos/IC/.conda/lib/python3.11/site-packages (from requests>=2.19->qiskit-ibmq-provider) (3.4.0)\n",
      "Requirement already satisfied: idna<4,>=2.5 in /home/josegustavo/Documentos/IC/.conda/lib/python3.11/site-packages (from requests>=2.19->qiskit-ibmq-provider) (3.10)\n",
      "Requirement already satisfied: certifi>=2017.4.17 in /home/josegustavo/Documentos/IC/.conda/lib/python3.11/site-packages (from requests>=2.19->qiskit-ibmq-provider) (2024.8.30)\n",
      "Requirement already satisfied: ntlm-auth>=1.0.2 in /home/josegustavo/Documentos/IC/.conda/lib/python3.11/site-packages (from requests-ntlm<=1.1.0->qiskit-ibmq-provider) (1.5.0)\n",
      "Requirement already satisfied: cryptography>=1.3 in /home/josegustavo/Documentos/IC/.conda/lib/python3.11/site-packages (from requests-ntlm<=1.1.0->qiskit-ibmq-provider) (43.0.1)\n",
      "Requirement already satisfied: cffi>=1.12 in /home/josegustavo/Documentos/IC/.conda/lib/python3.11/site-packages (from cryptography>=1.3->requests-ntlm<=1.1.0->qiskit-ibmq-provider) (1.17.1)\n",
      "Requirement already satisfied: pbr>=2.0.0 in /home/josegustavo/Documentos/IC/.conda/lib/python3.11/site-packages (from stevedore>=3.0.0->qiskit-terra>=0.18.0->qiskit-ibmq-provider) (6.1.0)\n",
      "Requirement already satisfied: mpmath<1.4,>=1.1.0 in /home/josegustavo/Documentos/IC/.conda/lib/python3.11/site-packages (from sympy>=1.3->qiskit-terra>=0.18.0->qiskit-ibmq-provider) (1.3.0)\n",
      "Requirement already satisfied: pycparser in /home/josegustavo/Documentos/IC/.conda/lib/python3.11/site-packages (from cffi>=1.12->cryptography>=1.3->requests-ntlm<=1.1.0->qiskit-ibmq-provider) (2.22)\n",
      "Note: you may need to restart the kernel to use updated packages.\n",
      "Requirement already satisfied: qiskit_aer in /home/josegustavo/Documentos/IC/.conda/lib/python3.11/site-packages (0.15.1)\n",
      "Requirement already satisfied: qiskit>=1.1.0 in /home/josegustavo/Documentos/IC/.conda/lib/python3.11/site-packages (from qiskit_aer) (1.2.4)\n",
      "Requirement already satisfied: numpy>=1.16.3 in /home/josegustavo/Documentos/IC/.conda/lib/python3.11/site-packages (from qiskit_aer) (1.23.5)\n",
      "Requirement already satisfied: scipy>=1.0 in /home/josegustavo/Documentos/IC/.conda/lib/python3.11/site-packages (from qiskit_aer) (1.14.1)\n",
      "Requirement already satisfied: psutil>=5 in /home/josegustavo/Documentos/IC/.conda/lib/python3.11/site-packages (from qiskit_aer) (6.0.0)\n",
      "Requirement already satisfied: rustworkx>=0.15.0 in /home/josegustavo/Documentos/IC/.conda/lib/python3.11/site-packages (from qiskit>=1.1.0->qiskit_aer) (0.15.1)\n",
      "Requirement already satisfied: sympy>=1.3 in /home/josegustavo/Documentos/IC/.conda/lib/python3.11/site-packages (from qiskit>=1.1.0->qiskit_aer) (1.13.3)\n",
      "Requirement already satisfied: dill>=0.3 in /home/josegustavo/Documentos/IC/.conda/lib/python3.11/site-packages (from qiskit>=1.1.0->qiskit_aer) (0.3.9)\n",
      "Requirement already satisfied: python-dateutil>=2.8.0 in /home/josegustavo/Documentos/IC/.conda/lib/python3.11/site-packages (from qiskit>=1.1.0->qiskit_aer) (2.9.0)\n",
      "Requirement already satisfied: stevedore>=3.0.0 in /home/josegustavo/Documentos/IC/.conda/lib/python3.11/site-packages (from qiskit>=1.1.0->qiskit_aer) (5.3.0)\n",
      "Requirement already satisfied: typing-extensions in /home/josegustavo/Documentos/IC/.conda/lib/python3.11/site-packages (from qiskit>=1.1.0->qiskit_aer) (4.12.2)\n",
      "Requirement already satisfied: symengine<0.14,>=0.11 in /home/josegustavo/Documentos/IC/.conda/lib/python3.11/site-packages (from qiskit>=1.1.0->qiskit_aer) (0.13.0)\n",
      "Requirement already satisfied: six>=1.5 in /home/josegustavo/Documentos/IC/.conda/lib/python3.11/site-packages (from python-dateutil>=2.8.0->qiskit>=1.1.0->qiskit_aer) (1.16.0)\n",
      "Requirement already satisfied: pbr>=2.0.0 in /home/josegustavo/Documentos/IC/.conda/lib/python3.11/site-packages (from stevedore>=3.0.0->qiskit>=1.1.0->qiskit_aer) (6.1.0)\n",
      "Requirement already satisfied: mpmath<1.4,>=1.1.0 in /home/josegustavo/Documentos/IC/.conda/lib/python3.11/site-packages (from sympy>=1.3->qiskit>=1.1.0->qiskit_aer) (1.3.0)\n",
      "Note: you may need to restart the kernel to use updated packages.\n",
      "Requirement already satisfied: qiskit_ibm_runtime in /home/josegustavo/Documentos/IC/.conda/lib/python3.11/site-packages (0.30.0)\n",
      "Requirement already satisfied: requests>=2.19 in /home/josegustavo/Documentos/IC/.conda/lib/python3.11/site-packages (from qiskit_ibm_runtime) (2.32.3)\n",
      "Requirement already satisfied: requests-ntlm>=1.1.0 in /home/josegustavo/Documentos/IC/.conda/lib/python3.11/site-packages (from qiskit_ibm_runtime) (1.1.0)\n",
      "Requirement already satisfied: numpy>=1.13 in /home/josegustavo/Documentos/IC/.conda/lib/python3.11/site-packages (from qiskit_ibm_runtime) (1.23.5)\n",
      "Requirement already satisfied: urllib3>=1.21.1 in /home/josegustavo/Documentos/IC/.conda/lib/python3.11/site-packages (from qiskit_ibm_runtime) (2.2.3)\n",
      "Requirement already satisfied: python-dateutil>=2.8.0 in /home/josegustavo/Documentos/IC/.conda/lib/python3.11/site-packages (from qiskit_ibm_runtime) (2.9.0)\n",
      "Requirement already satisfied: websocket-client>=1.5.1 in /home/josegustavo/Documentos/IC/.conda/lib/python3.11/site-packages (from qiskit_ibm_runtime) (1.8.0)\n",
      "Requirement already satisfied: ibm-platform-services>=0.22.6 in /home/josegustavo/Documentos/IC/.conda/lib/python3.11/site-packages (from qiskit_ibm_runtime) (0.57.1)\n",
      "Requirement already satisfied: pydantic>=2.5.0 in /home/josegustavo/Documentos/IC/.conda/lib/python3.11/site-packages (from qiskit_ibm_runtime) (2.9.2)\n",
      "Requirement already satisfied: qiskit>=1.1.0 in /home/josegustavo/Documentos/IC/.conda/lib/python3.11/site-packages (from qiskit_ibm_runtime) (1.2.4)\n",
      "Requirement already satisfied: ibm-cloud-sdk-core<4.0.0,>=3.21.0 in /home/josegustavo/Documentos/IC/.conda/lib/python3.11/site-packages (from ibm-platform-services>=0.22.6->qiskit_ibm_runtime) (3.21.0)\n",
      "Requirement already satisfied: annotated-types>=0.6.0 in /home/josegustavo/Documentos/IC/.conda/lib/python3.11/site-packages (from pydantic>=2.5.0->qiskit_ibm_runtime) (0.7.0)\n",
      "Requirement already satisfied: pydantic-core==2.23.4 in /home/josegustavo/Documentos/IC/.conda/lib/python3.11/site-packages (from pydantic>=2.5.0->qiskit_ibm_runtime) (2.23.4)\n",
      "Requirement already satisfied: typing-extensions>=4.6.1 in /home/josegustavo/Documentos/IC/.conda/lib/python3.11/site-packages (from pydantic>=2.5.0->qiskit_ibm_runtime) (4.12.2)\n",
      "Requirement already satisfied: six>=1.5 in /home/josegustavo/Documentos/IC/.conda/lib/python3.11/site-packages (from python-dateutil>=2.8.0->qiskit_ibm_runtime) (1.16.0)\n",
      "Requirement already satisfied: rustworkx>=0.15.0 in /home/josegustavo/Documentos/IC/.conda/lib/python3.11/site-packages (from qiskit>=1.1.0->qiskit_ibm_runtime) (0.15.1)\n",
      "Requirement already satisfied: scipy>=1.5 in /home/josegustavo/Documentos/IC/.conda/lib/python3.11/site-packages (from qiskit>=1.1.0->qiskit_ibm_runtime) (1.14.1)\n",
      "Requirement already satisfied: sympy>=1.3 in /home/josegustavo/Documentos/IC/.conda/lib/python3.11/site-packages (from qiskit>=1.1.0->qiskit_ibm_runtime) (1.13.3)\n",
      "Requirement already satisfied: dill>=0.3 in /home/josegustavo/Documentos/IC/.conda/lib/python3.11/site-packages (from qiskit>=1.1.0->qiskit_ibm_runtime) (0.3.9)\n",
      "Requirement already satisfied: stevedore>=3.0.0 in /home/josegustavo/Documentos/IC/.conda/lib/python3.11/site-packages (from qiskit>=1.1.0->qiskit_ibm_runtime) (5.3.0)\n",
      "Requirement already satisfied: symengine<0.14,>=0.11 in /home/josegustavo/Documentos/IC/.conda/lib/python3.11/site-packages (from qiskit>=1.1.0->qiskit_ibm_runtime) (0.13.0)\n",
      "Requirement already satisfied: charset-normalizer<4,>=2 in /home/josegustavo/Documentos/IC/.conda/lib/python3.11/site-packages (from requests>=2.19->qiskit_ibm_runtime) (3.4.0)\n",
      "Requirement already satisfied: idna<4,>=2.5 in /home/josegustavo/Documentos/IC/.conda/lib/python3.11/site-packages (from requests>=2.19->qiskit_ibm_runtime) (3.10)\n",
      "Requirement already satisfied: certifi>=2017.4.17 in /home/josegustavo/Documentos/IC/.conda/lib/python3.11/site-packages (from requests>=2.19->qiskit_ibm_runtime) (2024.8.30)\n",
      "Requirement already satisfied: ntlm-auth>=1.0.2 in /home/josegustavo/Documentos/IC/.conda/lib/python3.11/site-packages (from requests-ntlm>=1.1.0->qiskit_ibm_runtime) (1.5.0)\n",
      "Requirement already satisfied: cryptography>=1.3 in /home/josegustavo/Documentos/IC/.conda/lib/python3.11/site-packages (from requests-ntlm>=1.1.0->qiskit_ibm_runtime) (43.0.1)\n",
      "Requirement already satisfied: cffi>=1.12 in /home/josegustavo/Documentos/IC/.conda/lib/python3.11/site-packages (from cryptography>=1.3->requests-ntlm>=1.1.0->qiskit_ibm_runtime) (1.17.1)\n",
      "Requirement already satisfied: PyJWT<3.0.0,>=2.8.0 in /home/josegustavo/Documentos/IC/.conda/lib/python3.11/site-packages (from ibm-cloud-sdk-core<4.0.0,>=3.21.0->ibm-platform-services>=0.22.6->qiskit_ibm_runtime) (2.9.0)\n",
      "Requirement already satisfied: pbr>=2.0.0 in /home/josegustavo/Documentos/IC/.conda/lib/python3.11/site-packages (from stevedore>=3.0.0->qiskit>=1.1.0->qiskit_ibm_runtime) (6.1.0)\n",
      "Requirement already satisfied: mpmath<1.4,>=1.1.0 in /home/josegustavo/Documentos/IC/.conda/lib/python3.11/site-packages (from sympy>=1.3->qiskit>=1.1.0->qiskit_ibm_runtime) (1.3.0)\n",
      "Requirement already satisfied: pycparser in /home/josegustavo/Documentos/IC/.conda/lib/python3.11/site-packages (from cffi>=1.12->cryptography>=1.3->requests-ntlm>=1.1.0->qiskit_ibm_runtime) (2.22)\n",
      "Note: you may need to restart the kernel to use updated packages.\n",
      "Requirement already satisfied: matplotlib in /home/josegustavo/Documentos/IC/.conda/lib/python3.11/site-packages (3.9.2)\n",
      "Requirement already satisfied: contourpy>=1.0.1 in /home/josegustavo/Documentos/IC/.conda/lib/python3.11/site-packages (from matplotlib) (1.3.0)\n",
      "Requirement already satisfied: cycler>=0.10 in /home/josegustavo/Documentos/IC/.conda/lib/python3.11/site-packages (from matplotlib) (0.12.1)\n",
      "Requirement already satisfied: fonttools>=4.22.0 in /home/josegustavo/Documentos/IC/.conda/lib/python3.11/site-packages (from matplotlib) (4.54.1)\n",
      "Requirement already satisfied: kiwisolver>=1.3.1 in /home/josegustavo/Documentos/IC/.conda/lib/python3.11/site-packages (from matplotlib) (1.4.7)\n",
      "Requirement already satisfied: numpy>=1.23 in /home/josegustavo/Documentos/IC/.conda/lib/python3.11/site-packages (from matplotlib) (1.23.5)\n",
      "Requirement already satisfied: packaging>=20.0 in /home/josegustavo/Documentos/IC/.conda/lib/python3.11/site-packages (from matplotlib) (24.1)\n",
      "Requirement already satisfied: pillow>=8 in /home/josegustavo/Documentos/IC/.conda/lib/python3.11/site-packages (from matplotlib) (10.4.0)\n",
      "Requirement already satisfied: pyparsing>=2.3.1 in /home/josegustavo/Documentos/IC/.conda/lib/python3.11/site-packages (from matplotlib) (3.2.0)\n",
      "Requirement already satisfied: python-dateutil>=2.7 in /home/josegustavo/Documentos/IC/.conda/lib/python3.11/site-packages (from matplotlib) (2.9.0)\n",
      "Requirement already satisfied: six>=1.5 in /home/josegustavo/Documentos/IC/.conda/lib/python3.11/site-packages (from python-dateutil>=2.7->matplotlib) (1.16.0)\n",
      "Note: you may need to restart the kernel to use updated packages.\n"
     ]
    }
   ],
   "source": [
    "# Instalando os requisitos\n",
    "# Não é necessário caso o env já tenha as bibliotecas\n",
    "%pip install pylatexenc\n",
    "%pip install qiskit\n",
    "%pip install qiskit-ibmq-provider\n",
    "%pip install qiskit_aer\n",
    "%pip install qiskit_ibm_runtime\n",
    "%pip install matplotlib"
   ]
  },
  {
   "cell_type": "code",
   "execution_count": 2,
   "metadata": {},
   "outputs": [
    {
     "ename": "ImportError",
     "evalue": "Qiskit is installed in an invalid environment that has both Qiskit >=1.0 and an earlier version. You should create a new virtual environment, and ensure that you do not mix dependencies between Qiskit <1.0 and >=1.0. Any packages that depend on 'qiskit-terra' are not compatible with Qiskit 1.0 and will need to be updated. Qiskit unfortunately cannot enforce this requirement during environment resolution. See https://qisk.it/packaging-1-0 for more detail.",
     "output_type": "error",
     "traceback": [
      "\u001b[0;31m---------------------------------------------------------------------------\u001b[0m",
      "\u001b[0;31mImportError\u001b[0m                               Traceback (most recent call last)",
      "Cell \u001b[0;32mIn[2], line 1\u001b[0m\n\u001b[0;32m----> 1\u001b[0m \u001b[38;5;28;01mimport\u001b[39;00m \u001b[38;5;21;01mqiskit\u001b[39;00m\n\u001b[1;32m      2\u001b[0m qiskit\u001b[38;5;241m.\u001b[39m__version__\n",
      "File \u001b[0;32m~/Documentos/IC/.conda/lib/python3.11/site-packages/qiskit/__init__.py:38\u001b[0m\n\u001b[1;32m     36\u001b[0m     _suppress_error \u001b[38;5;241m=\u001b[39m os\u001b[38;5;241m.\u001b[39menviron\u001b[38;5;241m.\u001b[39mget(\u001b[38;5;124m\"\u001b[39m\u001b[38;5;124mQISKIT_SUPPRESS_1_0_IMPORT_ERROR\u001b[39m\u001b[38;5;124m\"\u001b[39m, \u001b[38;5;28;01mFalse\u001b[39;00m) \u001b[38;5;241m==\u001b[39m \u001b[38;5;124m\"\u001b[39m\u001b[38;5;124m1\u001b[39m\u001b[38;5;124m\"\u001b[39m\n\u001b[1;32m     37\u001b[0m     \u001b[38;5;28;01mif\u001b[39;00m \u001b[38;5;28mint\u001b[39m(_major) \u001b[38;5;241m>\u001b[39m \u001b[38;5;241m0\u001b[39m \u001b[38;5;129;01mand\u001b[39;00m \u001b[38;5;129;01mnot\u001b[39;00m _suppress_error:\n\u001b[0;32m---> 38\u001b[0m         \u001b[38;5;28;01mraise\u001b[39;00m \u001b[38;5;167;01mImportError\u001b[39;00m(\n\u001b[1;32m     39\u001b[0m             \u001b[38;5;124m\"\u001b[39m\u001b[38;5;124mQiskit is installed in an invalid environment that has both Qiskit >=1.0\u001b[39m\u001b[38;5;124m\"\u001b[39m\n\u001b[1;32m     40\u001b[0m             \u001b[38;5;124m\"\u001b[39m\u001b[38;5;124m and an earlier version.\u001b[39m\u001b[38;5;124m\"\u001b[39m\n\u001b[1;32m     41\u001b[0m             \u001b[38;5;124m\"\u001b[39m\u001b[38;5;124m You should create a new virtual environment, and ensure that you do not mix\u001b[39m\u001b[38;5;124m\"\u001b[39m\n\u001b[1;32m     42\u001b[0m             \u001b[38;5;124m\"\u001b[39m\u001b[38;5;124m dependencies between Qiskit <1.0 and >=1.0.\u001b[39m\u001b[38;5;124m\"\u001b[39m\n\u001b[1;32m     43\u001b[0m             \u001b[38;5;124m\"\u001b[39m\u001b[38;5;124m Any packages that depend on \u001b[39m\u001b[38;5;124m'\u001b[39m\u001b[38;5;124mqiskit-terra\u001b[39m\u001b[38;5;124m'\u001b[39m\u001b[38;5;124m are not compatible with Qiskit 1.0 and\u001b[39m\u001b[38;5;124m\"\u001b[39m\n\u001b[1;32m     44\u001b[0m             \u001b[38;5;124m\"\u001b[39m\u001b[38;5;124m will need to be updated.\u001b[39m\u001b[38;5;124m\"\u001b[39m\n\u001b[1;32m     45\u001b[0m             \u001b[38;5;124m\"\u001b[39m\u001b[38;5;124m Qiskit unfortunately cannot enforce this requirement during environment resolution.\u001b[39m\u001b[38;5;124m\"\u001b[39m\n\u001b[1;32m     46\u001b[0m             \u001b[38;5;124m\"\u001b[39m\u001b[38;5;124m See https://qisk.it/packaging-1-0 for more detail.\u001b[39m\u001b[38;5;124m\"\u001b[39m\n\u001b[1;32m     47\u001b[0m         )\n\u001b[1;32m     49\u001b[0m \u001b[38;5;28;01mimport\u001b[39;00m \u001b[38;5;21;01mqiskit\u001b[39;00m\u001b[38;5;21;01m.\u001b[39;00m\u001b[38;5;21;01m_accelerate\u001b[39;00m\n\u001b[1;32m     50\u001b[0m \u001b[38;5;28;01mimport\u001b[39;00m \u001b[38;5;21;01mqiskit\u001b[39;00m\u001b[38;5;21;01m.\u001b[39;00m\u001b[38;5;21;01m_numpy_compat\u001b[39;00m\n",
      "\u001b[0;31mImportError\u001b[0m: Qiskit is installed in an invalid environment that has both Qiskit >=1.0 and an earlier version. You should create a new virtual environment, and ensure that you do not mix dependencies between Qiskit <1.0 and >=1.0. Any packages that depend on 'qiskit-terra' are not compatible with Qiskit 1.0 and will need to be updated. Qiskit unfortunately cannot enforce this requirement during environment resolution. See https://qisk.it/packaging-1-0 for more detail."
     ]
    }
   ],
   "source": [
    "import qiskit\n",
    "qiskit.__version__"
   ]
  },
  {
   "cell_type": "code",
   "execution_count": 3,
   "metadata": {},
   "outputs": [
    {
     "ename": "ImportError",
     "evalue": "Qiskit is installed in an invalid environment that has both Qiskit >=1.0 and an earlier version. You should create a new virtual environment, and ensure that you do not mix dependencies between Qiskit <1.0 and >=1.0. Any packages that depend on 'qiskit-terra' are not compatible with Qiskit 1.0 and will need to be updated. Qiskit unfortunately cannot enforce this requirement during environment resolution. See https://qisk.it/packaging-1-0 for more detail.",
     "output_type": "error",
     "traceback": [
      "\u001b[0;31m---------------------------------------------------------------------------\u001b[0m",
      "\u001b[0;31mImportError\u001b[0m                               Traceback (most recent call last)",
      "Cell \u001b[0;32mIn[3], line 3\u001b[0m\n\u001b[1;32m      1\u001b[0m \u001b[38;5;66;03m# Importando as bibliotecas\u001b[39;00m\n\u001b[0;32m----> 3\u001b[0m \u001b[38;5;28;01mfrom\u001b[39;00m \u001b[38;5;21;01mqiskit\u001b[39;00m \u001b[38;5;28;01mimport\u001b[39;00m IBMQ, QuantumCircuit, transpile\n\u001b[1;32m      4\u001b[0m \u001b[38;5;28;01mfrom\u001b[39;00m \u001b[38;5;21;01mqiskit_ibm_runtime\u001b[39;00m \u001b[38;5;28;01mimport\u001b[39;00m QiskitRuntimeService\n\u001b[1;32m      5\u001b[0m \u001b[38;5;28;01mfrom\u001b[39;00m \u001b[38;5;21;01mqiskit_aer\u001b[39;00m \u001b[38;5;28;01mimport\u001b[39;00m AerSimulator\n",
      "File \u001b[0;32m~/Documentos/IC/.conda/lib/python3.11/site-packages/qiskit/__init__.py:38\u001b[0m\n\u001b[1;32m     36\u001b[0m     _suppress_error \u001b[38;5;241m=\u001b[39m os\u001b[38;5;241m.\u001b[39menviron\u001b[38;5;241m.\u001b[39mget(\u001b[38;5;124m\"\u001b[39m\u001b[38;5;124mQISKIT_SUPPRESS_1_0_IMPORT_ERROR\u001b[39m\u001b[38;5;124m\"\u001b[39m, \u001b[38;5;28;01mFalse\u001b[39;00m) \u001b[38;5;241m==\u001b[39m \u001b[38;5;124m\"\u001b[39m\u001b[38;5;124m1\u001b[39m\u001b[38;5;124m\"\u001b[39m\n\u001b[1;32m     37\u001b[0m     \u001b[38;5;28;01mif\u001b[39;00m \u001b[38;5;28mint\u001b[39m(_major) \u001b[38;5;241m>\u001b[39m \u001b[38;5;241m0\u001b[39m \u001b[38;5;129;01mand\u001b[39;00m \u001b[38;5;129;01mnot\u001b[39;00m _suppress_error:\n\u001b[0;32m---> 38\u001b[0m         \u001b[38;5;28;01mraise\u001b[39;00m \u001b[38;5;167;01mImportError\u001b[39;00m(\n\u001b[1;32m     39\u001b[0m             \u001b[38;5;124m\"\u001b[39m\u001b[38;5;124mQiskit is installed in an invalid environment that has both Qiskit >=1.0\u001b[39m\u001b[38;5;124m\"\u001b[39m\n\u001b[1;32m     40\u001b[0m             \u001b[38;5;124m\"\u001b[39m\u001b[38;5;124m and an earlier version.\u001b[39m\u001b[38;5;124m\"\u001b[39m\n\u001b[1;32m     41\u001b[0m             \u001b[38;5;124m\"\u001b[39m\u001b[38;5;124m You should create a new virtual environment, and ensure that you do not mix\u001b[39m\u001b[38;5;124m\"\u001b[39m\n\u001b[1;32m     42\u001b[0m             \u001b[38;5;124m\"\u001b[39m\u001b[38;5;124m dependencies between Qiskit <1.0 and >=1.0.\u001b[39m\u001b[38;5;124m\"\u001b[39m\n\u001b[1;32m     43\u001b[0m             \u001b[38;5;124m\"\u001b[39m\u001b[38;5;124m Any packages that depend on \u001b[39m\u001b[38;5;124m'\u001b[39m\u001b[38;5;124mqiskit-terra\u001b[39m\u001b[38;5;124m'\u001b[39m\u001b[38;5;124m are not compatible with Qiskit 1.0 and\u001b[39m\u001b[38;5;124m\"\u001b[39m\n\u001b[1;32m     44\u001b[0m             \u001b[38;5;124m\"\u001b[39m\u001b[38;5;124m will need to be updated.\u001b[39m\u001b[38;5;124m\"\u001b[39m\n\u001b[1;32m     45\u001b[0m             \u001b[38;5;124m\"\u001b[39m\u001b[38;5;124m Qiskit unfortunately cannot enforce this requirement during environment resolution.\u001b[39m\u001b[38;5;124m\"\u001b[39m\n\u001b[1;32m     46\u001b[0m             \u001b[38;5;124m\"\u001b[39m\u001b[38;5;124m See https://qisk.it/packaging-1-0 for more detail.\u001b[39m\u001b[38;5;124m\"\u001b[39m\n\u001b[1;32m     47\u001b[0m         )\n\u001b[1;32m     49\u001b[0m \u001b[38;5;28;01mimport\u001b[39;00m \u001b[38;5;21;01mqiskit\u001b[39;00m\u001b[38;5;21;01m.\u001b[39;00m\u001b[38;5;21;01m_accelerate\u001b[39;00m\n\u001b[1;32m     50\u001b[0m \u001b[38;5;28;01mimport\u001b[39;00m \u001b[38;5;21;01mqiskit\u001b[39;00m\u001b[38;5;21;01m.\u001b[39;00m\u001b[38;5;21;01m_numpy_compat\u001b[39;00m\n",
      "\u001b[0;31mImportError\u001b[0m: Qiskit is installed in an invalid environment that has both Qiskit >=1.0 and an earlier version. You should create a new virtual environment, and ensure that you do not mix dependencies between Qiskit <1.0 and >=1.0. Any packages that depend on 'qiskit-terra' are not compatible with Qiskit 1.0 and will need to be updated. Qiskit unfortunately cannot enforce this requirement during environment resolution. See https://qisk.it/packaging-1-0 for more detail."
     ]
    }
   ],
   "source": [
    "# Importando as bibliotecas\n",
    "\n",
    "from qiskit import IBMQ, QuantumCircuit, transpile\n",
    "from qiskit_ibm_runtime import QiskitRuntimeService\n",
    "from qiskit_aer import AerSimulator\n",
    "from qiskit.visualization import plot_histogram\n",
    "import matplotlib.pyplot as plt\n",
    "\n"
   ]
  },
  {
   "cell_type": "code",
   "execution_count": 10,
   "metadata": {},
   "outputs": [],
   "source": [
    "# Parametros da função 'QiskitRuntimeService'\n",
    "# channel -> especifica qual canal de serviço está sendo utilizado, No caso, 'ibm_quantum' significa que você está se conectando ao IBM Quantum, o serviço de computação quântica em nuvem da IBM.\n",
    "# token -> seu token de acesso \n",
    "\n",
    "token_str = 'ec220acfeee06d8e24e4d517e079fa222d241ea553eb3c34eb4630016a86190ea0bca5182aaae507c8ddf5042b3437ee5b8c3dc7b2feeb8cf0f4f662637ccf28'\n",
    "service = QiskitRuntimeService(channel='ibm_quantum', # cloud ibm\n",
    "                               token=token_str)"
   ]
  },
  {
   "cell_type": "code",
   "execution_count": null,
   "metadata": {},
   "outputs": [],
   "source": [
    "# Salvando a conta localmente\n",
    "\n",
    "IBMQ.save_account(token_str)"
   ]
  },
  {
   "cell_type": "code",
   "execution_count": 5,
   "metadata": {},
   "outputs": [],
   "source": [
    "# Conectando ao backend\n",
    "\n",
    "backend = service.backend(name= \"ibm_brisbane\")"
   ]
  },
  {
   "cell_type": "markdown",
   "metadata": {},
   "source": [
    "### 1. Método Clássico:\n",
    "\n",
    "\n",
    "![Half Adder](data/Half_Adder.png)\n",
    "\n",
    "Nesse método, utiliza uma porta XOR para fazer a soma do Bit A e do Bit B e caso A = 1 e B = 1, a porta AND vai somar 1 no carry. Há diversas formas de trabalhar com o carry que vou mostrar depois\n",
    "\n",
    "### 2. Método Quantico: \n",
    "\n",
    "#### 2.1. Configuração do Circuito: \n",
    "Para iniciar o circuito precisamos declarar 3 Qubits, 2 Qubits de entrada (A e B) e 1 Qubit para o Carry (vai-um) e alguns bits clássicos correspondentes para armazenar o resultado\n",
    "\n",
    "#### 2.2. Definição dos dados de entrada\n",
    "Vamos utilizar **portas X** ou *x-gates* para definir os estados de entrada de A e B, permitindo testar todas as combinações (00, 01, 10, 11). \n",
    "A **porta x** equivale a *NOT* quântica, ou seja, inverte o estado do qubit.\n",
    "\n",
    "#### 2.3. Implementação da porta XOR para realizar a soma\n",
    "Usaremos a **porta CNOT** para realizar a operação de A ⊕ B\n",
    "* Controle no qubit A e alvo no qubit B.\n",
    "* O resultado da soma será armazenado no qubit B.\n",
    "\n",
    "#### 2.4. Implementação da porta AND para armazenar o Carry\n",
    "Usaremos a **porta toffoli** que é o equivalente ao **AND** e irá armazenar no Qubit auxiliar\n",
    "\n"
   ]
  },
  {
   "cell_type": "code",
   "execution_count": 17,
   "metadata": {},
   "outputs": [
    {
     "data": {
      "text/plain": [
       "<qiskit.circuit.instructionset.InstructionSet at 0x7f19523fb520>"
      ]
     },
     "execution_count": 17,
     "metadata": {},
     "output_type": "execute_result"
    }
   ],
   "source": [
    "# Implementação do halfadder\n",
    "\n",
    "qc = QuantumCircuit(3, 2) # declarando 3 qubits e 2 bits clássicos\n",
    "\n",
    "qc.x(0) # Define A = 1\n",
    "qc.x(1) # Define B = 1\n",
    "# para usar outras combinações é so não aplicar a porta x\n",
    "\n",
    "qc.ccx(0, 1, 2) # (controle1, controle2, alvo)\n",
    "# Aplicando a porta toffoli e armazenando o resultado da operação no alvo ou qubit 2\n",
    "\n",
    "qc.cx(0, 1) # (controle, alvo)\n",
    "# Aplicando a porta CNOT (XOR) ao bit 0 e 1, no qual o qubit 1 vai armazenar a soma\n",
    "\n",
    "qc.measure(1, 0)  # Soma (S)\n",
    "qc.measure(2, 1)  # Carry (C)\n",
    "# Medimos o qubit 1 (soma) e armazenamos o resultado no bit clássico 0.\n",
    "# Medimos o qubit 2 (carry) e armazenamos o resultado no bit clássico 1."
   ]
  },
  {
   "cell_type": "markdown",
   "metadata": {},
   "source": [
    "### 3. Simulação dos métodos"
   ]
  },
  {
   "cell_type": "code",
   "execution_count": 14,
   "metadata": {},
   "outputs": [
    {
     "name": "stdout",
     "output_type": "stream",
     "text": [
      "Resultados da simulação:\n",
      "{'10': 1024}\n"
     ]
    },
    {
     "data": {
      "image/png": "[encoded data removed]",
      "text/plain": [
       "<Figure size 640x480 with 1 Axes>"
      ]
     },
     "execution_count": 14,
     "metadata": {},
     "output_type": "execute_result"
    }
   ],
   "source": [
    "# Seleciona o simulador AerSimulator\n",
    "simulador = AerSimulator()\n",
    "\n",
    "# Transpila o Circuito para o backend escolhido (nesse caso o brisbane)\n",
    "qc_transpilado = transpile(qc, simulador)\n",
    "\n",
    "# Executa o circuito no simulador com 1024 execuções (shots)\n",
    "job = simulador.run(qc_transpilado, shots=1024)\n",
    "\n",
    "# Obtém os resultados\n",
    "resultado = job.result()\n",
    "\n",
    "# Obtém a contagem dos resultados\n",
    "contagens = resultado.get_counts(qc_transpilado)\n",
    "\n",
    "# Exibe os resultados\n",
    "print(\"Resultados da simulação:\")\n",
    "print(contagens)\n",
    "\n",
    "plot_histogram(contagens)\n"
   ]
  },
  {
   "cell_type": "markdown",
   "metadata": {},
   "source": [
    "### 4. Execução do método\n",
    "\n",
    "#### 4.1. Método Quântico\n",
    "\n",
    "#### 4.1.1. Execução\n"
   ]
  },
  {
   "cell_type": "code",
   "execution_count": 5,
   "metadata": {},
   "outputs": [
    {
     "ename": "NameError",
     "evalue": "name 'qc' is not defined",
     "output_type": "error",
     "traceback": [
      "\u001b[0;31m---------------------------------------------------------------------------\u001b[0m",
      "\u001b[0;31mNameError\u001b[0m                                 Traceback (most recent call last)",
      "Cell \u001b[0;32mIn[5], line 1\u001b[0m\n\u001b[0;32m----> 1\u001b[0m qc_transpilado \u001b[38;5;241m=\u001b[39m transpile(\u001b[43mqc\u001b[49m, backend)\u001b[38;5;66;03m# Transpilando para o backend em especifico\u001b[39;00m\n\u001b[1;32m      2\u001b[0m \u001b[38;5;66;03m#job = backend.run(qc_transpilado, shots=1024) # Executando no backend\u001b[39;00m\n",
      "\u001b[0;31mNameError\u001b[0m: name 'qc' is not defined"
     ]
    }
   ],
   "source": [
    "qc_transpilado = transpile(qc, backend, optimization_level=1)# Transpilando para o backend em especifico\n",
    "job = backend.run(qc_transpilado, shots=1024) # Executando no backend"
   ]
  },
  {
   "cell_type": "markdown",
   "metadata": {},
   "source": [
    "#### 4.1.2. Resultados"
   ]
  },
  {
   "cell_type": "code",
   "execution_count": 11,
   "metadata": {},
   "outputs": [],
   "source": [
    "# Código generico para pegar qualquer resultado\n",
    "# job_id e conectando com o trabalho em especifico\n",
    "#preevious results\n",
    "#print(\"Insert job id:\")\n",
    "job_id = 'cw68200xa9wg008wbpw0'\n",
    "job = service.job(job_id) #previous job id (see previous job_id)\n",
    "job.status()\n",
    "result = job.result()"
   ]
  },
  {
   "cell_type": "code",
   "execution_count": 29,
   "metadata": {},
   "outputs": [
    {
     "ename": "TypeError",
     "evalue": "'PubResult' object is not subscriptable",
     "output_type": "error",
     "traceback": [
      "\u001b[0;31m---------------------------------------------------------------------------\u001b[0m",
      "\u001b[0;31mTypeError\u001b[0m                                 Traceback (most recent call last)",
      "Cell \u001b[0;32mIn[29], line 2\u001b[0m\n\u001b[1;32m      1\u001b[0m \u001b[38;5;66;03m#filter data\u001b[39;00m\n\u001b[0;32m----> 2\u001b[0m data \u001b[38;5;241m=\u001b[39m \u001b[43mresult\u001b[49m\u001b[43m[\u001b[49m\u001b[38;5;241;43m0\u001b[39;49m\u001b[43m]\u001b[49m\u001b[38;5;241m.\u001b[39mdata\u001b[38;5;241m.\u001b[39mc\u001b[38;5;241m.\u001b[39mget_counts() \n\u001b[1;32m      3\u001b[0m threshold \u001b[38;5;241m=\u001b[39m \u001b[38;5;241m15\u001b[39m\n\u001b[1;32m      4\u001b[0m filtered_data \u001b[38;5;241m=\u001b[39m {key: value \u001b[38;5;28;01mfor\u001b[39;00m key, value \u001b[38;5;129;01min\u001b[39;00m data\u001b[38;5;241m.\u001b[39mitems() \u001b[38;5;28;01mif\u001b[39;00m value \u001b[38;5;241m>\u001b[39m threshold}\n",
      "\u001b[0;31mTypeError\u001b[0m: 'PubResult' object is not subscriptable"
     ]
    }
   ],
   "source": [
    "from qiskit import IBMQ\n",
    "from qiskit.visualization import plot_histogram\n",
    "import matplotlib.pyplot as plt\n",
    "\n",
    "# Carrega a conta IBMQ\n",
    "IBMQ.load_account()\n",
    "provider = IBMQ.get_provider(hub='ibm-q')\n",
    "\n",
    "# Substitua 'JOB_ID_AQUI' pelo ID real do seu job\n",
    "job_id = 'JOB_ID_AQUI'\n",
    "job = provider.backends.retrieve_job(job_id)\n",
    "\n",
    "# Verifica o status do job\n",
    "print(f\"Status do job: {job.status()}\")\n",
    "\n",
    "# Obtém o resultado do job\n",
    "resultado = job.result()\n",
    "\n",
    "# Acessa as contagens dos resultados\n",
    "contagens = resultado.get_counts()\n",
    "\n",
    "# Exibe as contagens\n",
    "print(\"Contagens:\")\n",
    "print(contagens)\n",
    "\n",
    "# Visualiza os resultados com um histograma\n",
    "plot_histogram(contagens)\n",
    "plt.show()\n"
   ]
  },
  {
   "cell_type": "markdown",
   "metadata": {},
   "source": [
    "### 5. Visualização do método\n",
    "\n",
    "#### 5.1. Método Quântico"
   ]
  },
  {
   "cell_type": "code",
   "execution_count": 25,
   "metadata": {},
   "outputs": [
    {
     "data": {
      "image/png": "[encoded data removed]",
      "text/plain": [
       "<Figure size 454.719x367.889 with 1 Axes>"
      ]
     },
     "execution_count": 25,
     "metadata": {},
     "output_type": "execute_result"
    }
   ],
   "source": [
    "qc.draw(output='mpl')"
   ]
  }
 ],
 "metadata": {
  "kernelspec": {
   "display_name": "Python 3",
   "language": "python",
   "name": "python3"
  },
  "language_info": {
   "codemirror_mode": {
    "name": "ipython",
    "version": 3
   },
   "file_extension": ".py",
   "mimetype": "text/x-python",
   "name": "python",
   "nbconvert_exporter": "python",
   "pygments_lexer": "ipython3",
   "version": "3.11.10"
  }
 },
 "nbformat": 4,
 "nbformat_minor": 2
}
