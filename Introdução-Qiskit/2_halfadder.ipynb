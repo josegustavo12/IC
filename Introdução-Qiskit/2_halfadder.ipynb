{
 "cells": [
  {
   "cell_type": "markdown",
   "metadata": {},
   "source": [
    "# HalfAdder no Qiskit\n",
    "\n",
    "## 1° Parte: Iniciar e Configurar o backend e as credenciais"
   ]
  },
  {
   "cell_type": "code",
   "execution_count": 1,
   "metadata": {},
   "outputs": [
    {
     "name": "stdout",
     "output_type": "stream",
     "text": [
      "Requirement already satisfied: pylatexenc in c:\\users\\joseg\\anaconda3\\envs\\venv\\lib\\site-packages (2.10)\n",
      "Note: you may need to restart the kernel to use updated packages.\n",
      "Requirement already satisfied: qiskit in c:\\users\\joseg\\anaconda3\\envs\\venv\\lib\\site-packages (1.2.4)\n",
      "Requirement already satisfied: rustworkx>=0.15.0 in c:\\users\\joseg\\anaconda3\\envs\\venv\\lib\\site-packages (from qiskit) (0.15.1)\n",
      "Requirement already satisfied: numpy<3,>=1.17 in c:\\users\\joseg\\anaconda3\\envs\\venv\\lib\\site-packages (from qiskit) (2.1.2)\n",
      "Requirement already satisfied: scipy>=1.5 in c:\\users\\joseg\\anaconda3\\envs\\venv\\lib\\site-packages (from qiskit) (1.14.1)\n",
      "Requirement already satisfied: sympy>=1.3 in c:\\users\\joseg\\anaconda3\\envs\\venv\\lib\\site-packages (from qiskit) (1.13.3)\n",
      "Requirement already satisfied: dill>=0.3 in c:\\users\\joseg\\anaconda3\\envs\\venv\\lib\\site-packages (from qiskit) (0.3.9)\n",
      "Requirement already satisfied: python-dateutil>=2.8.0 in c:\\users\\joseg\\anaconda3\\envs\\venv\\lib\\site-packages (from qiskit) (2.9.0)\n",
      "Requirement already satisfied: stevedore>=3.0.0 in c:\\users\\joseg\\anaconda3\\envs\\venv\\lib\\site-packages (from qiskit) (5.3.0)\n",
      "Requirement already satisfied: typing-extensions in c:\\users\\joseg\\anaconda3\\envs\\venv\\lib\\site-packages (from qiskit) (4.12.2)\n",
      "Requirement already satisfied: symengine<0.14,>=0.11 in c:\\users\\joseg\\anaconda3\\envs\\venv\\lib\\site-packages (from qiskit) (0.13.0)\n",
      "Requirement already satisfied: six>=1.5 in c:\\users\\joseg\\anaconda3\\envs\\venv\\lib\\site-packages (from python-dateutil>=2.8.0->qiskit) (1.16.0)\n",
      "Requirement already satisfied: pbr>=2.0.0 in c:\\users\\joseg\\anaconda3\\envs\\venv\\lib\\site-packages (from stevedore>=3.0.0->qiskit) (6.1.0)\n",
      "Requirement already satisfied: mpmath<1.4,>=1.1.0 in c:\\users\\joseg\\anaconda3\\envs\\venv\\lib\\site-packages (from sympy>=1.3->qiskit) (1.3.0)\n",
      "Note: you may need to restart the kernel to use updated packages.\n",
      "Collecting qiskit-ibmq-providerNote: you may need to restart the kernel to use updated packages.\n",
      "\n",
      "  Downloading qiskit_ibmq_provider-0.20.2-py3-none-any.whl.metadata (14 kB)\n",
      "Collecting qiskit-terra>=0.18.0 (from qiskit-ibmq-provider)\n",
      "  Downloading qiskit_terra-0.46.3-cp38-abi3-win_amd64.whl.metadata (13 kB)\n",
      "Requirement already satisfied: requests>=2.19 in c:\\users\\joseg\\anaconda3\\envs\\venv\\lib\\site-packages (from qiskit-ibmq-provider) (2.32.3)\n",
      "Collecting requests-ntlm<=1.1.0 (from qiskit-ibmq-provider)\n",
      "  Downloading requests_ntlm-1.1.0-py2.py3-none-any.whl.metadata (938 bytes)\n",
      "Collecting numpy<1.24 (from qiskit-ibmq-provider)\n",
      "  Downloading numpy-1.23.5.tar.gz (10.7 MB)\n",
      "     ---------------------------------------- 0.0/10.7 MB ? eta -:--:--\n",
      "     --------------------------------- ------ 8.9/10.7 MB 50.3 MB/s eta 0:00:01\n",
      "     --------------------------------------  10.5/10.7 MB 54.7 MB/s eta 0:00:01\n",
      "     --------------------------------------  10.5/10.7 MB 54.7 MB/s eta 0:00:01\n",
      "     --------------------------------------  10.5/10.7 MB 54.7 MB/s eta 0:00:01\n",
      "     --------------------------------------- 10.7/10.7 MB 12.2 MB/s eta 0:00:00\n",
      "  Installing build dependencies: started\n",
      "  Installing build dependencies: finished with status 'done'\n",
      "  Getting requirements to build wheel: started\n",
      "  Getting requirements to build wheel: finished with status 'error'\n"
     ]
    },
    {
     "name": "stderr",
     "output_type": "stream",
     "text": [
      "  error: subprocess-exited-with-error\n",
      "  \n",
      "  × Getting requirements to build wheel did not run successfully.\n",
      "  │ exit code: 1\n",
      "  ╰─> [33 lines of output]\n",
      "      Traceback (most recent call last):\n",
      "        File \"c:\\Users\\joseg\\anaconda3\\envs\\venv\\Lib\\site-packages\\pip\\_vendor\\pyproject_hooks\\_in_process\\_in_process.py\", line 353, in <module>\n",
      "          main()\n",
      "        File \"c:\\Users\\joseg\\anaconda3\\envs\\venv\\Lib\\site-packages\\pip\\_vendor\\pyproject_hooks\\_in_process\\_in_process.py\", line 335, in main\n",
      "          json_out['return_val'] = hook(**hook_input['kwargs'])\n",
      "                                   ^^^^^^^^^^^^^^^^^^^^^^^^^^^^\n",
      "        File \"c:\\Users\\joseg\\anaconda3\\envs\\venv\\Lib\\site-packages\\pip\\_vendor\\pyproject_hooks\\_in_process\\_in_process.py\", line 112, in get_requires_for_build_wheel\n",
      "          backend = _build_backend()\n",
      "                    ^^^^^^^^^^^^^^^^\n",
      "        File \"c:\\Users\\joseg\\anaconda3\\envs\\venv\\Lib\\site-packages\\pip\\_vendor\\pyproject_hooks\\_in_process\\_in_process.py\", line 77, in _build_backend\n",
      "          obj = import_module(mod_path)\n",
      "                ^^^^^^^^^^^^^^^^^^^^^^^\n",
      "        File \"c:\\Users\\joseg\\anaconda3\\envs\\venv\\Lib\\importlib\\__init__.py\", line 90, in import_module\n",
      "          return _bootstrap._gcd_import(name[level:], package, level)\n",
      "                 ^^^^^^^^^^^^^^^^^^^^^^^^^^^^^^^^^^^^^^^^^^^^^^^^^^^^\n",
      "        File \"<frozen importlib._bootstrap>\", line 1387, in _gcd_import\n",
      "        File \"<frozen importlib._bootstrap>\", line 1360, in _find_and_load\n",
      "        File \"<frozen importlib._bootstrap>\", line 1310, in _find_and_load_unlocked\n",
      "        File \"<frozen importlib._bootstrap>\", line 488, in _call_with_frames_removed\n",
      "        File \"<frozen importlib._bootstrap>\", line 1387, in _gcd_import\n",
      "        File \"<frozen importlib._bootstrap>\", line 1360, in _find_and_load\n",
      "        File \"<frozen importlib._bootstrap>\", line 1331, in _find_and_load_unlocked\n",
      "        File \"<frozen importlib._bootstrap>\", line 935, in _load_unlocked\n",
      "        File \"<frozen importlib._bootstrap_external>\", line 995, in exec_module\n",
      "        File \"<frozen importlib._bootstrap>\", line 488, in _call_with_frames_removed\n",
      "        File \"C:\\Users\\joseg\\AppData\\Local\\Temp\\pip-build-env-gubda0oc\\overlay\\Lib\\site-packages\\setuptools\\__init__.py\", line 16, in <module>\n",
      "          import setuptools.version\n",
      "        File \"C:\\Users\\joseg\\AppData\\Local\\Temp\\pip-build-env-gubda0oc\\overlay\\Lib\\site-packages\\setuptools\\version.py\", line 1, in <module>\n",
      "          import pkg_resources\n",
      "        File \"C:\\Users\\joseg\\AppData\\Local\\Temp\\pip-build-env-gubda0oc\\overlay\\Lib\\site-packages\\pkg_resources\\__init__.py\", line 2172, in <module>\n",
      "          register_finder(pkgutil.ImpImporter, find_on_path)\n",
      "                          ^^^^^^^^^^^^^^^^^^^\n",
      "      AttributeError: module 'pkgutil' has no attribute 'ImpImporter'. Did you mean: 'zipimporter'?\n",
      "      [end of output]\n",
      "  \n",
      "  note: This error originates from a subprocess, and is likely not a problem with pip.\n",
      "error: subprocess-exited-with-error\n",
      "\n",
      "× Getting requirements to build wheel did not run successfully.\n",
      "│ exit code: 1\n",
      "╰─> See above for output.\n",
      "\n",
      "note: This error originates from a subprocess, and is likely not a problem with pip.\n"
     ]
    },
    {
     "name": "stdout",
     "output_type": "stream",
     "text": [
      "Requirement already satisfied: qiskit_aer in c:\\users\\joseg\\anaconda3\\envs\\venv\\lib\\site-packages (0.15.1)\n",
      "Requirement already satisfied: qiskit>=1.1.0 in c:\\users\\joseg\\anaconda3\\envs\\venv\\lib\\site-packages (from qiskit_aer) (1.2.4)\n",
      "Requirement already satisfied: numpy>=1.16.3 in c:\\users\\joseg\\anaconda3\\envs\\venv\\lib\\site-packages (from qiskit_aer) (2.1.2)\n",
      "Requirement already satisfied: scipy>=1.0 in c:\\users\\joseg\\anaconda3\\envs\\venv\\lib\\site-packages (from qiskit_aer) (1.14.1)\n",
      "Requirement already satisfied: psutil>=5 in c:\\users\\joseg\\anaconda3\\envs\\venv\\lib\\site-packages (from qiskit_aer) (5.9.0)\n",
      "Requirement already satisfied: rustworkx>=0.15.0 in c:\\users\\joseg\\anaconda3\\envs\\venv\\lib\\site-packages (from qiskit>=1.1.0->qiskit_aer) (0.15.1)\n",
      "Requirement already satisfied: sympy>=1.3 in c:\\users\\joseg\\anaconda3\\envs\\venv\\lib\\site-packages (from qiskit>=1.1.0->qiskit_aer) (1.13.3)\n",
      "Requirement already satisfied: dill>=0.3 in c:\\users\\joseg\\anaconda3\\envs\\venv\\lib\\site-packages (from qiskit>=1.1.0->qiskit_aer) (0.3.9)\n",
      "Requirement already satisfied: python-dateutil>=2.8.0 in c:\\users\\joseg\\anaconda3\\envs\\venv\\lib\\site-packages (from qiskit>=1.1.0->qiskit_aer) (2.9.0)\n",
      "Requirement already satisfied: stevedore>=3.0.0 in c:\\users\\joseg\\anaconda3\\envs\\venv\\lib\\site-packages (from qiskit>=1.1.0->qiskit_aer) (5.3.0)\n",
      "Requirement already satisfied: typing-extensions in c:\\users\\joseg\\anaconda3\\envs\\venv\\lib\\site-packages (from qiskit>=1.1.0->qiskit_aer) (4.12.2)\n",
      "Requirement already satisfied: symengine<0.14,>=0.11 in c:\\users\\joseg\\anaconda3\\envs\\venv\\lib\\site-packages (from qiskit>=1.1.0->qiskit_aer) (0.13.0)\n",
      "Requirement already satisfied: six>=1.5 in c:\\users\\joseg\\anaconda3\\envs\\venv\\lib\\site-packages (from python-dateutil>=2.8.0->qiskit>=1.1.0->qiskit_aer) (1.16.0)\n",
      "Requirement already satisfied: pbr>=2.0.0 in c:\\users\\joseg\\anaconda3\\envs\\venv\\lib\\site-packages (from stevedore>=3.0.0->qiskit>=1.1.0->qiskit_aer) (6.1.0)\n",
      "Requirement already satisfied: mpmath<1.4,>=1.1.0 in c:\\users\\joseg\\anaconda3\\envs\\venv\\lib\\site-packages (from sympy>=1.3->qiskit>=1.1.0->qiskit_aer) (1.3.0)\n",
      "Note: you may need to restart the kernel to use updated packages.\n",
      "Requirement already satisfied: qiskit_ibm_runtime in c:\\users\\joseg\\anaconda3\\envs\\venv\\lib\\site-packages (0.30.0)\n",
      "Requirement already satisfied: requests>=2.19 in c:\\users\\joseg\\anaconda3\\envs\\venv\\lib\\site-packages (from qiskit_ibm_runtime) (2.32.3)\n",
      "Requirement already satisfied: requests-ntlm>=1.1.0 in c:\\users\\joseg\\anaconda3\\envs\\venv\\lib\\site-packages (from qiskit_ibm_runtime) (1.3.0)\n",
      "Requirement already satisfied: numpy>=1.13 in c:\\users\\joseg\\anaconda3\\envs\\venv\\lib\\site-packages (from qiskit_ibm_runtime) (2.1.2)\n",
      "Requirement already satisfied: urllib3>=1.21.1 in c:\\users\\joseg\\anaconda3\\envs\\venv\\lib\\site-packages (from qiskit_ibm_runtime) (2.2.3)\n",
      "Requirement already satisfied: python-dateutil>=2.8.0 in c:\\users\\joseg\\anaconda3\\envs\\venv\\lib\\site-packages (from qiskit_ibm_runtime) (2.9.0)\n",
      "Requirement already satisfied: websocket-client>=1.5.1 in c:\\users\\joseg\\anaconda3\\envs\\venv\\lib\\site-packages (from qiskit_ibm_runtime) (1.8.0)\n",
      "Requirement already satisfied: ibm-platform-services>=0.22.6 in c:\\users\\joseg\\anaconda3\\envs\\venv\\lib\\site-packages (from qiskit_ibm_runtime) (0.57.1)\n",
      "Requirement already satisfied: pydantic>=2.5.0 in c:\\users\\joseg\\anaconda3\\envs\\venv\\lib\\site-packages (from qiskit_ibm_runtime) (2.9.2)\n",
      "Requirement already satisfied: qiskit>=1.1.0 in c:\\users\\joseg\\anaconda3\\envs\\venv\\lib\\site-packages (from qiskit_ibm_runtime) (1.2.4)\n",
      "Requirement already satisfied: ibm-cloud-sdk-core<4.0.0,>=3.21.0 in c:\\users\\joseg\\anaconda3\\envs\\venv\\lib\\site-packages (from ibm-platform-services>=0.22.6->qiskit_ibm_runtime) (3.21.0)\n",
      "Requirement already satisfied: annotated-types>=0.6.0 in c:\\users\\joseg\\anaconda3\\envs\\venv\\lib\\site-packages (from pydantic>=2.5.0->qiskit_ibm_runtime) (0.7.0)\n",
      "Requirement already satisfied: pydantic-core==2.23.4 in c:\\users\\joseg\\anaconda3\\envs\\venv\\lib\\site-packages (from pydantic>=2.5.0->qiskit_ibm_runtime) (2.23.4)\n",
      "Requirement already satisfied: typing-extensions>=4.6.1 in c:\\users\\joseg\\anaconda3\\envs\\venv\\lib\\site-packages (from pydantic>=2.5.0->qiskit_ibm_runtime) (4.12.2)\n",
      "Requirement already satisfied: six>=1.5 in c:\\users\\joseg\\anaconda3\\envs\\venv\\lib\\site-packages (from python-dateutil>=2.8.0->qiskit_ibm_runtime) (1.16.0)\n",
      "Requirement already satisfied: rustworkx>=0.15.0 in c:\\users\\joseg\\anaconda3\\envs\\venv\\lib\\site-packages (from qiskit>=1.1.0->qiskit_ibm_runtime) (0.15.1)\n",
      "Requirement already satisfied: scipy>=1.5 in c:\\users\\joseg\\anaconda3\\envs\\venv\\lib\\site-packages (from qiskit>=1.1.0->qiskit_ibm_runtime) (1.14.1)\n",
      "Requirement already satisfied: sympy>=1.3 in c:\\users\\joseg\\anaconda3\\envs\\venv\\lib\\site-packages (from qiskit>=1.1.0->qiskit_ibm_runtime) (1.13.3)\n",
      "Requirement already satisfied: dill>=0.3 in c:\\users\\joseg\\anaconda3\\envs\\venv\\lib\\site-packages (from qiskit>=1.1.0->qiskit_ibm_runtime) (0.3.9)\n",
      "Requirement already satisfied: stevedore>=3.0.0 in c:\\users\\joseg\\anaconda3\\envs\\venv\\lib\\site-packages (from qiskit>=1.1.0->qiskit_ibm_runtime) (5.3.0)\n",
      "Requirement already satisfied: symengine<0.14,>=0.11 in c:\\users\\joseg\\anaconda3\\envs\\venv\\lib\\site-packages (from qiskit>=1.1.0->qiskit_ibm_runtime) (0.13.0)\n",
      "Requirement already satisfied: charset-normalizer<4,>=2 in c:\\users\\joseg\\anaconda3\\envs\\venv\\lib\\site-packages (from requests>=2.19->qiskit_ibm_runtime) (3.4.0)\n",
      "Requirement already satisfied: idna<4,>=2.5 in c:\\users\\joseg\\anaconda3\\envs\\venv\\lib\\site-packages (from requests>=2.19->qiskit_ibm_runtime) (3.10)\n",
      "Requirement already satisfied: certifi>=2017.4.17 in c:\\users\\joseg\\anaconda3\\envs\\venv\\lib\\site-packages (from requests>=2.19->qiskit_ibm_runtime) (2024.8.30)\n",
      "Requirement already satisfied: cryptography>=1.3 in c:\\users\\joseg\\anaconda3\\envs\\venv\\lib\\site-packages (from requests-ntlm>=1.1.0->qiskit_ibm_runtime) (43.0.1)\n",
      "Requirement already satisfied: pyspnego>=0.4.0 in c:\\users\\joseg\\anaconda3\\envs\\venv\\lib\\site-packages (from requests-ntlm>=1.1.0->qiskit_ibm_runtime) (0.11.1)\n",
      "Requirement already satisfied: cffi>=1.12 in c:\\users\\joseg\\anaconda3\\envs\\venv\\lib\\site-packages (from cryptography>=1.3->requests-ntlm>=1.1.0->qiskit_ibm_runtime) (1.17.1)\n",
      "Requirement already satisfied: PyJWT<3.0.0,>=2.8.0 in c:\\users\\joseg\\anaconda3\\envs\\venv\\lib\\site-packages (from ibm-cloud-sdk-core<4.0.0,>=3.21.0->ibm-platform-services>=0.22.6->qiskit_ibm_runtime) (2.9.0)\n",
      "Requirement already satisfied: sspilib>=0.1.0 in c:\\users\\joseg\\anaconda3\\envs\\venv\\lib\\site-packages (from pyspnego>=0.4.0->requests-ntlm>=1.1.0->qiskit_ibm_runtime) (0.2.0)\n",
      "Requirement already satisfied: pbr>=2.0.0 in c:\\users\\joseg\\anaconda3\\envs\\venv\\lib\\site-packages (from stevedore>=3.0.0->qiskit>=1.1.0->qiskit_ibm_runtime) (6.1.0)\n",
      "Requirement already satisfied: mpmath<1.4,>=1.1.0 in c:\\users\\joseg\\anaconda3\\envs\\venv\\lib\\site-packages (from sympy>=1.3->qiskit>=1.1.0->qiskit_ibm_runtime) (1.3.0)\n",
      "Requirement already satisfied: pycparser in c:\\users\\joseg\\anaconda3\\envs\\venv\\lib\\site-packages (from cffi>=1.12->cryptography>=1.3->requests-ntlm>=1.1.0->qiskit_ibm_runtime) (2.22)\n",
      "Note: you may need to restart the kernel to use updated packages.\n",
      "Requirement already satisfied: matplotlib in c:\\users\\joseg\\anaconda3\\envs\\venv\\lib\\site-packages (3.9.2)\n",
      "Requirement already satisfied: contourpy>=1.0.1 in c:\\users\\joseg\\anaconda3\\envs\\venv\\lib\\site-packages (from matplotlib) (1.3.0)\n",
      "Requirement already satisfied: cycler>=0.10 in c:\\users\\joseg\\anaconda3\\envs\\venv\\lib\\site-packages (from matplotlib) (0.12.1)\n",
      "Requirement already satisfied: fonttools>=4.22.0 in c:\\users\\joseg\\anaconda3\\envs\\venv\\lib\\site-packages (from matplotlib) (4.54.1)\n",
      "Requirement already satisfied: kiwisolver>=1.3.1 in c:\\users\\joseg\\anaconda3\\envs\\venv\\lib\\site-packages (from matplotlib) (1.4.7)\n",
      "Requirement already satisfied: numpy>=1.23 in c:\\users\\joseg\\anaconda3\\envs\\venv\\lib\\site-packages (from matplotlib) (2.1.2)\n",
      "Requirement already satisfied: packaging>=20.0 in c:\\users\\joseg\\anaconda3\\envs\\venv\\lib\\site-packages (from matplotlib) (24.1)\n",
      "Requirement already satisfied: pillow>=8 in c:\\users\\joseg\\anaconda3\\envs\\venv\\lib\\site-packages (from matplotlib) (10.4.0)\n",
      "Requirement already satisfied: pyparsing>=2.3.1 in c:\\users\\joseg\\anaconda3\\envs\\venv\\lib\\site-packages (from matplotlib) (3.1.4)\n",
      "Requirement already satisfied: python-dateutil>=2.7 in c:\\users\\joseg\\anaconda3\\envs\\venv\\lib\\site-packages (from matplotlib) (2.9.0)\n",
      "Requirement already satisfied: six>=1.5 in c:\\users\\joseg\\anaconda3\\envs\\venv\\lib\\site-packages (from python-dateutil>=2.7->matplotlib) (1.16.0)\n",
      "Note: you may need to restart the kernel to use updated packages.\n"
     ]
    }
   ],
   "source": [
    "# Instalando os requisitos\n",
    "# Não é necessário caso o env já tenha as bibliotecas\n",
    "%pip install pylatexenc\n",
    "%pip install qiskit\n",
    "%pip install qiskit-ibmq-provider\n",
    "%pip install qiskit_aer\n",
    "%pip install qiskit_ibm_runtime\n",
    "%pip install matplotlib"
   ]
  },
  {
   "cell_type": "code",
   "execution_count": 2,
   "metadata": {},
   "outputs": [
    {
     "data": {
      "text/plain": [
       "'1.2.4'"
      ]
     },
     "execution_count": 2,
     "metadata": {},
     "output_type": "execute_result"
    }
   ],
   "source": [
    "import qiskit\n",
    "qiskit.__version__"
   ]
  },
  {
   "cell_type": "code",
   "execution_count": 3,
   "metadata": {},
   "outputs": [],
   "source": [
    "# Importando as bibliotecas\n",
    "\n",
    "from qiskit import QuantumCircuit, transpile\n",
    "from qiskit_ibm_runtime import QiskitRuntimeService\n",
    "from qiskit_aer import AerSimulator\n",
    "from qiskit.visualization import plot_histogram\n",
    "import matplotlib.pyplot as plt\n",
    "import numpy as np\n",
    "\n"
   ]
  },
  {
   "cell_type": "code",
   "execution_count": 4,
   "metadata": {},
   "outputs": [],
   "source": [
    "# Parametros da função 'QiskitRuntimeService'\n",
    "# channel -> especifica qual canal de serviço está sendo utilizado, No caso, 'ibm_quantum' significa que você está se conectando ao IBM Quantum, o serviço de computação quântica em nuvem da IBM.\n",
    "# token -> seu token de acesso \n",
    "\n",
    "token_str = ''\n",
    "service = QiskitRuntimeService(channel='ibm_quantum', # cloud ibm\n",
    "                               token=token_str)"
   ]
  },
  {
   "cell_type": "code",
   "execution_count": 5,
   "metadata": {},
   "outputs": [],
   "source": [
    "QiskitRuntimeService.save_account(\n",
    "    channel=\"ibm_quantum\",\n",
    "    token=token_str,\n",
    "    set_as_default=True,\n",
    "    # Use `overwrite=True` if you're updating your token.\n",
    "    overwrite=True,\n",
    ")\n",
    " \n",
    "# Load saved credentials\n",
    "service = QiskitRuntimeService()"
   ]
  },
  {
   "cell_type": "code",
   "execution_count": 11,
   "metadata": {},
   "outputs": [],
   "source": [
    "# Conectando ao backend\n",
    "\n",
    "backend = service.backend(name= \"ibm_brisbane\")"
   ]
  },
  {
   "cell_type": "markdown",
   "metadata": {},
   "source": [
    "# 2° Parte: Criar, Simular e Executar\n",
    "\n",
    "### 1. Método Clássico:\n",
    "\n",
    "\n",
    "![Half Adder](data/Half_Adder.png)\n",
    "\n",
    "Nesse método, utiliza uma porta XOR para fazer a soma do Bit A e do Bit B e caso A = 1 e B = 1, a porta AND vai somar 1 no carry. Há diversas formas de trabalhar com o carry que vou mostrar depois\n",
    "\n",
    "### 2. Método Quantico: \n",
    "\n",
    "#### 2.1. Configuração do Circuito: \n",
    "Para iniciar o circuito precisamos declarar 3 Qubits, 2 Qubits de entrada (A e B) e 1 Qubit para o Carry (vai-um) e alguns bits clássicos correspondentes para armazenar o resultado\n",
    "\n",
    "#### 2.2. Definição dos dados de entrada\n",
    "Vamos utilizar **portas X** ou *x-gates* para definir os estados de entrada de A e B, permitindo testar todas as combinações (00, 01, 10, 11). \n",
    "A **porta x** equivale a *NOT* quântica, ou seja, inverte o estado do qubit.\n",
    "\n",
    "#### 2.3. Implementação da porta XOR para realizar a soma\n",
    "Usaremos a **porta CNOT** para realizar a operação de A ⊕ B\n",
    "* Controle no qubit A e alvo no qubit B.\n",
    "* O resultado da soma será armazenado no qubit B.\n",
    "\n",
    "#### 2.4. Implementação da porta AND para armazenar o Carry\n",
    "Usaremos a **porta toffoli** que é o equivalente ao **AND** e irá armazenar no Qubit auxiliar\n",
    "\n"
   ]
  },
  {
   "cell_type": "code",
   "execution_count": 30,
   "metadata": {},
   "outputs": [
    {
     "data": {
      "text/plain": [
       "<qiskit.circuit.instructionset.InstructionSet at 0x1fe7bde4ca0>"
      ]
     },
     "execution_count": 30,
     "metadata": {},
     "output_type": "execute_result"
    }
   ],
   "source": [
    "# Implementação do halfadder\n",
    "\n",
    "qc = QuantumCircuit(3, 2) # declarando 3 qubits e 2 bits clássicos\n",
    "\n",
    "qc.x(0) # Define A = 1\n",
    "qc.x(1) # Define B = 1\n",
    "# para usar outras combinações é so não aplicar a porta x\n",
    "\n",
    "qc.ccx(0, 1, 2) # (controle1, controle2, alvo)\n",
    "# Aplicando a porta toffoli e armazenando o resultado da operação no alvo ou qubit 2\n",
    "\n",
    "qc.cx(0, 1) # (controle, alvo)\n",
    "# Aplicando a porta CNOT (XOR) ao bit 0 e 1, no qual o qubit 1 vai armazenar a soma\n",
    "\n",
    "qc.measure(1, 0)  # Soma (S)\n",
    "qc.measure(2, 1)  # Carry (C)\n",
    "# Medimos o qubit 1 (soma) e armazenamos o resultado no bit clássico 0.\n",
    "# Medimos o qubit 2 (carry) e armazenamos o resultado no bit clássico 1."
   ]
  },
  {
   "cell_type": "markdown",
   "metadata": {},
   "source": [
    "### 3. Simulação dos métodos"
   ]
  },
  {
   "cell_type": "code",
   "execution_count": 14,
   "metadata": {},
   "outputs": [
    {
     "name": "stdout",
     "output_type": "stream",
     "text": [
      "Resultados da simulação:\n",
      "{'10': 1024}\n"
     ]
    },
    {
     "data": {
      "image/png": "[encoded data removed]",
      "text/plain": [
       "<Figure size 640x480 with 1 Axes>"
      ]
     },
     "execution_count": 14,
     "metadata": {},
     "output_type": "execute_result"
    }
   ],
   "source": [
    "# Seleciona o simulador AerSimulator\n",
    "simulador = AerSimulator()\n",
    "\n",
    "# Transpila o Circuito para o backend escolhido (nesse caso o brisbane)\n",
    "qc_transpilado = transpile(qc, simulador)\n",
    "\n",
    "# Executa o circuito no simulador com 1024 execuções (shots)\n",
    "job = simulador.run(qc_transpilado, shots=1024)\n",
    "\n",
    "# Obtém os resultados\n",
    "resultado = job.result()\n",
    "\n",
    "# Obtém a contagem dos resultados\n",
    "contagens = resultado.get_counts(qc_transpilado)\n",
    "\n",
    "# Exibe os resultados\n",
    "print(\"Resultados da simulação:\")\n",
    "print(contagens)\n",
    "\n",
    "plot_histogram(contagens)\n"
   ]
  },
  {
   "cell_type": "markdown",
   "metadata": {},
   "source": [
    "### 4. Execução do método\n",
    "\n",
    "#### 4.1. Método Quântico\n",
    "\n",
    "#### 4.1.1. Execução\n"
   ]
  },
  {
   "cell_type": "code",
   "execution_count": 32,
   "metadata": {},
   "outputs": [
    {
     "name": "stderr",
     "output_type": "stream",
     "text": [
      "C:\\Users\\joseg\\AppData\\Local\\Temp\\ipykernel_2488\\1570877220.py:2: DeprecationWarning: backend.run() and related sessions methods are deprecated  as of qiskit-ibm-runtime 0.23 and will be removed no sooner than 6 months after the release date. More details can be found in the primitives migration guide https://docs.quantum.ibm.com/migration-guides/qiskit-runtime.\n",
      "  job = backend.run(qc_transpilado, shots=1024) # Executando no backend\n"
     ]
    }
   ],
   "source": [
    "qc_transpilado = transpile(qc, backend, optimization_level=3)# Transpilando para o backend em especifico\n",
    "job = backend.run(qc_transpilado, shots=1024) # Executando no backend"
   ]
  },
  {
   "cell_type": "markdown",
   "metadata": {},
   "source": [
    "#### 4.1.2. Resultados"
   ]
  },
  {
   "cell_type": "code",
   "execution_count": 6,
   "metadata": {},
   "outputs": [],
   "source": [
    "# Código generico para pegar qualquer resultado\n",
    "# job_id e conectando com o trabalho em especifico\n",
    "#preevious results\n",
    "job = service.job('cw6z195bhxtg008wdjz0')\n",
    "job_result = job.result()"
   ]
  },
  {
   "cell_type": "code",
   "execution_count": 35,
   "metadata": {},
   "outputs": [
    {
     "name": "stdout",
     "output_type": "stream",
     "text": [
      "{'0x1': 24, '0x0': 30, '0x2': 937, '0x3': 33}\n"
     ]
    }
   ],
   "source": [
    "# Obtendo resultados, um dicionario com as ocorrencias\n",
    "\n",
    "data = job_result # Objeto do resultado\n",
    "threshold = 0\n",
    "resultados = data.results[0].data.counts\n",
    "print(resultados)"
   ]
  },
  {
   "cell_type": "code",
   "execution_count": 70,
   "metadata": {},
   "outputs": [
    {
     "data": {
      "image/png": "[encoded data removed]",
      "text/plain": [
       "<Figure size 800x600 with 1 Axes>"
      ]
     },
     "metadata": {},
     "output_type": "display_data"
    }
   ],
   "source": [
    "data_bin = {format(int(k, 16), '02b'): v for k, v in resultados.items()}\n",
    "\n",
    "# Separar as chaves e valores\n",
    "keys = list(data_bin.keys())\n",
    "values = list(data_bin.values())\n",
    "color = ['green' if k == bin(0x2)[2:] else 'blue' for k in data_bin.keys()]\n",
    "\n",
    "\n",
    "# Plotar o gráfico de barras com os números binários formatados e os valores sobre as barras\n",
    "plt.figure(figsize=(8, 6))\n",
    "bars = plt.bar(keys, values, color=color)\n",
    "\n",
    "# Adicionar os valores no topo de cada barra\n",
    "for bar, value in zip(bars, values):\n",
    "    plt.text(bar.get_x() + bar.get_width() / 2, bar.get_height(), str(value),\n",
    "             ha='center', va='bottom', color='black', fontweight='bold')\n",
    "\n",
    "plt.title(\"Gráfico de um HalfAdder e as Ocorrências dos seus resultados\")\n",
    "plt.xlabel(\"Estados (binários)\")\n",
    "plt.ylabel(\"Contagens\")\n",
    "plt.show()\n"
   ]
  },
  {
   "cell_type": "markdown",
   "metadata": {},
   "source": [
    "### 5. Visualização do método\n",
    "\n",
    "#### 5.1. Método Quântico"
   ]
  },
  {
   "cell_type": "code",
   "execution_count": 34,
   "metadata": {},
   "outputs": [
    {
     "data": {
      "image/png": "[encoded data removed]",
      "text/plain": [
       "<Figure size 454.719x367.889 with 1 Axes>"
      ]
     },
     "execution_count": 34,
     "metadata": {},
     "output_type": "execute_result"
    }
   ],
   "source": [
    "qc.draw(output='mpl')\n",
    "#qc_transpilado.draw(output='mpl')"
   ]
  }
 ],
 "metadata": {
  "kernelspec": {
   "display_name": "venv",
   "language": "python",
   "name": "python3"
  },
  "language_info": {
   "codemirror_mode": {
    "name": "ipython",
    "version": 3
   },
   "file_extension": ".py",
   "mimetype": "text/x-python",
   "name": "python",
   "nbconvert_exporter": "python",
   "pygments_lexer": "ipython3",
   "version": "3.12.7"
  }
 },
 "nbformat": 4,
 "nbformat_minor": 2
}
