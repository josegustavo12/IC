{
 "cells": [
  {
   "cell_type": "markdown",
   "metadata": {},
   "source": [
    "# $n$-FullAdder no Qiskit\n",
    "\n",
    "## 1° Parte: Iniciar e Configurar o backend e as credenciais"
   ]
  },
  {
   "cell_type": "code",
   "execution_count": 1,
   "metadata": {},
   "outputs": [
    {
     "name": "stdout",
     "output_type": "stream",
     "text": [
      "Requirement already satisfied: pylatexenc in c:\\users\\joseg\\anaconda3\\envs\\venv\\lib\\site-packages (2.10)\n",
      "Note: you may need to restart the kernel to use updated packages.\n",
      "Requirement already satisfied: qiskit in c:\\users\\joseg\\anaconda3\\envs\\venv\\lib\\site-packages (1.2.4)\n",
      "Requirement already satisfied: rustworkx>=0.15.0 in c:\\users\\joseg\\anaconda3\\envs\\venv\\lib\\site-packages (from qiskit) (0.15.1)\n",
      "Requirement already satisfied: numpy<3,>=1.17 in c:\\users\\joseg\\anaconda3\\envs\\venv\\lib\\site-packages (from qiskit) (2.1.2)\n",
      "Requirement already satisfied: scipy>=1.5 in c:\\users\\joseg\\anaconda3\\envs\\venv\\lib\\site-packages (from qiskit) (1.14.1)\n",
      "Requirement already satisfied: sympy>=1.3 in c:\\users\\joseg\\anaconda3\\envs\\venv\\lib\\site-packages (from qiskit) (1.13.3)\n",
      "Requirement already satisfied: dill>=0.3 in c:\\users\\joseg\\anaconda3\\envs\\venv\\lib\\site-packages (from qiskit) (0.3.9)\n",
      "Requirement already satisfied: python-dateutil>=2.8.0 in c:\\users\\joseg\\anaconda3\\envs\\venv\\lib\\site-packages (from qiskit) (2.9.0)\n",
      "Requirement already satisfied: stevedore>=3.0.0 in c:\\users\\joseg\\anaconda3\\envs\\venv\\lib\\site-packages (from qiskit) (5.3.0)\n",
      "Requirement already satisfied: typing-extensions in c:\\users\\joseg\\anaconda3\\envs\\venv\\lib\\site-packages (from qiskit) (4.12.2)\n",
      "Requirement already satisfied: symengine<0.14,>=0.11 in c:\\users\\joseg\\anaconda3\\envs\\venv\\lib\\site-packages (from qiskit) (0.13.0)\n",
      "Requirement already satisfied: six>=1.5 in c:\\users\\joseg\\anaconda3\\envs\\venv\\lib\\site-packages (from python-dateutil>=2.8.0->qiskit) (1.16.0)\n",
      "Requirement already satisfied: pbr>=2.0.0 in c:\\users\\joseg\\anaconda3\\envs\\venv\\lib\\site-packages (from stevedore>=3.0.0->qiskit) (6.1.0)\n",
      "Requirement already satisfied: mpmath<1.4,>=1.1.0 in c:\\users\\joseg\\anaconda3\\envs\\venv\\lib\\site-packages (from sympy>=1.3->qiskit) (1.3.0)\n",
      "Note: you may need to restart the kernel to use updated packages.\n",
      "Collecting qiskit-ibmq-providerNote: you may need to restart the kernel to use updated packages.\n",
      "\n",
      "  Using cached qiskit_ibmq_provider-0.20.2-py3-none-any.whl.metadata (14 kB)\n",
      "Collecting qiskit-terra>=0.18.0 (from qiskit-ibmq-provider)\n",
      "  Using cached qiskit_terra-0.46.3-cp38-abi3-win_amd64.whl.metadata (13 kB)\n",
      "Requirement already satisfied: requests>=2.19 in c:\\users\\joseg\\anaconda3\\envs\\venv\\lib\\site-packages (from qiskit-ibmq-provider) (2.32.3)\n",
      "Collecting requests-ntlm<=1.1.0 (from qiskit-ibmq-provider)\n",
      "  Using cached requests_ntlm-1.1.0-py2.py3-none-any.whl.metadata (938 bytes)\n",
      "Collecting numpy<1.24 (from qiskit-ibmq-provider)\n",
      "  Using cached numpy-1.23.5.tar.gz (10.7 MB)\n",
      "  Installing build dependencies: started\n",
      "  Installing build dependencies: finished with status 'done'\n",
      "  Getting requirements to build wheel: started\n",
      "  Getting requirements to build wheel: finished with status 'error'\n"
     ]
    },
    {
     "name": "stderr",
     "output_type": "stream",
     "text": [
      "  error: subprocess-exited-with-error\n",
      "  \n",
      "  × Getting requirements to build wheel did not run successfully.\n",
      "  │ exit code: 1\n",
      "  ╰─> [33 lines of output]\n",
      "      Traceback (most recent call last):\n",
      "        File \"c:\\Users\\joseg\\anaconda3\\envs\\venv\\Lib\\site-packages\\pip\\_vendor\\pyproject_hooks\\_in_process\\_in_process.py\", line 353, in <module>\n",
      "          main()\n",
      "        File \"c:\\Users\\joseg\\anaconda3\\envs\\venv\\Lib\\site-packages\\pip\\_vendor\\pyproject_hooks\\_in_process\\_in_process.py\", line 335, in main\n",
      "          json_out['return_val'] = hook(**hook_input['kwargs'])\n",
      "                                   ^^^^^^^^^^^^^^^^^^^^^^^^^^^^\n",
      "        File \"c:\\Users\\joseg\\anaconda3\\envs\\venv\\Lib\\site-packages\\pip\\_vendor\\pyproject_hooks\\_in_process\\_in_process.py\", line 112, in get_requires_for_build_wheel\n",
      "          backend = _build_backend()\n",
      "                    ^^^^^^^^^^^^^^^^\n",
      "        File \"c:\\Users\\joseg\\anaconda3\\envs\\venv\\Lib\\site-packages\\pip\\_vendor\\pyproject_hooks\\_in_process\\_in_process.py\", line 77, in _build_backend\n",
      "          obj = import_module(mod_path)\n",
      "                ^^^^^^^^^^^^^^^^^^^^^^^\n",
      "        File \"c:\\Users\\joseg\\anaconda3\\envs\\venv\\Lib\\importlib\\__init__.py\", line 90, in import_module\n",
      "          return _bootstrap._gcd_import(name[level:], package, level)\n",
      "                 ^^^^^^^^^^^^^^^^^^^^^^^^^^^^^^^^^^^^^^^^^^^^^^^^^^^^\n",
      "        File \"<frozen importlib._bootstrap>\", line 1387, in _gcd_import\n",
      "        File \"<frozen importlib._bootstrap>\", line 1360, in _find_and_load\n",
      "        File \"<frozen importlib._bootstrap>\", line 1310, in _find_and_load_unlocked\n",
      "        File \"<frozen importlib._bootstrap>\", line 488, in _call_with_frames_removed\n",
      "        File \"<frozen importlib._bootstrap>\", line 1387, in _gcd_import\n",
      "        File \"<frozen importlib._bootstrap>\", line 1360, in _find_and_load\n",
      "        File \"<frozen importlib._bootstrap>\", line 1331, in _find_and_load_unlocked\n",
      "        File \"<frozen importlib._bootstrap>\", line 935, in _load_unlocked\n",
      "        File \"<frozen importlib._bootstrap_external>\", line 995, in exec_module\n",
      "        File \"<frozen importlib._bootstrap>\", line 488, in _call_with_frames_removed\n",
      "        File \"C:\\Users\\joseg\\AppData\\Local\\Temp\\pip-build-env-i4f4au9k\\overlay\\Lib\\site-packages\\setuptools\\__init__.py\", line 16, in <module>\n",
      "          import setuptools.version\n",
      "        File \"C:\\Users\\joseg\\AppData\\Local\\Temp\\pip-build-env-i4f4au9k\\overlay\\Lib\\site-packages\\setuptools\\version.py\", line 1, in <module>\n",
      "          import pkg_resources\n",
      "        File \"C:\\Users\\joseg\\AppData\\Local\\Temp\\pip-build-env-i4f4au9k\\overlay\\Lib\\site-packages\\pkg_resources\\__init__.py\", line 2172, in <module>\n",
      "          register_finder(pkgutil.ImpImporter, find_on_path)\n",
      "                          ^^^^^^^^^^^^^^^^^^^\n",
      "      AttributeError: module 'pkgutil' has no attribute 'ImpImporter'. Did you mean: 'zipimporter'?\n",
      "      [end of output]\n",
      "  \n",
      "  note: This error originates from a subprocess, and is likely not a problem with pip.\n",
      "error: subprocess-exited-with-error\n",
      "\n",
      "× Getting requirements to build wheel did not run successfully.\n",
      "│ exit code: 1\n",
      "╰─> See above for output.\n",
      "\n",
      "note: This error originates from a subprocess, and is likely not a problem with pip.\n"
     ]
    },
    {
     "name": "stdout",
     "output_type": "stream",
     "text": [
      "Requirement already satisfied: qiskit_aer in c:\\users\\joseg\\anaconda3\\envs\\venv\\lib\\site-packages (0.15.1)Note: you may need to restart the kernel to use updated packages.\n",
      "\n",
      "Requirement already satisfied: qiskit>=1.1.0 in c:\\users\\joseg\\anaconda3\\envs\\venv\\lib\\site-packages (from qiskit_aer) (1.2.4)\n",
      "Requirement already satisfied: numpy>=1.16.3 in c:\\users\\joseg\\anaconda3\\envs\\venv\\lib\\site-packages (from qiskit_aer) (2.1.2)\n",
      "Requirement already satisfied: scipy>=1.0 in c:\\users\\joseg\\anaconda3\\envs\\venv\\lib\\site-packages (from qiskit_aer) (1.14.1)\n",
      "Requirement already satisfied: psutil>=5 in c:\\users\\joseg\\anaconda3\\envs\\venv\\lib\\site-packages (from qiskit_aer) (5.9.0)\n",
      "Requirement already satisfied: rustworkx>=0.15.0 in c:\\users\\joseg\\anaconda3\\envs\\venv\\lib\\site-packages (from qiskit>=1.1.0->qiskit_aer) (0.15.1)\n",
      "Requirement already satisfied: sympy>=1.3 in c:\\users\\joseg\\anaconda3\\envs\\venv\\lib\\site-packages (from qiskit>=1.1.0->qiskit_aer) (1.13.3)\n",
      "Requirement already satisfied: dill>=0.3 in c:\\users\\joseg\\anaconda3\\envs\\venv\\lib\\site-packages (from qiskit>=1.1.0->qiskit_aer) (0.3.9)\n",
      "Requirement already satisfied: python-dateutil>=2.8.0 in c:\\users\\joseg\\anaconda3\\envs\\venv\\lib\\site-packages (from qiskit>=1.1.0->qiskit_aer) (2.9.0)\n",
      "Requirement already satisfied: stevedore>=3.0.0 in c:\\users\\joseg\\anaconda3\\envs\\venv\\lib\\site-packages (from qiskit>=1.1.0->qiskit_aer) (5.3.0)\n",
      "Requirement already satisfied: typing-extensions in c:\\users\\joseg\\anaconda3\\envs\\venv\\lib\\site-packages (from qiskit>=1.1.0->qiskit_aer) (4.12.2)\n",
      "Requirement already satisfied: symengine<0.14,>=0.11 in c:\\users\\joseg\\anaconda3\\envs\\venv\\lib\\site-packages (from qiskit>=1.1.0->qiskit_aer) (0.13.0)\n",
      "Requirement already satisfied: six>=1.5 in c:\\users\\joseg\\anaconda3\\envs\\venv\\lib\\site-packages (from python-dateutil>=2.8.0->qiskit>=1.1.0->qiskit_aer) (1.16.0)\n",
      "Requirement already satisfied: pbr>=2.0.0 in c:\\users\\joseg\\anaconda3\\envs\\venv\\lib\\site-packages (from stevedore>=3.0.0->qiskit>=1.1.0->qiskit_aer) (6.1.0)\n",
      "Requirement already satisfied: mpmath<1.4,>=1.1.0 in c:\\users\\joseg\\anaconda3\\envs\\venv\\lib\\site-packages (from sympy>=1.3->qiskit>=1.1.0->qiskit_aer) (1.3.0)\n",
      "Requirement already satisfied: qiskit_ibm_runtime in c:\\users\\joseg\\anaconda3\\envs\\venv\\lib\\site-packages (0.30.0)\n",
      "Requirement already satisfied: requests>=2.19 in c:\\users\\joseg\\anaconda3\\envs\\venv\\lib\\site-packages (from qiskit_ibm_runtime) (2.32.3)\n",
      "Requirement already satisfied: requests-ntlm>=1.1.0 in c:\\users\\joseg\\anaconda3\\envs\\venv\\lib\\site-packages (from qiskit_ibm_runtime) (1.3.0)\n",
      "Requirement already satisfied: numpy>=1.13 in c:\\users\\joseg\\anaconda3\\envs\\venv\\lib\\site-packages (from qiskit_ibm_runtime) (2.1.2)\n",
      "Requirement already satisfied: urllib3>=1.21.1 in c:\\users\\joseg\\anaconda3\\envs\\venv\\lib\\site-packages (from qiskit_ibm_runtime) (2.2.3)\n",
      "Requirement already satisfied: python-dateutil>=2.8.0 in c:\\users\\joseg\\anaconda3\\envs\\venv\\lib\\site-packages (from qiskit_ibm_runtime) (2.9.0)\n",
      "Requirement already satisfied: websocket-client>=1.5.1 in c:\\users\\joseg\\anaconda3\\envs\\venv\\lib\\site-packages (from qiskit_ibm_runtime) (1.8.0)\n",
      "Requirement already satisfied: ibm-platform-services>=0.22.6 in c:\\users\\joseg\\anaconda3\\envs\\venv\\lib\\site-packages (from qiskit_ibm_runtime) (0.57.1)\n",
      "Requirement already satisfied: pydantic>=2.5.0 in c:\\users\\joseg\\anaconda3\\envs\\venv\\lib\\site-packages (from qiskit_ibm_runtime) (2.9.2)\n",
      "Requirement already satisfied: qiskit>=1.1.0 in c:\\users\\joseg\\anaconda3\\envs\\venv\\lib\\site-packages (from qiskit_ibm_runtime) (1.2.4)\n",
      "Requirement already satisfied: ibm-cloud-sdk-core<4.0.0,>=3.21.0 in c:\\users\\joseg\\anaconda3\\envs\\venv\\lib\\site-packages (from ibm-platform-services>=0.22.6->qiskit_ibm_runtime) (3.21.0)\n",
      "Requirement already satisfied: annotated-types>=0.6.0 in c:\\users\\joseg\\anaconda3\\envs\\venv\\lib\\site-packages (from pydantic>=2.5.0->qiskit_ibm_runtime) (0.7.0)\n",
      "Requirement already satisfied: pydantic-core==2.23.4 in c:\\users\\joseg\\anaconda3\\envs\\venv\\lib\\site-packages (from pydantic>=2.5.0->qiskit_ibm_runtime) (2.23.4)\n",
      "Requirement already satisfied: typing-extensions>=4.6.1 in c:\\users\\joseg\\anaconda3\\envs\\venv\\lib\\site-packages (from pydantic>=2.5.0->qiskit_ibm_runtime) (4.12.2)\n",
      "Requirement already satisfied: six>=1.5 in c:\\users\\joseg\\anaconda3\\envs\\venv\\lib\\site-packages (from python-dateutil>=2.8.0->qiskit_ibm_runtime) (1.16.0)\n",
      "Requirement already satisfied: rustworkx>=0.15.0 in c:\\users\\joseg\\anaconda3\\envs\\venv\\lib\\site-packages (from qiskit>=1.1.0->qiskit_ibm_runtime) (0.15.1)\n",
      "Requirement already satisfied: scipy>=1.5 in c:\\users\\joseg\\anaconda3\\envs\\venv\\lib\\site-packages (from qiskit>=1.1.0->qiskit_ibm_runtime) (1.14.1)\n",
      "Requirement already satisfied: sympy>=1.3 in c:\\users\\joseg\\anaconda3\\envs\\venv\\lib\\site-packages (from qiskit>=1.1.0->qiskit_ibm_runtime) (1.13.3)\n",
      "Requirement already satisfied: dill>=0.3 in c:\\users\\joseg\\anaconda3\\envs\\venv\\lib\\site-packages (from qiskit>=1.1.0->qiskit_ibm_runtime) (0.3.9)\n",
      "Requirement already satisfied: stevedore>=3.0.0 in c:\\users\\joseg\\anaconda3\\envs\\venv\\lib\\site-packages (from qiskit>=1.1.0->qiskit_ibm_runtime) (5.3.0)\n",
      "Requirement already satisfied: symengine<0.14,>=0.11 in c:\\users\\joseg\\anaconda3\\envs\\venv\\lib\\site-packages (from qiskit>=1.1.0->qiskit_ibm_runtime) (0.13.0)\n",
      "Requirement already satisfied: charset-normalizer<4,>=2 in c:\\users\\joseg\\anaconda3\\envs\\venv\\lib\\site-packages (from requests>=2.19->qiskit_ibm_runtime) (3.4.0)\n",
      "Requirement already satisfied: idna<4,>=2.5 in c:\\users\\joseg\\anaconda3\\envs\\venv\\lib\\site-packages (from requests>=2.19->qiskit_ibm_runtime) (3.10)\n",
      "Requirement already satisfied: certifi>=2017.4.17 in c:\\users\\joseg\\anaconda3\\envs\\venv\\lib\\site-packages (from requests>=2.19->qiskit_ibm_runtime) (2024.8.30)\n",
      "Requirement already satisfied: cryptography>=1.3 in c:\\users\\joseg\\anaconda3\\envs\\venv\\lib\\site-packages (from requests-ntlm>=1.1.0->qiskit_ibm_runtime) (43.0.1)\n",
      "Requirement already satisfied: pyspnego>=0.4.0 in c:\\users\\joseg\\anaconda3\\envs\\venv\\lib\\site-packages (from requests-ntlm>=1.1.0->qiskit_ibm_runtime) (0.11.1)\n",
      "Requirement already satisfied: cffi>=1.12 in c:\\users\\joseg\\anaconda3\\envs\\venv\\lib\\site-packages (from cryptography>=1.3->requests-ntlm>=1.1.0->qiskit_ibm_runtime) (1.17.1)\n",
      "Requirement already satisfied: PyJWT<3.0.0,>=2.8.0 in c:\\users\\joseg\\anaconda3\\envs\\venv\\lib\\site-packages (from ibm-cloud-sdk-core<4.0.0,>=3.21.0->ibm-platform-services>=0.22.6->qiskit_ibm_runtime) (2.9.0)\n",
      "Requirement already satisfied: sspilib>=0.1.0 in c:\\users\\joseg\\anaconda3\\envs\\venv\\lib\\site-packages (from pyspnego>=0.4.0->requests-ntlm>=1.1.0->qiskit_ibm_runtime) (0.2.0)\n",
      "Requirement already satisfied: pbr>=2.0.0 in c:\\users\\joseg\\anaconda3\\envs\\venv\\lib\\site-packages (from stevedore>=3.0.0->qiskit>=1.1.0->qiskit_ibm_runtime) (6.1.0)\n",
      "Requirement already satisfied: mpmath<1.4,>=1.1.0 in c:\\users\\joseg\\anaconda3\\envs\\venv\\lib\\site-packages (from sympy>=1.3->qiskit>=1.1.0->qiskit_ibm_runtime) (1.3.0)\n",
      "Requirement already satisfied: pycparser in c:\\users\\joseg\\anaconda3\\envs\\venv\\lib\\site-packages (from cffi>=1.12->cryptography>=1.3->requests-ntlm>=1.1.0->qiskit_ibm_runtime) (2.22)\n",
      "Note: you may need to restart the kernel to use updated packages.\n",
      "Requirement already satisfied: matplotlib in c:\\users\\joseg\\anaconda3\\envs\\venv\\lib\\site-packages (3.9.2)\n",
      "Requirement already satisfied: contourpy>=1.0.1 in c:\\users\\joseg\\anaconda3\\envs\\venv\\lib\\site-packages (from matplotlib) (1.3.0)\n",
      "Requirement already satisfied: cycler>=0.10 in c:\\users\\joseg\\anaconda3\\envs\\venv\\lib\\site-packages (from matplotlib) (0.12.1)\n",
      "Requirement already satisfied: fonttools>=4.22.0 in c:\\users\\joseg\\anaconda3\\envs\\venv\\lib\\site-packages (from matplotlib) (4.54.1)\n",
      "Requirement already satisfied: kiwisolver>=1.3.1 in c:\\users\\joseg\\anaconda3\\envs\\venv\\lib\\site-packages (from matplotlib) (1.4.7)\n",
      "Requirement already satisfied: numpy>=1.23 in c:\\users\\joseg\\anaconda3\\envs\\venv\\lib\\site-packages (from matplotlib) (2.1.2)\n",
      "Requirement already satisfied: packaging>=20.0 in c:\\users\\joseg\\anaconda3\\envs\\venv\\lib\\site-packages (from matplotlib) (24.1)\n",
      "Requirement already satisfied: pillow>=8 in c:\\users\\joseg\\anaconda3\\envs\\venv\\lib\\site-packages (from matplotlib) (10.4.0)\n",
      "Requirement already satisfied: pyparsing>=2.3.1 in c:\\users\\joseg\\anaconda3\\envs\\venv\\lib\\site-packages (from matplotlib) (3.1.4)\n",
      "Requirement already satisfied: python-dateutil>=2.7 in c:\\users\\joseg\\anaconda3\\envs\\venv\\lib\\site-packages (from matplotlib) (2.9.0)\n",
      "Requirement already satisfied: six>=1.5 in c:\\users\\joseg\\anaconda3\\envs\\venv\\lib\\site-packages (from python-dateutil>=2.7->matplotlib) (1.16.0)\n",
      "Note: you may need to restart the kernel to use updated packages.\n"
     ]
    }
   ],
   "source": [
    "# Instalando os requisitos\n",
    "# Não é necessário caso o env já tenha as bibliotecas\n",
    "%pip install pylatexenc\n",
    "%pip install qiskit\n",
    "%pip install qiskit-ibmq-provider\n",
    "%pip install qiskit_aer\n",
    "%pip install qiskit_ibm_runtime\n",
    "%pip install matplotlib"
   ]
  },
  {
   "cell_type": "code",
   "execution_count": 1,
   "metadata": {},
   "outputs": [
    {
     "data": {
      "text/plain": [
       "'1.2.4'"
      ]
     },
     "execution_count": 1,
     "metadata": {},
     "output_type": "execute_result"
    }
   ],
   "source": [
    "import qiskit\n",
    "qiskit.__version__"
   ]
  },
  {
   "cell_type": "code",
   "execution_count": 1,
   "metadata": {},
   "outputs": [],
   "source": [
    "# Importando as bibliotecas\n",
    "\n",
    "from qiskit import QuantumCircuit, transpile\n",
    "from qiskit_ibm_runtime import QiskitRuntimeService\n",
    "from qiskit_aer import AerSimulator\n",
    "from qiskit.visualization import plot_histogram\n",
    "import matplotlib.pyplot as plt\n",
    "import numpy as np"
   ]
  },
  {
   "cell_type": "code",
   "execution_count": 2,
   "metadata": {},
   "outputs": [],
   "source": [
    "# Parametros da função 'QiskitRuntimeService'\n",
    "# channel -> especifica qual canal de serviço está sendo utilizado, No caso, 'ibm_quantum' significa que você está se conectando ao IBM Quantum, o serviço de computação quântica em nuvem da IBM.\n",
    "# token -> seu token de acesso \n",
    "\n",
    "token_str = 'ec220acfeee06d8e24e4d517e079fa222d241ea553eb3c34eb4630016a86190ea0bca5182aaae507c8ddf5042b3437ee5b8c3dc7b2feeb8cf0f4f662637ccf28'\n",
    "service = QiskitRuntimeService(channel='ibm_quantum', # cloud ibm\n",
    "                               token=token_str)"
   ]
  },
  {
   "cell_type": "code",
   "execution_count": 3,
   "metadata": {},
   "outputs": [],
   "source": [
    "QiskitRuntimeService.save_account(\n",
    "    channel=\"ibm_quantum\",\n",
    "    token=token_str,\n",
    "    set_as_default=True,\n",
    "    # Use `overwrite=True` if you're updating your token.\n",
    "    overwrite=True,\n",
    ")\n",
    " \n",
    "# Load saved credentials\n",
    "service = QiskitRuntimeService()"
   ]
  },
  {
   "cell_type": "code",
   "execution_count": 18,
   "metadata": {},
   "outputs": [],
   "source": [
    "# Conectando ao backend\n",
    "\n",
    "backend = service.backend(name= \"ibm_brisbane\")"
   ]
  },
  {
   "cell_type": "markdown",
   "metadata": {},
   "source": [
    "# 2° Parte: Criar, Simular e Executar\n",
    "\n",
    "### 1. Método Clássico:\n",
    "\n",
    "![Full Adder](data/full_adder.png)\n",
    "\n",
    "Um full adder de 4 bits é um circuito lógico que realiza a adição de dois números binários de 4 bits, levando em conta o carry in (vai um) da posição anterior e gerando um carry out para a próxima posição. Ele é composto por quatro full adders simples, cada um somando um par de bits correspondentes dos números de entrada e o carry in gerado pelo bit anterior.\n",
    "\n",
    "### 2. Método Quântico\n",
    "\n",
    "#### 2.1. FullAdder mais simples\n"
   ]
  },
  {
   "cell_type": "code",
   "execution_count": 25,
   "metadata": {},
   "outputs": [
    {
     "data": {
      "image/png": "[encoded data removed]",
      "text/plain": [
       "<Figure size 789.163x535.111 with 1 Axes>"
      ]
     },
     "execution_count": 25,
     "metadata": {},
     "output_type": "execute_result"
    }
   ],
   "source": [
    "def fulladder(qc, A, B, Cin, Soma, Cout):\n",
    "    \"\"\"\n",
    "    Quantum circuit for a full adder using quantum gates.\n",
    "\n",
    "    Parameters:\n",
    "    qc (QuantumCircuit): The quantum circuit to be modified.\n",
    "    A (int): Index of the first qubit.\n",
    "    B (int): Index of the second qubit.\n",
    "    Cin (int): Index of the carry input qubit.\n",
    "    Soma (int): Index of the qubit to store the sum result.\n",
    "    Cout (int): Index of the qubit to store the carry out.\n",
    "    \"\"\"\n",
    "    # Primeiro Half Adder: Soma A e B\n",
    "    qc.cx(A, Soma)   # Soma parcial (XOR entre A e B)\n",
    "    qc.cx(B, Soma)\n",
    "    qc.ccx(A, B, Cout)  # Carry gerado pelo AND entre A e B\n",
    "\n",
    "    # Segundo Half Adder: Soma parcial com Carry In\n",
    "    qc.cx(Cin, Soma)  # XOR entre a soma parcial (Soma) e o Carry In\n",
    "    qc.ccx(Cin, Soma, Cout)  # Atualização do Carry Out se Cin e Soma parcial forem ambos 1\n",
    "\n",
    "# Criação do circuito quântico\n",
    "qc = QuantumCircuit(5, 2)  # 5 qubits: A, B, Cin, Soma, Cout; 2 bits clássicos para medir Soma e Cout\n",
    "\n",
    "# Inicializar as entradas (Exemplo: A=1, B=1, carry_in=0)\n",
    "qc.x(0)  # A = 1\n",
    "qc.x(1)  # B = 1\n",
    "qc.x(2)\n",
    "# carry_in permanece em |0⟩, então não precisamos aplicar nada a Cin (qubit 2)\n",
    "\n",
    "# Índices dos qubits\n",
    "A = 0\n",
    "B = 1\n",
    "Cin = 2\n",
    "Soma = 3\n",
    "Cout = 4\n",
    "\n",
    "# Aplicar o full adder\n",
    "fulladder(qc, A, B, Cin, Soma, Cout)\n",
    "\n",
    "# Medir Soma e carry_out\n",
    "qc.measure(Soma, 0)  # Medir Soma e armazenar no bit clássico 0\n",
    "qc.measure(Cout, 1)  # Medir Carry Out e armazenar no bit clássico 1\n",
    "\n",
    "# Desenhar o circuito\n",
    "qc.draw(output='mpl')\n"
   ]
  },
  {
   "cell_type": "code",
   "execution_count": 26,
   "metadata": {},
   "outputs": [
    {
     "name": "stdout",
     "output_type": "stream",
     "text": [
      "Resultados da simulação:\n",
      "{'01': 1024}\n"
     ]
    },
    {
     "data": {
      "image/png": "[encoded data removed]",
      "text/plain": [
       "<Figure size 640x480 with 1 Axes>"
      ]
     },
     "execution_count": 26,
     "metadata": {},
     "output_type": "execute_result"
    }
   ],
   "source": [
    "# Seleciona o simulador AerSimulator\n",
    "simulador = AerSimulator()\n",
    "\n",
    "# Transpila o Circuito para o backend escolhido (nesse caso o brisbane)\n",
    "qc_transpilado = transpile(qc, simulador)\n",
    "\n",
    "# Executa o circuito no simulador com 1024 execuções (shots)\n",
    "job = simulador.run(qc_transpilado, shots=1024)\n",
    "\n",
    "# Obtém os resultados\n",
    "resultado = job.result()\n",
    "\n",
    "# Obtém a contagem dos resultados\n",
    "contagens = resultado.get_counts(qc_transpilado)\n",
    "\n",
    "# Exibe os resultados\n",
    "print(\"Resultados da simulação:\")\n",
    "print(contagens)\n",
    "\n",
    "plot_histogram(contagens)"
   ]
  },
  {
   "cell_type": "code",
   "execution_count": 4,
   "metadata": {},
   "outputs": [
    {
     "ename": "TypeError",
     "evalue": "'int' object is not iterable",
     "output_type": "error",
     "traceback": [
      "\u001b[0;31m---------------------------------------------------------------------------\u001b[0m",
      "\u001b[0;31mTypeError\u001b[0m                                 Traceback (most recent call last)",
      "Cell \u001b[0;32mIn[4], line 16\u001b[0m\n\u001b[1;32m     13\u001b[0m         qc \u001b[38;5;241m=\u001b[39m halfadder(qc, A\u001b[38;5;241m+\u001b[39mi, B\u001b[38;5;241m+\u001b[39mi, carryin)\n\u001b[1;32m     14\u001b[0m qc \u001b[38;5;241m=\u001b[39m QuantumCircuit(\u001b[38;5;241m1\u001b[39m,\u001b[38;5;241m1\u001b[39m)\n\u001b[0;32m---> 16\u001b[0m qc \u001b[38;5;241m=\u001b[39m \u001b[43mfulladder\u001b[49m\u001b[43m(\u001b[49m\u001b[43mqc\u001b[49m\u001b[43m,\u001b[49m\u001b[43m \u001b[49m\u001b[38;5;241;43m2\u001b[39;49m\u001b[43m,\u001b[49m\u001b[43m \u001b[49m\u001b[38;5;241;43m3\u001b[39;49m\u001b[43m,\u001b[49m\u001b[43m \u001b[49m\u001b[38;5;241;43m1\u001b[39;49m\u001b[43m,\u001b[49m\u001b[43m \u001b[49m\u001b[38;5;241;43m1\u001b[39;49m\u001b[43m,\u001b[49m\u001b[43m \u001b[49m\u001b[38;5;241;43m3\u001b[39;49m\u001b[43m)\u001b[49m\n\u001b[1;32m     18\u001b[0m qc\u001b[38;5;241m.\u001b[39mdraw(output\u001b[38;5;241m=\u001b[39m\u001b[38;5;124m'\u001b[39m\u001b[38;5;124mmpl\u001b[39m\u001b[38;5;124m'\u001b[39m)\n",
      "Cell \u001b[0;32mIn[4], line 11\u001b[0m, in \u001b[0;36mfulladder\u001b[0;34m(qc, A, B, carryin, carryout, numbits)\u001b[0m\n\u001b[1;32m      9\u001b[0m qc \u001b[38;5;241m=\u001b[39m QuantumCircuit(\u001b[38;5;241m2\u001b[39m\u001b[38;5;241m*\u001b[39mnumbits,numbits \u001b[38;5;241m+\u001b[39m \u001b[38;5;241m1\u001b[39m)\n\u001b[1;32m     10\u001b[0m i \u001b[38;5;241m=\u001b[39m \u001b[38;5;241m0\u001b[39m\n\u001b[0;32m---> 11\u001b[0m \u001b[38;5;28;01mfor\u001b[39;00m i \u001b[38;5;129;01min\u001b[39;00m numbits:\n\u001b[1;32m     12\u001b[0m     i \u001b[38;5;241m=\u001b[39m i \u001b[38;5;241m+\u001b[39m \u001b[38;5;241m1\u001b[39m\n\u001b[1;32m     13\u001b[0m     qc \u001b[38;5;241m=\u001b[39m halfadder(qc, A\u001b[38;5;241m+\u001b[39mi, B\u001b[38;5;241m+\u001b[39mi, carryin)\n",
      "\u001b[0;31mTypeError\u001b[0m: 'int' object is not iterable"
     ]
    }
   ],
   "source": [
    "def halfadder(qc, A, B, carry):\n",
    "    qc.ccx(A, B, carry)\n",
    "    qc.cx(A, B)\n",
    "    qc.measure(B, A)\n",
    "    qc.measure(carry, B) \n",
    "    return qc\n",
    "\n",
    "def fulladder(qc, A, B, carryin, carryout,  numbits):\n",
    "    qc = QuantumCircuit(2*numbits,numbits + 1)\n",
    "    i = 0\n",
    "    for i in numbits:\n",
    "        i = i + 1\n",
    "        qc = halfadder(qc, A+i, B+i, carryin)\n",
    "qc = QuantumCircuit(1,1)\n",
    "\n",
    "qc = fulladder(qc, 2, 3, 1, 1, 3)\n",
    "\n",
    "qc.draw(output='mpl')"
   ]
  }
 ],
 "metadata": {
  "kernelspec": {
   "display_name": ".venv",
   "language": "python",
   "name": "python3"
  },
  "language_info": {
   "codemirror_mode": {
    "name": "ipython",
    "version": 3
   },
   "file_extension": ".py",
   "mimetype": "text/x-python",
   "name": "python",
   "nbconvert_exporter": "python",
   "pygments_lexer": "ipython3",
   "version": "3.8.10"
  }
 },
 "nbformat": 4,
 "nbformat_minor": 2
}
