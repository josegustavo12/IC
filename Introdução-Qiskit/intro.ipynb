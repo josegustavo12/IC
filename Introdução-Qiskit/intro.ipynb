{
 "cells": [
  {
   "cell_type": "markdown",
   "metadata": {},
   "source": [
    "## Antes de Tudo: Instalação do Anaconda e Configuração para o Qiskit\n",
    "\n",
    "Para seguir as orientações da documentação do Qiskit, vamos instalar o Anaconda. Neste exemplo, utilizaremos o **Miniconda**, mas o processo é similar para o Anaconda completo. Ambos funcionam perfeitamente para nosso propósito.\n",
    "\n",
    "### Linux\n",
    "\n",
    "#### 1. Instalação\n",
    "- Acesse o site do [Anaconda](https://www.anaconda.com/) e baixe a versão do **Anaconda** ou **Miniconda** que preferir.\n",
    "\n",
    "#### 2. Configuração\n",
    "Após instalar o Anaconda, vamos configurar o ambiente virtual necessário. Siga os passos abaixo no diretório do seu projeto:\n",
    "\n",
    "- **Criando o Ambiente Virtual:**\n",
    "  ```bash\n",
    "  conda create -n nome_do_env\n",
    "  ```\n",
    "  Aqui, `nome_do_env` é o nome que você deseja dar ao seu ambiente.\n",
    "\n",
    "- **Ativando o Ambiente:**\n",
    "  ```bash\n",
    "  conda activate nome_do_env\n",
    "  ```\n",
    "  Isso ativará o ambiente criado para que possamos instalar pacotes e trabalhar isoladamente.\n",
    "\n",
    "#### 3. Possíveis Erros\n",
    "Durante a instalação do Anaconda, você pode receber uma mensagem de \"comando não encontrado\" ao tentar usar `conda`. Isso ocorre quando o diretório do Anaconda não foi adicionado ao **PATH** do sistema.\n",
    "\n",
    "Para resolver, siga as etapas abaixo:\n",
    "\n",
    "- **Adicionar o Anaconda ao PATH Manualmente:**\n",
    "  - Primeiro, abra o arquivo de configuração do Bash para editar:\n",
    "    ```bash\n",
    "    nano ~/.bashrc\n",
    "    ```\n",
    "  - Em seguida, adicione a linha abaixo ao final do arquivo para incluir o Anaconda no PATH:\n",
    "    ```bash\n",
    "    export PATH=\"~/anaconda3/bin:$PATH\"\n",
    "    ```\n",
    "    > Substitua `~/anaconda3` pelo diretório correto onde o Anaconda foi instalado. Por exemplo, se você instalou o **Miniconda**, substitua por `~/miniconda3`.\n",
    "    > Caso a sua versão seja outra, substitua o nome 'miniconda3' pela sua versão\n",
    "\n",
    "- **Atualizar o Bash:**\n",
    "  - Após editar o arquivo, você precisará atualizar o terminal para aplicar as mudanças:\n",
    "    ```bash\n",
    "    source ~/.bashrc\n",
    "    ```\n",
    "\n",
    "- **Reinicie o Terminal:**\n",
    "  - Depois de atualizar o `.bashrc`, feche e reabra o terminal para garantir que as configurações foram aplicadas.\n",
    "\n",
    "Agora, você deve conseguir usar o comando `conda` normalmente e seguir com a instalação e configuração do Qiskit.\n",
    "\n",
    "## Instalação e Configuração do Qiskit\n",
    "1. Baixe o pacote pip\n",
    "```bash\n",
    "conda install pip\n",
    "```\n",
    "2. Baixe o Qiskit\n",
    "```bash\n",
    "pip install qiskit\n",
    "```\n",
    "3. Instale o Qiskit runtime \n",
    "```bash\n",
    "pip install qiskit_ibm_runtime\n",
    "```\n",
    "\n",
    "4. selecione a Kernel da sua maquina virtual no notebook\n",
    "\n",
    "\n"
   ]
  },
  {
   "cell_type": "code",
   "execution_count": 1,
   "metadata": {},
   "outputs": [],
   "source": [
    "import qiskit"
   ]
  },
  {
   "cell_type": "code",
   "execution_count": 2,
   "metadata": {},
   "outputs": [
    {
     "data": {
      "text/plain": [
       "'1.2.4'"
      ]
     },
     "execution_count": 2,
     "metadata": {},
     "output_type": "execute_result"
    }
   ],
   "source": [
    "qiskit.__version__"
   ]
  },
  {
   "cell_type": "code",
   "execution_count": 3,
   "metadata": {},
   "outputs": [],
   "source": [
    "from qiskit_ibm_runtime import QiskitRuntimeService\n",
    "\n",
    "# Parametros da função 'QiskitRuntimeService'\n",
    "# channel -> especifica qual canal de serviço está sendo utilizado, No caso, 'ibm_quantum' significa que você está se conectando ao IBM Quantum, o serviço de computação quântica em nuvem da IBM.\n",
    "# token -> seu token de acesso \n",
    "\n",
    "\n",
    "service = QiskitRuntimeService(channel='ibm_quantum', # clound ibm\n",
    "                               token='seu_token')\n",
    "\n"
   ]
  },
  {
   "cell_type": "code",
   "execution_count": 5,
   "metadata": {},
   "outputs": [],
   "source": [
    "# Metodo save_account\n",
    "# Ao executar save_account, as credenciais da sua conta (o token e outras informações) são salvas em um arquivo local no seu computador (normalmente na pasta de configuração do Qiskit).\n",
    "# \n",
    "\n",
    "QiskitRuntimeService.save_account(channel='ibm_quantum',\n",
    "                                  token='seu_token')\n"
   ]
  },
  {
   "cell_type": "code",
   "execution_count": 8,
   "metadata": {},
   "outputs": [
    {
     "name": "stdout",
     "output_type": "stream",
     "text": [
      "[<IBMBackend('ibm_brisbane')>, <IBMBackend('ibm_kyiv')>, <IBMBackend('ibm_sherbrooke')>]\n"
     ]
    },
    {
     "ename": "QiskitBackendNotFoundError",
     "evalue": "'No backend matches the criteria.'",
     "output_type": "error",
     "traceback": [
      "\u001b[0;31m---------------------------------------------------------------------------\u001b[0m",
      "\u001b[0;31mQiskitBackendNotFoundError\u001b[0m                Traceback (most recent call last)",
      "Cell \u001b[0;32mIn[8], line 11\u001b[0m\n\u001b[1;32m      8\u001b[0m \u001b[38;5;28mprint\u001b[39m(backends)\n\u001b[1;32m     10\u001b[0m \u001b[38;5;66;03m# Escolher um backend, por exemplo 'ibmq_qasm_simulator', se ele estiver disponível\u001b[39;00m\n\u001b[0;32m---> 11\u001b[0m backend \u001b[38;5;241m=\u001b[39m \u001b[43mservice\u001b[49m\u001b[38;5;241;43m.\u001b[39;49m\u001b[43mbackend\u001b[49m\u001b[43m(\u001b[49m\u001b[38;5;124;43m'\u001b[39;49m\u001b[38;5;124;43mibmq_qasm_simulator\u001b[39;49m\u001b[38;5;124;43m'\u001b[39;49m\u001b[43m)\u001b[49m\n",
      "File \u001b[0;32m~/anaconda3/envs/venv/lib/python3.13/site-packages/qiskit_ibm_runtime/qiskit_runtime_service.py:813\u001b[0m, in \u001b[0;36mQiskitRuntimeService.backend\u001b[0;34m(self, name, instance, use_fractional_gates)\u001b[0m\n\u001b[1;32m    781\u001b[0m \u001b[38;5;28;01mdef\u001b[39;00m \u001b[38;5;21mbackend\u001b[39m(\n\u001b[1;32m    782\u001b[0m     \u001b[38;5;28mself\u001b[39m,\n\u001b[1;32m    783\u001b[0m     name: \u001b[38;5;28mstr\u001b[39m,\n\u001b[1;32m    784\u001b[0m     instance: Optional[\u001b[38;5;28mstr\u001b[39m] \u001b[38;5;241m=\u001b[39m \u001b[38;5;28;01mNone\u001b[39;00m,\n\u001b[1;32m    785\u001b[0m     use_fractional_gates: Optional[\u001b[38;5;28mbool\u001b[39m] \u001b[38;5;241m=\u001b[39m \u001b[38;5;28;01mFalse\u001b[39;00m,\n\u001b[1;32m    786\u001b[0m ) \u001b[38;5;241m-\u001b[39m\u001b[38;5;241m>\u001b[39m Backend:\n\u001b[1;32m    787\u001b[0m \u001b[38;5;250m    \u001b[39m\u001b[38;5;124;03m\"\"\"Return a single backend matching the specified filtering.\u001b[39;00m\n\u001b[1;32m    788\u001b[0m \n\u001b[1;32m    789\u001b[0m \u001b[38;5;124;03m    Args:\u001b[39;00m\n\u001b[0;32m   (...)\u001b[0m\n\u001b[1;32m    811\u001b[0m \u001b[38;5;124;03m        QiskitBackendNotFoundError: if no backend could be found.\u001b[39;00m\n\u001b[1;32m    812\u001b[0m \u001b[38;5;124;03m    \"\"\"\u001b[39;00m\n\u001b[0;32m--> 813\u001b[0m     backends \u001b[38;5;241m=\u001b[39m \u001b[38;5;28;43mself\u001b[39;49m\u001b[38;5;241;43m.\u001b[39;49m\u001b[43mbackends\u001b[49m\u001b[43m(\u001b[49m\u001b[43mname\u001b[49m\u001b[43m,\u001b[49m\u001b[43m \u001b[49m\u001b[43minstance\u001b[49m\u001b[38;5;241;43m=\u001b[39;49m\u001b[43minstance\u001b[49m\u001b[43m,\u001b[49m\u001b[43m \u001b[49m\u001b[43muse_fractional_gates\u001b[49m\u001b[38;5;241;43m=\u001b[39;49m\u001b[43muse_fractional_gates\u001b[49m\u001b[43m)\u001b[49m\n\u001b[1;32m    814\u001b[0m     \u001b[38;5;28;01mif\u001b[39;00m \u001b[38;5;129;01mnot\u001b[39;00m backends:\n\u001b[1;32m    815\u001b[0m         cloud_msg_url \u001b[38;5;241m=\u001b[39m \u001b[38;5;124m\"\u001b[39m\u001b[38;5;124m\"\u001b[39m\n",
      "File \u001b[0;32m~/anaconda3/envs/venv/lib/python3.13/site-packages/qiskit_ibm_runtime/qiskit_runtime_service.py:556\u001b[0m, in \u001b[0;36mQiskitRuntimeService.backends\u001b[0;34m(self, name, min_num_qubits, instance, dynamic_circuits, filters, use_fractional_gates, **kwargs)\u001b[0m\n\u001b[1;32m    554\u001b[0m \u001b[38;5;28;01mif\u001b[39;00m name:\n\u001b[1;32m    555\u001b[0m     \u001b[38;5;28;01mif\u001b[39;00m name \u001b[38;5;129;01mnot\u001b[39;00m \u001b[38;5;129;01min\u001b[39;00m \u001b[38;5;28mself\u001b[39m\u001b[38;5;241m.\u001b[39m_backend_allowed_list:\n\u001b[0;32m--> 556\u001b[0m         \u001b[38;5;28;01mraise\u001b[39;00m QiskitBackendNotFoundError(\u001b[38;5;124m\"\u001b[39m\u001b[38;5;124mNo backend matches the criteria.\u001b[39m\u001b[38;5;124m\"\u001b[39m)\n\u001b[1;32m    557\u001b[0m     backend_names \u001b[38;5;241m=\u001b[39m [name]\n\u001b[1;32m    558\u001b[0m     hgp \u001b[38;5;241m=\u001b[39m instance_filter\n",
      "\u001b[0;31mQiskitBackendNotFoundError\u001b[0m: 'No backend matches the criteria.'"
     ]
    }
   ],
   "source": [
    "        "
   ]
  }
 ],
 "metadata": {
  "kernelspec": {
   "display_name": "venv",
   "language": "python",
   "name": "python3"
  },
  "language_info": {
   "codemirror_mode": {
    "name": "ipython",
    "version": 3
   },
   "file_extension": ".py",
   "mimetype": "text/x-python",
   "name": "python",
   "nbconvert_exporter": "python",
   "pygments_lexer": "ipython3",
   "version": "3.13.0"
  }
 },
 "nbformat": 4,
 "nbformat_minor": 2
}
