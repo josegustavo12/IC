{
 "cells": [
  {
   "cell_type": "markdown",
   "metadata": {},
   "source": [
    "# Carregando uma newtwork"
   ]
  },
  {
   "cell_type": "code",
   "execution_count": null,
   "metadata": {},
   "outputs": [
    {
     "data": {
      "text/html": [
       "<table><tr><th>Library</th><th>Version</th></tr><tr><td>OS</td><td>posix [linux]</td></tr><tr><td>Python</td><td>3.8.10 (default, Sep 11 2024, 16:02:53) \n",
       "[GCC 9.4.0]</td></tr><tr><td>IPython</td><td>8.12.3</td></tr><tr><td>Matplotlib</td><td>3.7.5</td></tr><tr><td>Numpy</td><td>1.24.4</td></tr><tr><td>pyDot</td><td>3.0.2</td></tr><tr><td>pyAgrum</td><td>1.13.2</td></tr></table><div align='right'><small>Wed Nov 06 21:13:05 2024 -03</small></div>"
      ],
      "text/plain": [
       "<IPython.core.display.HTML object>"
      ]
     },
     "metadata": {},
     "output_type": "display_data"
    }
   ],
   "source": [
    "# Importação das bibliotecas\n",
    "\n",
    "import pyAgrum as gum # pyagrum \n",
    "import pyAgrum.lib.notebook as gnb\n",
    "import matplotlib.pyplot as plt\n",
    "from pylab import *\n",
    "import pandas as pd\n",
    "\n",
    "gnb.configuration() # configuração do notebook "
   ]
  },
  {
   "cell_type": "code",
   "execution_count": 2,
   "metadata": {},
   "outputs": [
    {
     "data": {
      "text/html": [
       "<svg xmlns=\"http://www.w3.org/2000/svg\" xmlns:xlink=\"http://www.w3.org/1999/xlink\" width=\"269pt\" height=\"188pt\" viewBox=\"0.00 0.00 269.09 188.00\">\n",
       "<g id=\"graph0\" class=\"graph\" transform=\"scale(1 1) rotate(0) translate(4 184)\">\n",
       "<title>G</title>\n",
       "<!-- Alarm -->\n",
       "<g id=\"node1\" class=\"node\">\n",
       "<title>Alarm</title>\n",
       "<g id=\"a_node1\"><a xlink:title=\"(2) Alarm\">\n",
       "<ellipse fill=\"#404040\" stroke=\"#4a4a4a\" cx=\"131.99\" cy=\"-90\" rx=\"38.19\" ry=\"18\"/>\n",
       "<text text-anchor=\"middle\" x=\"131.99\" y=\"-86.3\" font-family=\"Times,serif\" font-size=\"14.00\" fill=\"white\">Alarm</text>\n",
       "</a>\n",
       "</g>\n",
       "</g>\n",
       "<!-- John Calls -->\n",
       "<g id=\"node4\" class=\"node\">\n",
       "<title>John Calls</title>\n",
       "<g id=\"a_node4\"><a xlink:title=\"(3) John Calls\">\n",
       "<ellipse fill=\"#404040\" stroke=\"#4a4a4a\" cx=\"63.99\" cy=\"-18\" rx=\"57.39\" ry=\"18\"/>\n",
       "<text text-anchor=\"middle\" x=\"63.99\" y=\"-14.3\" font-family=\"Times,serif\" font-size=\"14.00\" fill=\"white\">John Calls</text>\n",
       "</a>\n",
       "</g>\n",
       "</g>\n",
       "<!-- Alarm&#45;&gt;John Calls -->\n",
       "<g id=\"edge1\" class=\"edge\">\n",
       "<title>Alarm-&gt;John Calls</title>\n",
       "<g id=\"a_edge1\"><a xlink:title=\"2 → 3\">\n",
       "<path fill=\"none\" stroke=\"#4a4a4a\" d=\"M116.56,-73.12C107.82,-64.12 96.71,-52.68 86.96,-42.65\"/>\n",
       "<polygon fill=\"#4a4a4a\" stroke=\"#4a4a4a\" points=\"89.31,-40.04 79.84,-35.31 84.29,-44.92 89.31,-40.04\"/>\n",
       "</a>\n",
       "</g>\n",
       "</g>\n",
       "<!-- Mary Calls -->\n",
       "<g id=\"node5\" class=\"node\">\n",
       "<title>Mary Calls</title>\n",
       "<g id=\"a_node5\"><a xlink:title=\"(4) Mary Calls\">\n",
       "<ellipse fill=\"#404040\" stroke=\"#4a4a4a\" cx=\"199.99\" cy=\"-18\" rx=\"61.19\" ry=\"18\"/>\n",
       "<text text-anchor=\"middle\" x=\"199.99\" y=\"-14.3\" font-family=\"Times,serif\" font-size=\"14.00\" fill=\"white\">Mary Calls</text>\n",
       "</a>\n",
       "</g>\n",
       "</g>\n",
       "<!-- Alarm&#45;&gt;Mary Calls -->\n",
       "<g id=\"edge4\" class=\"edge\">\n",
       "<title>Alarm-&gt;Mary Calls</title>\n",
       "<g id=\"a_edge4\"><a xlink:title=\"2 → 4\">\n",
       "<path fill=\"none\" stroke=\"#4a4a4a\" d=\"M147.42,-73.12C156.04,-64.24 166.96,-53.01 176.61,-43.08\"/>\n",
       "<polygon fill=\"#4a4a4a\" stroke=\"#4a4a4a\" points=\"179.22,-45.41 183.68,-35.8 174.2,-40.53 179.22,-45.41\"/>\n",
       "</a>\n",
       "</g>\n",
       "</g>\n",
       "<!-- Earthquake -->\n",
       "<g id=\"node2\" class=\"node\">\n",
       "<title>Earthquake</title>\n",
       "<g id=\"a_node2\"><a xlink:title=\"(1) Earthquake\">\n",
       "<ellipse fill=\"#404040\" stroke=\"#4a4a4a\" cx=\"64.99\" cy=\"-162\" rx=\"64.99\" ry=\"18\"/>\n",
       "<text text-anchor=\"middle\" x=\"64.99\" y=\"-158.3\" font-family=\"Times,serif\" font-size=\"14.00\" fill=\"white\">Earthquake</text>\n",
       "</a>\n",
       "</g>\n",
       "</g>\n",
       "<!-- Earthquake&#45;&gt;Alarm -->\n",
       "<g id=\"edge3\" class=\"edge\">\n",
       "<title>Earthquake-&gt;Alarm</title>\n",
       "<g id=\"a_edge3\"><a xlink:title=\"1 → 2\">\n",
       "<path fill=\"none\" stroke=\"#4a4a4a\" d=\"M80.87,-144.41C89.42,-135.48 100.11,-124.31 109.5,-114.5\"/>\n",
       "<polygon fill=\"#4a4a4a\" stroke=\"#4a4a4a\" points=\"112.31,-116.63 116.69,-106.99 107.25,-111.79 112.31,-116.63\"/>\n",
       "</a>\n",
       "</g>\n",
       "</g>\n",
       "<!-- Burglary -->\n",
       "<g id=\"node3\" class=\"node\">\n",
       "<title>Burglary</title>\n",
       "<g id=\"a_node3\"><a xlink:title=\"(0) Burglary\">\n",
       "<ellipse fill=\"#404040\" stroke=\"#4a4a4a\" cx=\"199.99\" cy=\"-162\" rx=\"51.99\" ry=\"18\"/>\n",
       "<text text-anchor=\"middle\" x=\"199.99\" y=\"-158.3\" font-family=\"Times,serif\" font-size=\"14.00\" fill=\"white\">Burglary</text>\n",
       "</a>\n",
       "</g>\n",
       "</g>\n",
       "<!-- Burglary&#45;&gt;Alarm -->\n",
       "<g id=\"edge2\" class=\"edge\">\n",
       "<title>Burglary-&gt;Alarm</title>\n",
       "<g id=\"a_edge2\"><a xlink:title=\"0 → 2\">\n",
       "<path fill=\"none\" stroke=\"#4a4a4a\" d=\"M184.22,-144.76C175.34,-135.62 164.11,-124.06 154.34,-114\"/>\n",
       "<polygon fill=\"#4a4a4a\" stroke=\"#4a4a4a\" points=\"156.69,-111.4 147.21,-106.67 151.67,-116.28 156.69,-111.4\"/>\n",
       "</a>\n",
       "</g>\n",
       "</g>\n",
       "</g>\n",
       "</svg>"
      ],
      "text/plain": [
       "(pyAgrum.BayesNet<double>@0x28483c0) BN{nodes: 5, arcs: 4, domainSize: 32, dim: 10, mem: 160o}"
      ]
     },
     "execution_count": 2,
     "metadata": {},
     "output_type": "execute_result"
    }
   ],
   "source": [
    "bn = gum.loadBN(\"data/alarm_network.xdsl\")\n",
    "bn"
   ]
  },
  {
   "cell_type": "code",
   "execution_count": 6,
   "metadata": {},
   "outputs": [
    {
     "data": {
      "text/html": [
       "<table style=\"border:1px solid black;border-collapse: collapse;\">\n",
       "<tr style='border:1px solid black;color:black;background-color:#808080'>\n",
       "      <th colspan='2'><center>Earthquake</center></th></tr>\n",
       "<tr><th style='border:1px solid black;border-bottom-style: double;color:black;background-color:#BBBBBB'>\n",
       "      <center>True</center></th><th style='border:1px solid black;border-bottom-style: double;color:black;background-color:#BBBBBB'>\n",
       "      <center>False</center></th></tr>\n",
       "<tr><td style='color:black;background-color:#fe7f64;text-align:right;padding: 3px;'>0.0020</td><td style='color:black;background-color:#7ffe64;text-align:right;padding: 3px;'>0.9980</td></tr>\n",
       "</table>"
      ],
      "text/plain": [
       "(pyAgrum.Potential<double>@0x2594350) \n",
       "  Earthquake       |\n",
       "True     |False    |\n",
       "---------|---------|\n",
       " 0.0020  | 0.9980  |"
      ]
     },
     "execution_count": 6,
     "metadata": {},
     "output_type": "execute_result"
    }
   ],
   "source": [
    "bn.cpt(\"Earthquake\")"
   ]
  },
  {
   "cell_type": "code",
   "execution_count": 7,
   "metadata": {},
   "outputs": [
    {
     "data": {
      "text/html": [
       "<table style=\"border:1px solid black;border-collapse: collapse;\">\n",
       "<tr style='border:1px solid black;color:black;background-color:#808080'>\n",
       "      <th colspan='2'><center>Burglary</center></th></tr>\n",
       "<tr><th style='border:1px solid black;border-bottom-style: double;color:black;background-color:#BBBBBB'>\n",
       "      <center>True</center></th><th style='border:1px solid black;border-bottom-style: double;color:black;background-color:#BBBBBB'>\n",
       "      <center>False</center></th></tr>\n",
       "<tr><td style='color:black;background-color:#fe7f64;text-align:right;padding: 3px;'>0.0010</td><td style='color:black;background-color:#7ffe64;text-align:right;padding: 3px;'>0.9990</td></tr>\n",
       "</table>"
      ],
      "text/plain": [
       "(pyAgrum.Potential<double>@0x268aad0) \n",
       "  Burglary         |\n",
       "True     |False    |\n",
       "---------|---------|\n",
       " 0.0010  | 0.9990  |"
      ]
     },
     "execution_count": 7,
     "metadata": {},
     "output_type": "execute_result"
    }
   ],
   "source": [
    "bn.cpt(\"Burglary\")"
   ]
  },
  {
   "cell_type": "code",
   "execution_count": 55,
   "metadata": {},
   "outputs": [
    {
     "data": {
      "text/html": [
       "<table style=\"border:1px solid black;border-collapse: collapse;\">\n",
       "<tr><th colspan='2'></th>\n",
       "      <th colspan='2' style='border:1px solid black;color:black;background-color:#808080;'><center>Alarm</center>\n",
       "      </th></tr>\n",
       "<tr><th style='border:1px solid black;color:black;background-color:#808080'><center>Earthquake</center></th><th style='border:1px solid black;color:black;background-color:#808080'><center>Burglary</center></th><th style='border:1px solid black;border-bottom-style: double;color:black;background-color:#BBBBBB'>\n",
       "      <center>True</center></th><th style='border:1px solid black;border-bottom-style: double;color:black;background-color:#BBBBBB'>\n",
       "      <center>False</center></th></tr>\n",
       "<tr><th style='border:1px solid black;color:black;background-color:#BBBBBB;' rowspan = '2'>\n",
       "            <center>True</center></th><th style='border:1px solid black;color:black;background-color:#BBBBBB'><center>True</center></th><td style='color:black;background-color:#85f864;text-align:right;padding: 3px;'>0.95</td><td style='color:black;background-color:#f88564;text-align:right;padding: 3px;'>0.05</td></tr>\n",
       "<tr><th style='border:1px solid black;color:black;background-color:#BBBBBB'><center>False</center></th><td style='color:black;background-color:#86f764;text-align:right;padding: 3px;'>0.94</td><td style='color:black;background-color:#f78664;text-align:right;padding: 3px;'>0.06</td></tr>\n",
       "<tr><th style='border:1px solid black;color:black;background-color:#BBBBBB;' rowspan = '2'>\n",
       "            <center>False</center></th><th style='border:1px solid black;color:black;background-color:#BBBBBB'><center>True</center></th><td style='color:black;background-color:#d9a464;text-align:right;padding: 3px;'>0.29</td><td style='color:black;background-color:#a4d964;text-align:right;padding: 3px;'>0.71</td></tr>\n",
       "<tr><th style='border:1px solid black;color:black;background-color:#BBBBBB'><center>False</center></th><td style='color:black;background-color:#fe7f64;text-align:right;padding: 3px;'>0.00</td><td style='color:black;background-color:#7ffe64;text-align:right;padding: 3px;'>1.00</td></tr>\n",
       "</table>"
      ],
      "text/plain": [
       "(pyAgrum.Potential<double>@0x25e18a0) \n",
       "             ||  Alarm            |\n",
       "Burgla|Earthq||True     |False    |\n",
       "------|------||---------|---------|\n",
       "True  |True  || 0.9500  | 0.0500  |\n",
       "False |True  || 0.9400  | 0.0600  |\n",
       "True  |False || 0.2900  | 0.7100  |\n",
       "False |False || 0.0010  | 0.9990  |"
      ]
     },
     "execution_count": 55,
     "metadata": {},
     "output_type": "execute_result"
    }
   ],
   "source": [
    "bn.cpt(\"Alarm\")"
   ]
  },
  {
   "cell_type": "code",
   "execution_count": 9,
   "metadata": {},
   "outputs": [
    {
     "data": {
      "text/html": [
       "<table style=\"border:1px solid black;border-collapse: collapse;\">\n",
       "<tr><th colspan='1'></th>\n",
       "      <th colspan='2' style='border:1px solid black;color:black;background-color:#808080;'><center>John Calls</center>\n",
       "      </th></tr>\n",
       "<tr><th style='border:1px solid black;color:black;background-color:#808080'><center>Alarm</center></th><th style='border:1px solid black;border-bottom-style: double;color:black;background-color:#BBBBBB'>\n",
       "      <center>True</center></th><th style='border:1px solid black;border-bottom-style: double;color:black;background-color:#BBBBBB'>\n",
       "      <center>False</center></th></tr>\n",
       "<tr><th style='border:1px solid black;color:black;background-color:#BBBBBB'><center>True</center></th><td style='color:black;background-color:#8bf264;text-align:right;padding: 3px;'>0.9000</td><td style='color:black;background-color:#f28b64;text-align:right;padding: 3px;'>0.1000</td></tr>\n",
       "<tr><th style='border:1px solid black;color:black;background-color:#BBBBBB'><center>False</center></th><td style='color:black;background-color:#f88564;text-align:right;padding: 3px;'>0.0500</td><td style='color:black;background-color:#85f864;text-align:right;padding: 3px;'>0.9500</td></tr>\n",
       "</table>"
      ],
      "text/plain": [
       "(pyAgrum.Potential<double>@0x2849d00) \n",
       "      ||  John Calls       |\n",
       "Alarm ||True     |False    |\n",
       "------||---------|---------|\n",
       "True  || 0.9000  | 0.1000  |\n",
       "False || 0.0500  | 0.9500  |"
      ]
     },
     "execution_count": 9,
     "metadata": {},
     "output_type": "execute_result"
    }
   ],
   "source": [
    "bn.cpt(\"John Calls\")"
   ]
  },
  {
   "cell_type": "code",
   "execution_count": 10,
   "metadata": {},
   "outputs": [
    {
     "data": {
      "text/html": [
       "<table style=\"border:1px solid black;border-collapse: collapse;\">\n",
       "<tr><th colspan='1'></th>\n",
       "      <th colspan='2' style='border:1px solid black;color:black;background-color:#808080;'><center>Mary Calls</center>\n",
       "      </th></tr>\n",
       "<tr><th style='border:1px solid black;color:black;background-color:#808080'><center>Alarm</center></th><th style='border:1px solid black;border-bottom-style: double;color:black;background-color:#BBBBBB'>\n",
       "      <center>True</center></th><th style='border:1px solid black;border-bottom-style: double;color:black;background-color:#BBBBBB'>\n",
       "      <center>False</center></th></tr>\n",
       "<tr><th style='border:1px solid black;color:black;background-color:#BBBBBB'><center>True</center></th><td style='color:black;background-color:#a5d864;text-align:right;padding: 3px;'>0.7000</td><td style='color:black;background-color:#d8a564;text-align:right;padding: 3px;'>0.3000</td></tr>\n",
       "<tr><th style='border:1px solid black;color:black;background-color:#BBBBBB'><center>False</center></th><td style='color:black;background-color:#fd8064;text-align:right;padding: 3px;'>0.0100</td><td style='color:black;background-color:#80fd64;text-align:right;padding: 3px;'>0.9900</td></tr>\n",
       "</table>"
      ],
      "text/plain": [
       "(pyAgrum.Potential<double>@0x2849250) \n",
       "      ||  Mary Calls       |\n",
       "Alarm ||True     |False    |\n",
       "------||---------|---------|\n",
       "True  || 0.7000  | 0.3000  |\n",
       "False || 0.0100  | 0.9900  |"
      ]
     },
     "execution_count": 10,
     "metadata": {},
     "output_type": "execute_result"
    }
   ],
   "source": [
    "bn.cpt(\"Mary Calls\")"
   ]
  },
  {
   "cell_type": "code",
   "execution_count": null,
   "metadata": {},
   "outputs": [
    {
     "name": "stdout",
     "output_type": "stream",
     "text": [
      "\n",
      "  John Calls       |\n",
      "True     |False    |\n",
      "---------|---------|\n",
      " 0.0527  | 0.9473  |\n",
      "\n",
      "  Mary Calls       |\n",
      "True     |False    |\n",
      "---------|---------|\n",
      " 0.0122  | 0.9878  |\n",
      "\n"
     ]
    }
   ],
   "source": [
    "# inferencia para tanto o John quanto a Mary ligarem\n",
    "ie = gum.LazyPropagation(bn)\n",
    "ie.makeInference\n",
    "print(f'{ie.posterior(\"John Calls\")}{ie.posterior(\"Mary Calls\")}')"
   ]
  },
  {
   "cell_type": "code",
   "execution_count": 40,
   "metadata": {},
   "outputs": [],
   "source": [
    "import pandas as pd\n",
    "from IPython.display import HTML, display\n",
    "\n",
    "def func_htmlcss(probabilidadesJohn, probabilidadesMary):\n",
    "    estados = ['True', 'False']\n",
    "\n",
    "\n",
    "    # Criar o DataFrame\n",
    "    df = pd.DataFrame({\n",
    "        'Estado': estados,\n",
    "        'John Calls': probabilidadesJohn,\n",
    "        'Mary Calls': probabilidadesMary\n",
    "    })\n",
    "\n",
    "    # Converter o DataFrame para HTML com formatação de números\n",
    "    html_table = df.to_html(index=False, float_format=\"{:.4f}\".format, classes=\"table table-striped\", border=0)\n",
    "\n",
    "    # CSS para estilizar a tabela\n",
    "    css = \"\"\"\n",
    "    <style>\n",
    "        /* Estilo da tabela principal */\n",
    "        .table {\n",
    "            font-family: Arial, sans-serif;       /* Fonte da tabela */\n",
    "            border-collapse: collapse;            /* Remove espaçamento entre bordas */\n",
    "            width: 50%;                           /* Largura da tabela */\n",
    "            margin: 10px 0;                       /* Margem superior e inferior */\n",
    "            color: #E0E6ED;                       /* Cor do texto */\n",
    "            background-color: #1A1A2E;            /* Cor de fundo da tabela */\n",
    "        }\n",
    "\n",
    "        /* Estilo do cabeçalho da tabela */\n",
    "        .table th {\n",
    "            background-color: #162447;            /* Cor de fundo do cabeçalho */\n",
    "            color: #E0E6ED;                       /* Cor do texto do cabeçalho */\n",
    "            padding-top: 12px;                    /* Espaçamento superior das células do cabeçalho */\n",
    "            padding-bottom: 12px;                 /* Espaçamento inferior das células do cabeçalho */\n",
    "            text-align: center;                   /* Alinhamento centralizado do texto */\n",
    "        }\n",
    "\n",
    "        /* Estilo das células de dados */\n",
    "        .table td {\n",
    "            border: 1px solid #1F4068;            /* Borda das células */\n",
    "            padding: 8px;                         /* Espaçamento interno das células */\n",
    "            text-align: center;                   /* Alinhamento centralizado do texto */\n",
    "        }\n",
    "\n",
    "        /* Cor de fundo alternada para linhas pares */\n",
    "        .table tr:nth-child(even) {\n",
    "            background-color: #1F4068;            /* Cor de fundo alternada */\n",
    "        }\n",
    "    </style>\n",
    "    \"\"\"\n",
    "    # Exibir a tabela HTML com CSS no notebook\n",
    "    display(HTML(css + html_table))\n"
   ]
  },
  {
   "cell_type": "code",
   "execution_count": null,
   "metadata": {},
   "outputs": [
    {
     "data": {
      "text/html": [
       "\n",
       "    <style>\n",
       "        /* Estilo da tabela principal */\n",
       "        .table {\n",
       "            font-family: Arial, sans-serif;       /* Fonte da tabela */\n",
       "            border-collapse: collapse;            /* Remove espaçamento entre bordas */\n",
       "            width: 50%;                           /* Largura da tabela */\n",
       "            margin: 10px 0;                       /* Margem superior e inferior */\n",
       "            color: #E0E6ED;                       /* Cor do texto */\n",
       "            background-color: #1A1A2E;            /* Cor de fundo da tabela */\n",
       "        }\n",
       "\n",
       "        /* Estilo do cabeçalho da tabela */\n",
       "        .table th {\n",
       "            background-color: #162447;            /* Cor de fundo do cabeçalho */\n",
       "            color: #E0E6ED;                       /* Cor do texto do cabeçalho */\n",
       "            padding-top: 12px;                    /* Espaçamento superior das células do cabeçalho */\n",
       "            padding-bottom: 12px;                 /* Espaçamento inferior das células do cabeçalho */\n",
       "            text-align: center;                   /* Alinhamento centralizado do texto */\n",
       "        }\n",
       "\n",
       "        /* Estilo das células de dados */\n",
       "        .table td {\n",
       "            border: 1px solid #1F4068;            /* Borda das células */\n",
       "            padding: 8px;                         /* Espaçamento interno das células */\n",
       "            text-align: center;                   /* Alinhamento centralizado do texto */\n",
       "        }\n",
       "\n",
       "        /* Cor de fundo alternada para linhas pares */\n",
       "        .table tr:nth-child(even) {\n",
       "            background-color: #1F4068;            /* Cor de fundo alternada */\n",
       "        }\n",
       "    </style>\n",
       "    <table class=\"dataframe table table-striped\">\n",
       "  <thead>\n",
       "    <tr style=\"text-align: right;\">\n",
       "      <th>Estado</th>\n",
       "      <th>John Calls</th>\n",
       "      <th>Mary Calls</th>\n",
       "    </tr>\n",
       "  </thead>\n",
       "  <tbody>\n",
       "    <tr>\n",
       "      <td>True</td>\n",
       "      <td>0.2965</td>\n",
       "      <td>0.2101</td>\n",
       "    </tr>\n",
       "    <tr>\n",
       "      <td>False</td>\n",
       "      <td>0.7035</td>\n",
       "      <td>0.7899</td>\n",
       "    </tr>\n",
       "  </tbody>\n",
       "</table>"
      ],
      "text/plain": [
       "<IPython.core.display.HTML object>"
      ]
     },
     "metadata": {},
     "output_type": "display_data"
    }
   ],
   "source": [
    "# Setando uma evidencia (terremoto e ladrão) \n",
    "\n",
    "ie.setEvidence({'Earthquake':'False', 'Burglary': 'True'}) \n",
    "ie.makeInference()\n",
    "# print(f'{ie.posterior(\"John Calls\")}{ie.posterior(\"Mary Calls\")}')\n",
    "func_htmlcss(ie.posterior(\"John Calls\")[:], ie.posterior(\"Mary Calls\")[:])"
   ]
  },
  {
   "cell_type": "code",
   "execution_count": 43,
   "metadata": {},
   "outputs": [
    {
     "data": {
      "text/html": [
       "\n",
       "    <style>\n",
       "        /* Estilo da tabela principal */\n",
       "        .table {\n",
       "            font-family: Arial, sans-serif;       /* Fonte da tabela */\n",
       "            border-collapse: collapse;            /* Remove espaçamento entre bordas */\n",
       "            width: 50%;                           /* Largura da tabela */\n",
       "            margin: 10px 0;                       /* Margem superior e inferior */\n",
       "            color: #E0E6ED;                       /* Cor do texto */\n",
       "            background-color: #1A1A2E;            /* Cor de fundo da tabela */\n",
       "        }\n",
       "\n",
       "        /* Estilo do cabeçalho da tabela */\n",
       "        .table th {\n",
       "            background-color: #162447;            /* Cor de fundo do cabeçalho */\n",
       "            color: #E0E6ED;                       /* Cor do texto do cabeçalho */\n",
       "            padding-top: 12px;                    /* Espaçamento superior das células do cabeçalho */\n",
       "            padding-bottom: 12px;                 /* Espaçamento inferior das células do cabeçalho */\n",
       "            text-align: center;                   /* Alinhamento centralizado do texto */\n",
       "        }\n",
       "\n",
       "        /* Estilo das células de dados */\n",
       "        .table td {\n",
       "            border: 1px solid #1F4068;            /* Borda das células */\n",
       "            padding: 8px;                         /* Espaçamento interno das células */\n",
       "            text-align: center;                   /* Alinhamento centralizado do texto */\n",
       "        }\n",
       "\n",
       "        /* Cor de fundo alternada para linhas pares */\n",
       "        .table tr:nth-child(even) {\n",
       "            background-color: #1F4068;            /* Cor de fundo alternada */\n",
       "        }\n",
       "    </style>\n",
       "    <table class=\"dataframe table table-striped\">\n",
       "  <thead>\n",
       "    <tr style=\"text-align: right;\">\n",
       "      <th>Estado</th>\n",
       "      <th>John Calls</th>\n",
       "      <th>Mary Calls</th>\n",
       "    </tr>\n",
       "  </thead>\n",
       "  <tbody>\n",
       "    <tr>\n",
       "      <td>True</td>\n",
       "      <td>0.8490</td>\n",
       "      <td>0.6586</td>\n",
       "    </tr>\n",
       "    <tr>\n",
       "      <td>False</td>\n",
       "      <td>0.1510</td>\n",
       "      <td>0.3414</td>\n",
       "    </tr>\n",
       "  </tbody>\n",
       "</table>"
      ],
      "text/plain": [
       "<IPython.core.display.HTML object>"
      ]
     },
     "metadata": {},
     "output_type": "display_data"
    }
   ],
   "source": [
    "ie.setEvidence({'Earthquake':'True', 'Burglary': 'False'})\n",
    "ie.makeInference()\n",
    "# print(f'{ie.posterior(\"John Calls\")}{ie.posterior(\"Mary Calls\")}')\n",
    "func_htmlcss(ie.posterior(\"John Calls\")[:], ie.posterior(\"Mary Calls\")[:])"
   ]
  },
  {
   "cell_type": "code",
   "execution_count": 44,
   "metadata": {},
   "outputs": [
    {
     "data": {
      "text/html": [
       "\n",
       "    <style>\n",
       "        /* Estilo da tabela principal */\n",
       "        .table {\n",
       "            font-family: Arial, sans-serif;       /* Fonte da tabela */\n",
       "            border-collapse: collapse;            /* Remove espaçamento entre bordas */\n",
       "            width: 50%;                           /* Largura da tabela */\n",
       "            margin: 10px 0;                       /* Margem superior e inferior */\n",
       "            color: #E0E6ED;                       /* Cor do texto */\n",
       "            background-color: #1A1A2E;            /* Cor de fundo da tabela */\n",
       "        }\n",
       "\n",
       "        /* Estilo do cabeçalho da tabela */\n",
       "        .table th {\n",
       "            background-color: #162447;            /* Cor de fundo do cabeçalho */\n",
       "            color: #E0E6ED;                       /* Cor do texto do cabeçalho */\n",
       "            padding-top: 12px;                    /* Espaçamento superior das células do cabeçalho */\n",
       "            padding-bottom: 12px;                 /* Espaçamento inferior das células do cabeçalho */\n",
       "            text-align: center;                   /* Alinhamento centralizado do texto */\n",
       "        }\n",
       "\n",
       "        /* Estilo das células de dados */\n",
       "        .table td {\n",
       "            border: 1px solid #1F4068;            /* Borda das células */\n",
       "            padding: 8px;                         /* Espaçamento interno das células */\n",
       "            text-align: center;                   /* Alinhamento centralizado do texto */\n",
       "        }\n",
       "\n",
       "        /* Cor de fundo alternada para linhas pares */\n",
       "        .table tr:nth-child(even) {\n",
       "            background-color: #1F4068;            /* Cor de fundo alternada */\n",
       "        }\n",
       "    </style>\n",
       "    <table class=\"dataframe table table-striped\">\n",
       "  <thead>\n",
       "    <tr style=\"text-align: right;\">\n",
       "      <th>Estado</th>\n",
       "      <th>John Calls</th>\n",
       "      <th>Mary Calls</th>\n",
       "    </tr>\n",
       "  </thead>\n",
       "  <tbody>\n",
       "    <tr>\n",
       "      <td>True</td>\n",
       "      <td>0.9000</td>\n",
       "      <td>0.7000</td>\n",
       "    </tr>\n",
       "    <tr>\n",
       "      <td>False</td>\n",
       "      <td>0.1000</td>\n",
       "      <td>0.3000</td>\n",
       "    </tr>\n",
       "  </tbody>\n",
       "</table>"
      ],
      "text/plain": [
       "<IPython.core.display.HTML object>"
      ]
     },
     "metadata": {},
     "output_type": "display_data"
    }
   ],
   "source": [
    "ie.setEvidence({'Alarm':'True'})\n",
    "ie.makeInference()\n",
    "#print(f'{ie.posterior(\"John Calls\")}{ie.posterior(\"Mary Calls\")}')\n",
    "func_htmlcss(ie.posterior(\"John Calls\")[:], ie.posterior(\"Mary Calls\")[:])"
   ]
  },
  {
   "cell_type": "code",
   "execution_count": 48,
   "metadata": {},
   "outputs": [
    {
     "data": {
      "text/html": [
       "<table style=\"border-style: hidden; border-collapse: collapse;\" width=\"100%\"><tr><td style=\"border-top:hidden;border-bottom:hidden;vertical-align:middle;\"><div align=\"center\" style=\"vertical-align:middle;\"><table style=\"border:1px solid black;border-collapse: collapse;\">\n",
       "<tr style='border:1px solid black;color:black;background-color:#808080'>\n",
       "      <th colspan='2'><center>Burglary</center></th></tr>\n",
       "<tr><th style='border:1px solid black;border-bottom-style: double;color:black;background-color:#BBBBBB'>\n",
       "      <center>True</center></th><th style='border:1px solid black;border-bottom-style: double;color:black;background-color:#BBBBBB'>\n",
       "      <center>False</center></th></tr>\n",
       "<tr><td style='color:black;background-color:#fe7f64;text-align:right;padding: 3px;'>0.00</td><td style='color:black;background-color:#7ffe64;text-align:right;padding: 3px;'>1.00</td></tr>\n",
       "</table><br><small><i>P(Burglary)</i></small></div></td></tr></table>"
      ],
      "text/plain": [
       "<IPython.core.display.HTML object>"
      ]
     },
     "metadata": {},
     "output_type": "display_data"
    },
    {
     "data": {
      "text/html": [
       "<table style=\"border-style: hidden; border-collapse: collapse;\" width=\"100%\"><tr><td style=\"border-top:hidden;border-bottom:hidden;vertical-align:middle;\"><div align=\"center\" style=\"vertical-align:middle;\"><table style=\"border:1px solid black;border-collapse: collapse;\">\n",
       "<tr style='border:1px solid black;color:black;background-color:#808080'>\n",
       "      <th colspan='2'><center>Earthquake</center></th></tr>\n",
       "<tr><th style='border:1px solid black;border-bottom-style: double;color:black;background-color:#BBBBBB'>\n",
       "      <center>True</center></th><th style='border:1px solid black;border-bottom-style: double;color:black;background-color:#BBBBBB'>\n",
       "      <center>False</center></th></tr>\n",
       "<tr><td style='color:black;background-color:#fe7f64;text-align:right;padding: 3px;'>0.00</td><td style='color:black;background-color:#7ffe64;text-align:right;padding: 3px;'>1.00</td></tr>\n",
       "</table><br><small><i>P(Earthquake)</i></small></div></td></tr></table>"
      ],
      "text/plain": [
       "<IPython.core.display.HTML object>"
      ]
     },
     "metadata": {},
     "output_type": "display_data"
    },
    {
     "data": {
      "text/html": [
       "<table style=\"border-style: hidden; border-collapse: collapse;\" width=\"100%\"><tr><td style=\"border-top:hidden;border-bottom:hidden;vertical-align:middle;\"><div align=\"center\" style=\"vertical-align:middle;\"><table style=\"border:1px solid black;border-collapse: collapse;\">\n",
       "<tr><th colspan='2'></th>\n",
       "      <th colspan='2' style='border:1px solid black;color:black;background-color:#808080;'><center>Alarm</center>\n",
       "      </th></tr>\n",
       "<tr><th style='border:1px solid black;color:black;background-color:#808080'><center>Earthquake</center></th><th style='border:1px solid black;color:black;background-color:#808080'><center>Burglary</center></th><th style='border:1px solid black;border-bottom-style: double;color:black;background-color:#BBBBBB'>\n",
       "      <center>True</center></th><th style='border:1px solid black;border-bottom-style: double;color:black;background-color:#BBBBBB'>\n",
       "      <center>False</center></th></tr>\n",
       "<tr><th style='border:1px solid black;color:black;background-color:#BBBBBB;' rowspan = '2'>\n",
       "            <center>True</center></th><th style='border:1px solid black;color:black;background-color:#BBBBBB'><center>True</center></th><td style='color:black;background-color:#85f864;text-align:right;padding: 3px;'>0.95</td><td style='color:black;background-color:#f88564;text-align:right;padding: 3px;'>0.05</td></tr>\n",
       "<tr><th style='border:1px solid black;color:black;background-color:#BBBBBB'><center>False</center></th><td style='color:black;background-color:#86f764;text-align:right;padding: 3px;'>0.94</td><td style='color:black;background-color:#f78664;text-align:right;padding: 3px;'>0.06</td></tr>\n",
       "<tr><th style='border:1px solid black;color:black;background-color:#BBBBBB;' rowspan = '2'>\n",
       "            <center>False</center></th><th style='border:1px solid black;color:black;background-color:#BBBBBB'><center>True</center></th><td style='color:black;background-color:#d9a464;text-align:right;padding: 3px;'>0.29</td><td style='color:black;background-color:#a4d964;text-align:right;padding: 3px;'>0.71</td></tr>\n",
       "<tr><th style='border:1px solid black;color:black;background-color:#BBBBBB'><center>False</center></th><td style='color:black;background-color:#fe7f64;text-align:right;padding: 3px;'>0.00</td><td style='color:black;background-color:#7ffe64;text-align:right;padding: 3px;'>1.00</td></tr>\n",
       "</table><br><small><i>P(Alarm|Burglary, Earthquake)</i></small></div></td><td style=\"border-top:hidden;border-bottom:hidden;vertical-align:middle;\"><div align=\"center\" style=\"vertical-align:middle;\"><svg xmlns=\"http://www.w3.org/2000/svg\" xmlns:xlink=\"http://www.w3.org/1999/xlink\" width=\"144pt\" height=\"101pt\" viewBox=\"0.00 0.00 144.00 100.61\">\n",
       "<g id=\"graph0\" class=\"graph\" transform=\"scale(1.87 1.87) rotate(0) translate(4 184)\">\n",
       "<title>G</title>\n",
       "<!-- Alarm -->\n",
       "<g id=\"node1\" class=\"node\">\n",
       "<title>Alarm</title>\n",
       "<g id=\"a_node1\"><a xlink:title=\"(2) Alarm\">\n",
       "<ellipse fill=\"#404040\" stroke=\"#4a4a4a\" cx=\"131.99\" cy=\"-90\" rx=\"38.19\" ry=\"18\"/>\n",
       "<text text-anchor=\"middle\" x=\"131.99\" y=\"-86.3\" font-family=\"Times,serif\" font-size=\"14.00\" fill=\"white\">Alarm</text>\n",
       "</a>\n",
       "</g>\n",
       "</g>\n",
       "<!-- John Calls -->\n",
       "<g id=\"node4\" class=\"node\">\n",
       "<title>John Calls</title>\n",
       "<g id=\"a_node4\"><a xlink:title=\"(3) John Calls\">\n",
       "<ellipse fill=\"#404040\" stroke=\"#4a4a4a\" cx=\"63.99\" cy=\"-18\" rx=\"57.39\" ry=\"18\"/>\n",
       "<text text-anchor=\"middle\" x=\"63.99\" y=\"-14.3\" font-family=\"Times,serif\" font-size=\"14.00\" fill=\"white\">John Calls</text>\n",
       "</a>\n",
       "</g>\n",
       "</g>\n",
       "<!-- Alarm&#45;&gt;John Calls -->\n",
       "<g id=\"edge1\" class=\"edge\">\n",
       "<title>Alarm-&gt;John Calls</title>\n",
       "<g id=\"a_edge1\"><a xlink:title=\"2 → 3\">\n",
       "<path fill=\"none\" stroke=\"#4a4a4a\" d=\"M116.56,-73.12C107.82,-64.12 96.71,-52.68 86.96,-42.65\"/>\n",
       "<polygon fill=\"#4a4a4a\" stroke=\"#4a4a4a\" points=\"89.31,-40.04 79.84,-35.31 84.29,-44.92 89.31,-40.04\"/>\n",
       "</a>\n",
       "</g>\n",
       "</g>\n",
       "<!-- Mary Calls -->\n",
       "<g id=\"node5\" class=\"node\">\n",
       "<title>Mary Calls</title>\n",
       "<g id=\"a_node5\"><a xlink:title=\"(4) Mary Calls\">\n",
       "<ellipse fill=\"#404040\" stroke=\"#4a4a4a\" cx=\"199.99\" cy=\"-18\" rx=\"61.19\" ry=\"18\"/>\n",
       "<text text-anchor=\"middle\" x=\"199.99\" y=\"-14.3\" font-family=\"Times,serif\" font-size=\"14.00\" fill=\"white\">Mary Calls</text>\n",
       "</a>\n",
       "</g>\n",
       "</g>\n",
       "<!-- Alarm&#45;&gt;Mary Calls -->\n",
       "<g id=\"edge4\" class=\"edge\">\n",
       "<title>Alarm-&gt;Mary Calls</title>\n",
       "<g id=\"a_edge4\"><a xlink:title=\"2 → 4\">\n",
       "<path fill=\"none\" stroke=\"#4a4a4a\" d=\"M147.42,-73.12C156.04,-64.24 166.96,-53.01 176.61,-43.08\"/>\n",
       "<polygon fill=\"#4a4a4a\" stroke=\"#4a4a4a\" points=\"179.22,-45.41 183.68,-35.8 174.2,-40.53 179.22,-45.41\"/>\n",
       "</a>\n",
       "</g>\n",
       "</g>\n",
       "<!-- Earthquake -->\n",
       "<g id=\"node2\" class=\"node\">\n",
       "<title>Earthquake</title>\n",
       "<g id=\"a_node2\"><a xlink:title=\"(1) Earthquake\">\n",
       "<ellipse fill=\"#404040\" stroke=\"#4a4a4a\" cx=\"64.99\" cy=\"-162\" rx=\"64.99\" ry=\"18\"/>\n",
       "<text text-anchor=\"middle\" x=\"64.99\" y=\"-158.3\" font-family=\"Times,serif\" font-size=\"14.00\" fill=\"white\">Earthquake</text>\n",
       "</a>\n",
       "</g>\n",
       "</g>\n",
       "<!-- Earthquake&#45;&gt;Alarm -->\n",
       "<g id=\"edge3\" class=\"edge\">\n",
       "<title>Earthquake-&gt;Alarm</title>\n",
       "<g id=\"a_edge3\"><a xlink:title=\"1 → 2\">\n",
       "<path fill=\"none\" stroke=\"#4a4a4a\" d=\"M80.87,-144.41C89.42,-135.48 100.11,-124.31 109.5,-114.5\"/>\n",
       "<polygon fill=\"#4a4a4a\" stroke=\"#4a4a4a\" points=\"112.31,-116.63 116.69,-106.99 107.25,-111.79 112.31,-116.63\"/>\n",
       "</a>\n",
       "</g>\n",
       "</g>\n",
       "<!-- Burglary -->\n",
       "<g id=\"node3\" class=\"node\">\n",
       "<title>Burglary</title>\n",
       "<g id=\"a_node3\"><a xlink:title=\"(0) Burglary\">\n",
       "<ellipse fill=\"#404040\" stroke=\"#4a4a4a\" cx=\"199.99\" cy=\"-162\" rx=\"51.99\" ry=\"18\"/>\n",
       "<text text-anchor=\"middle\" x=\"199.99\" y=\"-158.3\" font-family=\"Times,serif\" font-size=\"14.00\" fill=\"white\">Burglary</text>\n",
       "</a>\n",
       "</g>\n",
       "</g>\n",
       "<!-- Burglary&#45;&gt;Alarm -->\n",
       "<g id=\"edge2\" class=\"edge\">\n",
       "<title>Burglary-&gt;Alarm</title>\n",
       "<g id=\"a_edge2\"><a xlink:title=\"0 → 2\">\n",
       "<path fill=\"none\" stroke=\"#4a4a4a\" d=\"M184.22,-144.76C175.34,-135.62 164.11,-124.06 154.34,-114\"/>\n",
       "<polygon fill=\"#4a4a4a\" stroke=\"#4a4a4a\" points=\"156.69,-111.4 147.21,-106.67 151.67,-116.28 156.69,-111.4\"/>\n",
       "</a>\n",
       "</g>\n",
       "</g>\n",
       "</g>\n",
       "</svg><br><small><i></i></small></div></td></tr></table>"
      ],
      "text/plain": [
       "<IPython.core.display.HTML object>"
      ]
     },
     "metadata": {},
     "output_type": "display_data"
    },
    {
     "data": {
      "text/html": [
       "<table style=\"border-style: hidden; border-collapse: collapse;\" width=\"100%\"><tr><td style=\"border-top:hidden;border-bottom:hidden;vertical-align:middle;\"><div align=\"center\" style=\"vertical-align:middle;\"><table style=\"border:1px solid black;border-collapse: collapse;\">\n",
       "<tr><th colspan='1'></th>\n",
       "      <th colspan='2' style='border:1px solid black;color:black;background-color:#808080;'><center>John Calls</center>\n",
       "      </th></tr>\n",
       "<tr><th style='border:1px solid black;color:black;background-color:#808080'><center>Alarm</center></th><th style='border:1px solid black;border-bottom-style: double;color:black;background-color:#BBBBBB'>\n",
       "      <center>True</center></th><th style='border:1px solid black;border-bottom-style: double;color:black;background-color:#BBBBBB'>\n",
       "      <center>False</center></th></tr>\n",
       "<tr><th style='border:1px solid black;color:black;background-color:#BBBBBB'><center>True</center></th><td style='color:black;background-color:#8bf264;text-align:right;padding: 3px;'>0.90</td><td style='color:black;background-color:#f28b64;text-align:right;padding: 3px;'>0.10</td></tr>\n",
       "<tr><th style='border:1px solid black;color:black;background-color:#BBBBBB'><center>False</center></th><td style='color:black;background-color:#f88564;text-align:right;padding: 3px;'>0.05</td><td style='color:black;background-color:#85f864;text-align:right;padding: 3px;'>0.95</td></tr>\n",
       "</table><br><small><i>P(John Calls|Alarm)</i></small></div></td></tr></table>"
      ],
      "text/plain": [
       "<IPython.core.display.HTML object>"
      ]
     },
     "metadata": {},
     "output_type": "display_data"
    },
    {
     "data": {
      "text/html": [
       "<table style=\"border-style: hidden; border-collapse: collapse;\" width=\"100%\"><tr><td style=\"border-top:hidden;border-bottom:hidden;vertical-align:middle;\"><div align=\"center\" style=\"vertical-align:middle;\"><table style=\"border:1px solid black;border-collapse: collapse;\">\n",
       "<tr><th colspan='1'></th>\n",
       "      <th colspan='2' style='border:1px solid black;color:black;background-color:#808080;'><center>Mary Calls</center>\n",
       "      </th></tr>\n",
       "<tr><th style='border:1px solid black;color:black;background-color:#808080'><center>Alarm</center></th><th style='border:1px solid black;border-bottom-style: double;color:black;background-color:#BBBBBB'>\n",
       "      <center>True</center></th><th style='border:1px solid black;border-bottom-style: double;color:black;background-color:#BBBBBB'>\n",
       "      <center>False</center></th></tr>\n",
       "<tr><th style='border:1px solid black;color:black;background-color:#BBBBBB'><center>True</center></th><td style='color:black;background-color:#a5d864;text-align:right;padding: 3px;'>0.70</td><td style='color:black;background-color:#d8a564;text-align:right;padding: 3px;'>0.30</td></tr>\n",
       "<tr><th style='border:1px solid black;color:black;background-color:#BBBBBB'><center>False</center></th><td style='color:black;background-color:#fd8064;text-align:right;padding: 3px;'>0.01</td><td style='color:black;background-color:#80fd64;text-align:right;padding: 3px;'>0.99</td></tr>\n",
       "</table><br><small><i>P(Mary Calls|Alarm)</i></small></div></td></tr></table>"
      ],
      "text/plain": [
       "<IPython.core.display.HTML object>"
      ]
     },
     "metadata": {},
     "output_type": "display_data"
    }
   ],
   "source": [
    "# Configurar o pyAgrum para exibir até 2 dígitos decimais nas probabilidades\n",
    "gum.config['notebook', 'potential_visible_digits'] = 2\n",
    "\n",
    "# Exibir a CPT de Burglary\n",
    "gnb.sideBySide(bn.cpt(\"Burglary\"), captions=['P(Burglary)'])\n",
    "\n",
    "# Exibir a CPT de Earthquake\n",
    "gnb.sideBySide(bn.cpt(\"Earthquake\"), captions=['P(Earthquake)'])\n",
    "\n",
    "# Exibir a CPT de Alarm com a rede gráfica no meio\n",
    "gnb.sideBySide(bn.cpt(\"Alarm\"), gnb.getBN(bn, size=\"2!\"), captions=['P(Alarm|Burglary, Earthquake)', \"\", ''])\n",
    "\n",
    "# Exibir a CPT de JohnCalls\n",
    "gnb.sideBySide(bn.cpt(\"John Calls\"), captions=['P(John Calls|Alarm)'])\n",
    "\n",
    "# Exibir a CPT de MaryCalls\n",
    "gnb.sideBySide(bn.cpt(\"Mary Calls\"), captions=['P(Mary Calls|Alarm)'])\n"
   ]
  }
 ],
 "metadata": {
  "kernelspec": {
   "display_name": ".venv",
   "language": "python",
   "name": "python3"
  },
  "language_info": {
   "codemirror_mode": {
    "name": "ipython",
    "version": 3
   },
   "file_extension": ".py",
   "mimetype": "text/x-python",
   "name": "python",
   "nbconvert_exporter": "python",
   "pygments_lexer": "ipython3",
   "version": "3.8.10"
  }
 },
 "nbformat": 4,
 "nbformat_minor": 2
}
