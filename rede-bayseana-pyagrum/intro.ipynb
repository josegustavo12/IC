{
 "cells": [
  {
   "cell_type": "markdown",
   "metadata": {},
   "source": [
    "# Instalação do pacote *PyAgrum*"
   ]
  },
  {
   "cell_type": "code",
   "execution_count": 37,
   "metadata": {},
   "outputs": [
    {
     "name": "stdout",
     "output_type": "stream",
     "text": [
      "Requirement already satisfied: pyagrum in /home/josegustavo/Documentos/IC/.venv/lib/python3.8/site-packages (1.13.2)\n",
      "Requirement already satisfied: numpy in /home/josegustavo/Documentos/IC/.venv/lib/python3.8/site-packages (from pyagrum) (1.24.4)\n",
      "Requirement already satisfied: matplotlib in /home/josegustavo/Documentos/IC/.venv/lib/python3.8/site-packages (from pyagrum) (3.7.5)\n",
      "Requirement already satisfied: pydot in /home/josegustavo/Documentos/IC/.venv/lib/python3.8/site-packages (from pyagrum) (3.0.2)\n",
      "Requirement already satisfied: contourpy>=1.0.1 in /home/josegustavo/Documentos/IC/.venv/lib/python3.8/site-packages (from matplotlib->pyagrum) (1.1.1)\n",
      "Requirement already satisfied: cycler>=0.10 in /home/josegustavo/Documentos/IC/.venv/lib/python3.8/site-packages (from matplotlib->pyagrum) (0.12.1)\n",
      "Requirement already satisfied: fonttools>=4.22.0 in /home/josegustavo/Documentos/IC/.venv/lib/python3.8/site-packages (from matplotlib->pyagrum) (4.54.1)\n",
      "Requirement already satisfied: kiwisolver>=1.0.1 in /home/josegustavo/Documentos/IC/.venv/lib/python3.8/site-packages (from matplotlib->pyagrum) (1.4.7)\n",
      "Requirement already satisfied: packaging>=20.0 in /home/josegustavo/Documentos/IC/.venv/lib/python3.8/site-packages (from matplotlib->pyagrum) (24.1)\n",
      "Requirement already satisfied: pillow>=6.2.0 in /home/josegustavo/Documentos/IC/.venv/lib/python3.8/site-packages (from matplotlib->pyagrum) (10.4.0)\n",
      "Requirement already satisfied: pyparsing>=2.3.1 in /home/josegustavo/Documentos/IC/.venv/lib/python3.8/site-packages (from matplotlib->pyagrum) (3.1.4)\n",
      "Requirement already satisfied: python-dateutil>=2.7 in /home/josegustavo/Documentos/IC/.venv/lib/python3.8/site-packages (from matplotlib->pyagrum) (2.9.0.post0)\n",
      "Requirement already satisfied: importlib-resources>=3.2.0 in /home/josegustavo/Documentos/IC/.venv/lib/python3.8/site-packages (from matplotlib->pyagrum) (6.4.5)\n",
      "Requirement already satisfied: zipp>=3.1.0 in /home/josegustavo/Documentos/IC/.venv/lib/python3.8/site-packages (from importlib-resources>=3.2.0->matplotlib->pyagrum) (3.20.2)\n",
      "Requirement already satisfied: six>=1.5 in /home/josegustavo/Documentos/IC/.venv/lib/python3.8/site-packages (from python-dateutil>=2.7->matplotlib->pyagrum) (1.16.0)\n",
      "Note: you may need to restart the kernel to use updated packages.\n",
      "\u001b[31mERROR: Could not find a version that satisfies the requirement pyAgrum-lib (from versions: none)\u001b[0m\u001b[31m\n",
      "\u001b[0m\u001b[31mERROR: No matching distribution found for pyAgrum-lib\u001b[0m\u001b[31m\n",
      "\u001b[0mNote: you may need to restart the kernel to use updated packages.\n",
      "Collecting pandas\n",
      "  Using cached pandas-2.0.3-cp38-cp38-manylinux_2_17_x86_64.manylinux2014_x86_64.whl.metadata (18 kB)\n",
      "Requirement already satisfied: python-dateutil>=2.8.2 in /home/josegustavo/Documentos/IC/.venv/lib/python3.8/site-packages (from pandas) (2.9.0.post0)\n",
      "Collecting pytz>=2020.1 (from pandas)\n",
      "  Using cached pytz-2024.2-py2.py3-none-any.whl.metadata (22 kB)\n",
      "Collecting tzdata>=2022.1 (from pandas)\n",
      "  Using cached tzdata-2024.2-py2.py3-none-any.whl.metadata (1.4 kB)\n",
      "Requirement already satisfied: numpy>=1.20.3 in /home/josegustavo/Documentos/IC/.venv/lib/python3.8/site-packages (from pandas) (1.24.4)\n",
      "Requirement already satisfied: six>=1.5 in /home/josegustavo/Documentos/IC/.venv/lib/python3.8/site-packages (from python-dateutil>=2.8.2->pandas) (1.16.0)\n",
      "Using cached pandas-2.0.3-cp38-cp38-manylinux_2_17_x86_64.manylinux2014_x86_64.whl (12.4 MB)\n",
      "Using cached pytz-2024.2-py2.py3-none-any.whl (508 kB)\n",
      "Using cached tzdata-2024.2-py2.py3-none-any.whl (346 kB)\n",
      "Installing collected packages: pytz, tzdata, pandas\n",
      "Successfully installed pandas-2.0.3 pytz-2024.2 tzdata-2024.2\n",
      "Note: you may need to restart the kernel to use updated packages.\n"
     ]
    }
   ],
   "source": [
    "%pip install pyagrum\n",
    "%pip install pyAgrum-lib\n",
    "%pip install pandas\n"
   ]
  },
  {
   "cell_type": "code",
   "execution_count": 2,
   "metadata": {},
   "outputs": [
    {
     "data": {
      "text/html": [
       "<table><tr><th>Library</th><th>Version</th></tr><tr><td>OS</td><td>posix [linux]</td></tr><tr><td>Python</td><td>3.8.10 (default, Sep 11 2024, 16:02:53) \n",
       "[GCC 9.4.0]</td></tr><tr><td>IPython</td><td>8.12.3</td></tr><tr><td>Matplotlib</td><td>3.7.5</td></tr><tr><td>Numpy</td><td>1.24.4</td></tr><tr><td>pyDot</td><td>3.0.2</td></tr><tr><td>pyAgrum</td><td>1.13.2</td></tr></table><div align='right'><small>Wed Nov 06 19:36:00 2024 -03</small></div>"
      ],
      "text/plain": [
       "<IPython.core.display.HTML object>"
      ]
     },
     "metadata": {},
     "output_type": "display_data"
    }
   ],
   "source": [
    "# Importação das bibliotecas\n",
    "\n",
    "import pyAgrum as gum # pyagrum \n",
    "import pyAgrum.lib.notebook as gnb\n",
    "import matplotlib.pyplot as plt\n",
    "from pylab import *\n",
    "import os\n",
    "\n",
    "gnb.configuration() # configuração do notebook \n"
   ]
  },
  {
   "cell_type": "markdown",
   "metadata": {},
   "source": [
    "# Criando uma Rede Bayseana com o *PyAgrum*\n",
    "* Seguindo a documentação da biblioteca:\n",
    "* * [Documentação](https://pyagrum.readthedocs.io/en/1.17.0/notebooks/01-Tutorial.html)\n",
    "\n",
    "Uma rede bayesiana (BN) é composta por variáveis aleatórias (nós) e suas dependências condicionais (arestas) que, juntas, formam um grafo acíclico direcionado (DAG). Uma tabela de probabilidade condicional (CPT) está associada a cada nó. Ela contém a distribuição de probabilidade condicional do nó dado seus pais no DAG:\n",
    "\n",
    "[imagem]\n",
    "\n",
    "\n",
    "Claro! Abaixo está a tradução do texto fornecido, seguida de uma explicação mais detalhada para melhor compreensão.\n",
    "\n",
    "**Uma rede bayesiana (BN) permite manipular a probabilidade conjunta P(C,S,R,W) utilizando esta decomposição:**\n",
    "\n",
    "$P(C,S,R,W) = \\prod_{X} P(X \\mid \\text{Pais}(X)) = P(C) \\cdot P(S \\mid C) \\cdot P(R \\mid C) \\cdot P(W \\mid S,R)$\n",
    "\n",
    "**Imagine que você deseja criar sua primeira rede bayesiana, por exemplo, a rede ‘Water Sprinkler’ (Sprinkler de Água). Este é um exemplo simples. Todos os nós são booleanos (apenas 2 valores possíveis). Você pode proceder da seguinte forma.**\n",
    "\n",
    "### **Explicação Detalhada**\n",
    "\n",
    "#### **1. Rede Bayesiana e Probabilidade Conjunta**\n",
    "\n",
    "**Rede Bayesiana (BN):**\n",
    "Uma **rede bayesiana** é uma representação gráfica que modela um conjunto de variáveis aleatórias e suas dependências condicionais através de um **Grafo Acíclico Dirigido (DAG)**. Cada nó no grafo representa uma variável aleatória, e as arestas direcionadas indicam dependências entre essas variáveis.\n",
    "\n",
    "**Probabilidade Conjunta:**\n",
    "A probabilidade conjunta P(C,S,R,W) representa a probabilidade de ocorrência simultânea de todas as variáveis C, S, R, W.\n",
    "\n",
    "**Decomposição da Probabilidade Conjunta:**\n",
    "A rede bayesiana permite decompor a probabilidade conjunta em fatores mais simples, baseados nas dependências condicionais representadas pelo DAG. A decomposição apresentada é:\n",
    "\n",
    "$P(C,S,R,W) = \\prod_{X} P(X \\mid \\text{Pais}(X)) = P(C) \\cdot P(S \\mid C) \\cdot P(R \\mid C) \\cdot P(W \\mid S,R)$\n",
    "\n",
    "**Onde:**\n",
    "- $P(X \\mid \\text{Pais}(X))$ é a probabilidade condicional da variável X dado seus pais no grafo.\n",
    "- A multiplicação dos fatores condicionais fornece a probabilidade conjunta completa.\n",
    "\n",
    "#### **2. Exemplo: Rede 'Water Sprinkler' (Sprinkler de Água)**\n",
    "\n",
    "**Descrição do Exemplo:**\n",
    "A rede 'Water Sprinkler' é um exemplo clássico e simples de rede bayesiana. Neste exemplo, todas as variáveis (nós) são booleanas, ou seja, podem assumir apenas dois valores (por exemplo, Verdadeiro/Falso ou Sim/Não).\n",
    "\n",
    "**Variáveis na Rede:**\n",
    "- **C**: **Clima** (C) – Representa as condições climáticas.\n",
    "- **S**: **Sprinkler** (S) – Indica se o sprinkler está ligado ou desligado.\n",
    "- **R**: **Chuva** (R) – Indica se há chuva.\n",
    "- **W**: **Grama Molhada** (W) – Indica se a grama está molhada.\n",
    "\n",
    "**Estrutura da Rede:**\n",
    "- **C** é a causa comum para **S** e **R**.\n",
    "- **S** e **R** são causas para **W**.\n",
    "\n",
    "**Interpretação das Dependências:**\n",
    "- O **Clima** (C) influencia tanto o estado do **Sprinkler** (S) quanto a ocorrência de **Chuva** (R).\n",
    "- Tanto o **Sprinkler** (S) quanto os **Raios** (R) influenciam se a **Grama está Molhada** (W).\n",
    "\n",
    "**Decomposição da Probabilidade Conjunta no Exemplo:**\n",
    "\n",
    "$P(C,S,R,W) = P(C) \\cdot P(S \\mid C) \\cdot P(R \\mid C) \\cdot P(W \\mid S,R)$\n",
    "\n",
    "**Explicação dos Termos:**\n",
    "- **$P(C)$**: Probabilidade do clima ser um determinado estado (por exemplo, Ensolarado ou Chuvoso).\n",
    "- **$P(S \\mid C)$**: Probabilidade do sprinkler estar ligado ou desligado dado o estado do clima.\n",
    "- **$P(R \\mid C)$**: Probabilidade de ocorrência de chuva dado o estado do clima.\n",
    "- **$P(W \\mid S,R)$**: Probabilidade da grama estar molhada dado o estado do sprinkler e a ocorrência de chuva.\n",
    "\n",
    "#### **3. Passos para Criar a Rede 'Water Sprinkler'**\n",
    "\n",
    "**Passo 1: Definir as Variáveis e seus Estados**\n",
    "- **Clima (C)**: Ensolarado (E) ou Chuvoso (Ch).\n",
    "- **Sprinkler (S)**: Ligado (L) ou Desligado (D).\n",
    "- **Chuva (R)**: Sim (S) ou Não (N).\n",
    "- **Grama Molhada (W)**: Sim (S) ou Não (N).\n",
    "\n",
    "**Passo 2: Estabelecer as Dependências (Arestas)**\n",
    "- **C → S**\n",
    "- **C → R**\n",
    "- **S → W**\n",
    "- **R → W**\n",
    "\n",
    "**Passo 3: Definir as Tabelas de Probabilidade Condicional (CPTs)**\n",
    "Para cada variável, definir as probabilidades condicionais com base nos seus pais no grafo.\n",
    "\n",
    "**Exemplo de CPTs:**\n",
    "\n",
    "Claro! Abaixo está a sua lista com todas as expressões matemáticas que estavam entre `\\( \\)` substituídas por `$$`. Isso permitirá que as equações sejam renderizadas como **display math** em ambientes que suportam Markdown com suporte a LaTeX, como Jupyter Notebooks.\n",
    "\n",
    "---\n",
    "\n",
    "1. **$P(C)$:**\n",
    "   - $P(C = E) = 0.7 $\n",
    "   - $ P(C = Ch) = 0.3 $\n",
    "\n",
    "2. **$ P(S \\mid C) $:**\n",
    "   - Se $C = E \\rightarrow P(S = L \\mid C = E) = 0.1 ,  P(S = D \\mid C = E) = 0.9$\n",
    "   - Se $C = Ch \\rightarrow P(S = L \\mid C = Ch) = 0.5 ,  P(S = D \\mid C = Ch) = 0.5$\n",
    "\n",
    "3. **$ P(R \\mid C) $:**\n",
    "   - Se $ C = E \\rightarrow P(R = S \\mid C = E) = 0.2, P(R = N \\mid C = E) = 0.8 $\n",
    "   - Se $ C = Ch \\rightarrow P(R = S \\mid C = Ch) = 0.9, P(R = N \\mid C = Ch) = 0.1 $\n",
    "\n",
    "4. **$ P(W \\mid S,R) $:**\n",
    "   - Se $ S = L e R = S \\rightarrow P(W = S \\mid S = L, R = S) = 0.99 $\n",
    "   - Se $ S = L e R = N \\rightarrow P(W = S \\mid S = L, R = N) = 0.90 $\n",
    "   - Se $ S = D e R = S \\rightarrow P(W = S \\mid S = D, R = S) = 0.90 $\n",
    "   - Se $ S = D e R = N \\rightarrow P(W = S \\mid S = D, R = N) = 0.00 $\n",
    "\n",
    "---\n",
    "\n",
    "!['BN_waterprinkler'](fotos/BN_waterprinkler.webp)"
   ]
  },
  {
   "cell_type": "code",
   "execution_count": 90,
   "metadata": {},
   "outputs": [
    {
     "name": "stdout",
     "output_type": "stream",
     "text": [
      "BN{nodes: 0, arcs: 0, domainSize: 1, dim: 0, mem: 0o}\n"
     ]
    }
   ],
   "source": [
    "bn = gum.BayesNet('WaterSprinkler')\n",
    "print(bn)"
   ]
  },
  {
   "cell_type": "markdown",
   "metadata": {},
   "source": [
    "\n",
    "\n",
    "**pyAgrum (aGrUM) fornece 4 tipos de variáveis:**\n",
    "\n",
    "- **LabelizedVariable**\n",
    "- **RangeVariable**\n",
    "- **IntegerVariable**\n",
    "- **DiscretizedVariable**\n",
    "\n",
    "**Neste tutorial, usaremos `LabelizedVariable`, que é uma variável cujo domínio é um conjunto finito de rótulos. A próxima linha criará uma variável chamada ‘c’, com 2 valores e descrita como ‘cloudy?’, e a adicionará à Rede Bayesiana (BN). O valor retornado é o ID do nó na estrutura gráfica (o DAG). pyAgrum na verdade distingue a variável aleatória (aqui a `LabelizedVariable`) do seu nó no DAG: este último é identificado através de um ID numérico. Claro, pyAgrum fornece funções para obter o ID de um nó dado a variável correspondente e vice-versa.**\n",
    "\n",
    "\n",
    "### **Explicação Detalhada**\n",
    "\n",
    "#### **1. Tipos de Variáveis em pyAgrum**\n",
    "\n",
    "- **LabelizedVariable:** Uma variável que possui um conjunto finito de rótulos como seu domínio.\n",
    "- **RangeVariable:** Uma variável que assume valores em um intervalo contínuo ou discreto.\n",
    "- **IntegerVariable:** Uma variável que assume valores inteiros.\n",
    "- **DiscretizedVariable:** Uma variável contínua que foi discretizada em intervalos específicos.\n",
    "\n",
    "#### **2. Utilizando `LabelizedVariable`**\n",
    "\n",
    "No contexto deste tutorial, `LabelizedVariable` é a escolha para criar variáveis com um conjunto limitado e definido de rótulos. Isso é particularmente útil em redes bayesianas onde as variáveis representam estados discretos, como \"Sim\" ou \"Não\", \"Ensolarado\" ou \"Chuvoso\", etc.\n",
    "\n"
   ]
  },
  {
   "cell_type": "code",
   "execution_count": 91,
   "metadata": {},
   "outputs": [
    {
     "name": "stdout",
     "output_type": "stream",
     "text": [
      "0\n"
     ]
    }
   ],
   "source": [
    "id_c=bn.add(gum.LabelizedVariable('c','cloudy ?',2))\n",
    "print(id_c)"
   ]
  },
  {
   "cell_type": "code",
   "execution_count": 92,
   "metadata": {},
   "outputs": [
    {
     "name": "stdout",
     "output_type": "stream",
     "text": [
      "IDs das variáveis: 1 2 3\n",
      "Estrutura da Rede Bayesiana após adicionar variáveis:\n",
      "BN{nodes: 4, arcs: 0, domainSize: 16, dim: 4, mem: 64o}\n"
     ]
    }
   ],
   "source": [
    "# add -> adiciona uma nova variavel a rede \n",
    "# objeto.add(nome, estados) -> estados = 2: true/false\n",
    "\n",
    "id_s, id_r, id_w = [ bn.add(name, 2) for name in \"srw\" ] #bn.add(name, 2) === bn.add(gum.LabelizedVariable(name, name, 2))\n",
    "print(\"IDs das variáveis:\", id_s, id_r, id_w)\n",
    "print(\"Estrutura da Rede Bayesiana após adicionar variáveis:\")\n",
    "print(bn)"
   ]
  },
  {
   "cell_type": "code",
   "execution_count": 6,
   "metadata": {},
   "outputs": [
    {
     "name": "stdout",
     "output_type": "stream",
     "text": [
      "bn.variable(id_s)=(pyAgrum.DiscreteVariable@0x2117fa0) s:Range([0,1])\n",
      "bn['s']=(pyAgrum.DiscreteVariable@0x2117fa0) s:Range([0,1])\n",
      "id_s=1\n",
      "bn.idFromName('s')=1\n",
      "bn.variable(id_s).name()='s'\n"
     ]
    }
   ],
   "source": [
    "print(f\"{bn.variable(id_s)=}\")\n",
    "print(f\"{bn['s']=}\")\n",
    "print(f\"{id_s=}\")\n",
    "print(f\"{bn.idFromName('s')=}\")\n",
    "print(f\"{bn.variable(id_s).name()=}\")"
   ]
  },
  {
   "cell_type": "markdown",
   "metadata": {},
   "source": [
    "# Criando arcos (arcs)\n",
    "\n",
    "## Conceito de arcos:\n",
    "\n",
    "- **Nó (Node)**: Representa uma variável aleatória. Cada nó pode ter diferentes estados (valores possíveis).\n",
    "  \n",
    "- **Arco (Arc)**: Representa uma dependência condicional entre duas variáveis. Um arco direcionado de um nó **A** para um nó **B** indica que **A** é um **pai** de **B**, ou seja, **B** depende de **A**.\n",
    "\n",
    "### **Adicionando Arcos entre os Nós**\n",
    "\n",
    "Para conectar os nós na Rede Bayesiana, usamos a função **`addArc`**. Suponhamos que você queira conectar os nós `'s'` (s) e `'r'` (r), onde `'s'` é o **pai** de `'r'`. Além disso, você pode querer conectar `'r'` a `'w'`.\n",
    "\n",
    "**Explicação:**\n",
    "\n",
    "1. **`bn.addArc(id_s, id_r)`**:\n",
    "   - **Propósito**: Cria um arco direcionado do nó `'s'` (`id_s`) para o nó `'r'` (`id_r`).\n",
    "   - **Interpretação**: Indica que `'r'` depende de `'s'`.\n",
    "\n",
    "2. **`bn.addArc(id_r, id_w)`**:\n",
    "   - **Propósito**: Cria um arco direcionado do nó `'r'` (`id_r`) para o nó `'w'` (`id_w`).\n",
    "   - **Interpretação**: Indica que `'w'` depende de `'r'`.\n",
    "\n",
    "\n",
    "- **Antes da Adição dos Arcos:**\n",
    "  - Os nós `'s'`, `'r'` e `'w'` foram adicionados sem nenhuma conexão entre eles.\n",
    "\n",
    "- **Após a Adição dos Arcos:**\n",
    "  - `'s'` está conectado a `'r'` (`s -> r`), indicando que `'r'` depende de `'s'`.\n",
    "  - `'r'` está conectado a `'w'` (`r -> w`), indicando que `'w'` depende de `'r'`.\n",
    "  - `'w'` não tem nenhum nó dependente, então sua coluna de pais está vazia."
   ]
  },
  {
   "cell_type": "code",
   "execution_count": 93,
   "metadata": {},
   "outputs": [
    {
     "data": {
      "text/html": [
       "<svg xmlns=\"http://www.w3.org/2000/svg\" xmlns:xlink=\"http://www.w3.org/1999/xlink\" width=\"206pt\" height=\"116pt\" viewBox=\"0.00 0.00 206.00 116.00\">\n",
       "<g id=\"graph0\" class=\"graph\" transform=\"scale(1 1) rotate(0) translate(4 112)\">\n",
       "<title>G</title>\n",
       "<!-- c -->\n",
       "<g id=\"node1\" class=\"node\">\n",
       "<title>c</title>\n",
       "<g id=\"a_node1\"><a xlink:title=\"(0) c\">\n",
       "<ellipse fill=\"#404040\" stroke=\"#4a4a4a\" cx=\"27\" cy=\"-90\" rx=\"27\" ry=\"18\"/>\n",
       "<text text-anchor=\"middle\" x=\"27\" y=\"-86.3\" font-family=\"Times,serif\" font-size=\"14.00\" fill=\"white\">c</text>\n",
       "</a>\n",
       "</g>\n",
       "</g>\n",
       "<!-- s -->\n",
       "<g id=\"node2\" class=\"node\">\n",
       "<title>s</title>\n",
       "<g id=\"a_node2\"><a xlink:title=\"(1) s\">\n",
       "<ellipse fill=\"#404040\" stroke=\"#4a4a4a\" cx=\"27\" cy=\"-18\" rx=\"27\" ry=\"18\"/>\n",
       "<text text-anchor=\"middle\" x=\"27\" y=\"-14.3\" font-family=\"Times,serif\" font-size=\"14.00\" fill=\"white\">s</text>\n",
       "</a>\n",
       "</g>\n",
       "</g>\n",
       "<!-- c&#45;&gt;s -->\n",
       "<g id=\"edge1\" class=\"edge\">\n",
       "<title>c-&gt;s</title>\n",
       "<g id=\"a_edge1\"><a xlink:title=\"0 → 1\">\n",
       "<path fill=\"none\" stroke=\"#4a4a4a\" d=\"M27,-71.7C27,-63.98 27,-54.71 27,-46.11\"/>\n",
       "<polygon fill=\"#4a4a4a\" stroke=\"#4a4a4a\" points=\"30.5,-46.1 27,-36.1 23.5,-46.1 30.5,-46.1\"/>\n",
       "</a>\n",
       "</g>\n",
       "</g>\n",
       "<!-- r -->\n",
       "<g id=\"node3\" class=\"node\">\n",
       "<title>r</title>\n",
       "<g id=\"a_node3\"><a xlink:title=\"(2) r\">\n",
       "<ellipse fill=\"#404040\" stroke=\"#4a4a4a\" cx=\"99\" cy=\"-90\" rx=\"27\" ry=\"18\"/>\n",
       "<text text-anchor=\"middle\" x=\"99\" y=\"-86.3\" font-family=\"Times,serif\" font-size=\"14.00\" fill=\"white\">r</text>\n",
       "</a>\n",
       "</g>\n",
       "</g>\n",
       "<!-- w -->\n",
       "<g id=\"node4\" class=\"node\">\n",
       "<title>w</title>\n",
       "<g id=\"a_node4\"><a xlink:title=\"(3) w\">\n",
       "<ellipse fill=\"#404040\" stroke=\"#4a4a4a\" cx=\"171\" cy=\"-90\" rx=\"27\" ry=\"18\"/>\n",
       "<text text-anchor=\"middle\" x=\"171\" y=\"-86.3\" font-family=\"Times,serif\" font-size=\"14.00\" fill=\"white\">w</text>\n",
       "</a>\n",
       "</g>\n",
       "</g>\n",
       "</g>\n",
       "</svg>"
      ],
      "text/plain": [
       "(pyAgrum.BayesNet<double>@0x192b610) BN{nodes: 4, arcs: 1, domainSize: 16, dim: 5, mem: 80o}"
      ]
     },
     "execution_count": 93,
     "metadata": {},
     "output_type": "execute_result"
    }
   ],
   "source": [
    "# 1° metodo de criar a rede, conectando atravez da função addarc\n",
    "bn.addArc(\"c\",\"s\")\n",
    "bn"
   ]
  },
  {
   "cell_type": "code",
   "execution_count": 8,
   "metadata": {},
   "outputs": [
    {
     "name": "stdout",
     "output_type": "stream",
     "text": [
      "BN{nodes: 4, arcs: 4, domainSize: 16, dim: 9, mem: 144o}\n"
     ]
    },
    {
     "data": {
      "text/html": [
       "<svg xmlns=\"http://www.w3.org/2000/svg\" xmlns:xlink=\"http://www.w3.org/1999/xlink\" width=\"134pt\" height=\"188pt\" viewBox=\"0.00 0.00 134.00 188.00\">\n",
       "<g id=\"graph0\" class=\"graph\" transform=\"scale(1 1) rotate(0) translate(4 184)\">\n",
       "<title>G</title>\n",
       "<!-- c -->\n",
       "<g id=\"node1\" class=\"node\">\n",
       "<title>c</title>\n",
       "<g id=\"a_node1\"><a xlink:title=\"(0) c\">\n",
       "<ellipse fill=\"#404040\" stroke=\"#4a4a4a\" cx=\"63\" cy=\"-162\" rx=\"27\" ry=\"18\"/>\n",
       "<text text-anchor=\"middle\" x=\"63\" y=\"-158.3\" font-family=\"Times,serif\" font-size=\"14.00\" fill=\"white\">c</text>\n",
       "</a>\n",
       "</g>\n",
       "</g>\n",
       "<!-- s -->\n",
       "<g id=\"node2\" class=\"node\">\n",
       "<title>s</title>\n",
       "<g id=\"a_node2\"><a xlink:title=\"(1) s\">\n",
       "<ellipse fill=\"#404040\" stroke=\"#4a4a4a\" cx=\"27\" cy=\"-90\" rx=\"27\" ry=\"18\"/>\n",
       "<text text-anchor=\"middle\" x=\"27\" y=\"-86.3\" font-family=\"Times,serif\" font-size=\"14.00\" fill=\"white\">s</text>\n",
       "</a>\n",
       "</g>\n",
       "</g>\n",
       "<!-- c&#45;&gt;s -->\n",
       "<g id=\"edge1\" class=\"edge\">\n",
       "<title>c-&gt;s</title>\n",
       "<g id=\"a_edge1\"><a xlink:title=\"0 → 1\">\n",
       "<path fill=\"none\" stroke=\"#4a4a4a\" d=\"M54.65,-144.76C50.29,-136.28 44.85,-125.71 39.96,-116.2\"/>\n",
       "<polygon fill=\"#4a4a4a\" stroke=\"#4a4a4a\" points=\"42.99,-114.44 35.3,-107.15 36.77,-117.64 42.99,-114.44\"/>\n",
       "</a>\n",
       "</g>\n",
       "</g>\n",
       "<!-- r -->\n",
       "<g id=\"node3\" class=\"node\">\n",
       "<title>r</title>\n",
       "<g id=\"a_node3\"><a xlink:title=\"(2) r\">\n",
       "<ellipse fill=\"#404040\" stroke=\"#4a4a4a\" cx=\"99\" cy=\"-90\" rx=\"27\" ry=\"18\"/>\n",
       "<text text-anchor=\"middle\" x=\"99\" y=\"-86.3\" font-family=\"Times,serif\" font-size=\"14.00\" fill=\"white\">r</text>\n",
       "</a>\n",
       "</g>\n",
       "</g>\n",
       "<!-- c&#45;&gt;r -->\n",
       "<g id=\"edge2\" class=\"edge\">\n",
       "<title>c-&gt;r</title>\n",
       "<g id=\"a_edge2\"><a xlink:title=\"0 → 2\">\n",
       "<path fill=\"none\" stroke=\"#4a4a4a\" d=\"M71.35,-144.76C75.71,-136.28 81.15,-125.71 86.04,-116.2\"/>\n",
       "<polygon fill=\"#4a4a4a\" stroke=\"#4a4a4a\" points=\"89.23,-117.64 90.7,-107.15 83.01,-114.44 89.23,-117.64\"/>\n",
       "</a>\n",
       "</g>\n",
       "</g>\n",
       "<!-- w -->\n",
       "<g id=\"node4\" class=\"node\">\n",
       "<title>w</title>\n",
       "<g id=\"a_node4\"><a xlink:title=\"(3) w\">\n",
       "<ellipse fill=\"#404040\" stroke=\"#4a4a4a\" cx=\"63\" cy=\"-18\" rx=\"27\" ry=\"18\"/>\n",
       "<text text-anchor=\"middle\" x=\"63\" y=\"-14.3\" font-family=\"Times,serif\" font-size=\"14.00\" fill=\"white\">w</text>\n",
       "</a>\n",
       "</g>\n",
       "</g>\n",
       "<!-- s&#45;&gt;w -->\n",
       "<g id=\"edge4\" class=\"edge\">\n",
       "<title>s-&gt;w</title>\n",
       "<g id=\"a_edge4\"><a xlink:title=\"1 → 3\">\n",
       "<path fill=\"none\" stroke=\"#4a4a4a\" d=\"M35.35,-72.76C39.71,-64.28 45.15,-53.71 50.04,-44.2\"/>\n",
       "<polygon fill=\"#4a4a4a\" stroke=\"#4a4a4a\" points=\"53.23,-45.64 54.7,-35.15 47.01,-42.44 53.23,-45.64\"/>\n",
       "</a>\n",
       "</g>\n",
       "</g>\n",
       "<!-- r&#45;&gt;w -->\n",
       "<g id=\"edge3\" class=\"edge\">\n",
       "<title>r-&gt;w</title>\n",
       "<g id=\"a_edge3\"><a xlink:title=\"2 → 3\">\n",
       "<path fill=\"none\" stroke=\"#4a4a4a\" d=\"M90.65,-72.76C86.29,-64.28 80.85,-53.71 75.96,-44.2\"/>\n",
       "<polygon fill=\"#4a4a4a\" stroke=\"#4a4a4a\" points=\"78.99,-42.44 71.3,-35.15 72.77,-45.64 78.99,-42.44\"/>\n",
       "</a>\n",
       "</g>\n",
       "</g>\n",
       "</g>\n",
       "</svg>"
      ],
      "text/plain": [
       "(pyAgrum.BayesNet<double>@0x2212930) BN{nodes: 4, arcs: 4, domainSize: 16, dim: 9, mem: 144o}"
      ]
     },
     "execution_count": 8,
     "metadata": {},
     "output_type": "execute_result"
    }
   ],
   "source": [
    "# for do primeiro metodo\n",
    "for link in [(id_c,id_r),(id_s,id_w),(id_r,id_w)]:\n",
    "    bn.addArc(*link)\n",
    "print(bn) # 4 nós, 4 arcos conectando cada nó\n",
    "bn"
   ]
  },
  {
   "cell_type": "code",
   "execution_count": 94,
   "metadata": {},
   "outputs": [
    {
     "data": {
      "text/html": [
       "<svg xmlns=\"http://www.w3.org/2000/svg\" xmlns:xlink=\"http://www.w3.org/1999/xlink\" width=\"134pt\" height=\"188pt\" viewBox=\"0.00 0.00 134.00 188.00\">\n",
       "<g id=\"graph0\" class=\"graph\" transform=\"scale(1 1) rotate(0) translate(4 184)\">\n",
       "<title>G</title>\n",
       "<!-- c -->\n",
       "<g id=\"node1\" class=\"node\">\n",
       "<title>c</title>\n",
       "<g id=\"a_node1\"><a xlink:title=\"(0) c\">\n",
       "<ellipse fill=\"#404040\" stroke=\"#4a4a4a\" cx=\"63\" cy=\"-162\" rx=\"27\" ry=\"18\"/>\n",
       "<text text-anchor=\"middle\" x=\"63\" y=\"-158.3\" font-family=\"Times,serif\" font-size=\"14.00\" fill=\"white\">c</text>\n",
       "</a>\n",
       "</g>\n",
       "</g>\n",
       "<!-- s -->\n",
       "<g id=\"node2\" class=\"node\">\n",
       "<title>s</title>\n",
       "<g id=\"a_node2\"><a xlink:title=\"(3) s\">\n",
       "<ellipse fill=\"#404040\" stroke=\"#4a4a4a\" cx=\"27\" cy=\"-90\" rx=\"27\" ry=\"18\"/>\n",
       "<text text-anchor=\"middle\" x=\"27\" y=\"-86.3\" font-family=\"Times,serif\" font-size=\"14.00\" fill=\"white\">s</text>\n",
       "</a>\n",
       "</g>\n",
       "</g>\n",
       "<!-- c&#45;&gt;s -->\n",
       "<g id=\"edge3\" class=\"edge\">\n",
       "<title>c-&gt;s</title>\n",
       "<g id=\"a_edge3\"><a xlink:title=\"0 → 3\">\n",
       "<path fill=\"none\" stroke=\"#4a4a4a\" d=\"M54.65,-144.76C50.29,-136.28 44.85,-125.71 39.96,-116.2\"/>\n",
       "<polygon fill=\"#4a4a4a\" stroke=\"#4a4a4a\" points=\"42.99,-114.44 35.3,-107.15 36.77,-117.64 42.99,-114.44\"/>\n",
       "</a>\n",
       "</g>\n",
       "</g>\n",
       "<!-- r -->\n",
       "<g id=\"node3\" class=\"node\">\n",
       "<title>r</title>\n",
       "<g id=\"a_node3\"><a xlink:title=\"(1) r\">\n",
       "<ellipse fill=\"#404040\" stroke=\"#4a4a4a\" cx=\"99\" cy=\"-90\" rx=\"27\" ry=\"18\"/>\n",
       "<text text-anchor=\"middle\" x=\"99\" y=\"-86.3\" font-family=\"Times,serif\" font-size=\"14.00\" fill=\"white\">r</text>\n",
       "</a>\n",
       "</g>\n",
       "</g>\n",
       "<!-- c&#45;&gt;r -->\n",
       "<g id=\"edge1\" class=\"edge\">\n",
       "<title>c-&gt;r</title>\n",
       "<g id=\"a_edge1\"><a xlink:title=\"0 → 1\">\n",
       "<path fill=\"none\" stroke=\"#4a4a4a\" d=\"M71.35,-144.76C75.71,-136.28 81.15,-125.71 86.04,-116.2\"/>\n",
       "<polygon fill=\"#4a4a4a\" stroke=\"#4a4a4a\" points=\"89.23,-117.64 90.7,-107.15 83.01,-114.44 89.23,-117.64\"/>\n",
       "</a>\n",
       "</g>\n",
       "</g>\n",
       "<!-- w -->\n",
       "<g id=\"node4\" class=\"node\">\n",
       "<title>w</title>\n",
       "<g id=\"a_node4\"><a xlink:title=\"(2) w\">\n",
       "<ellipse fill=\"#404040\" stroke=\"#4a4a4a\" cx=\"63\" cy=\"-18\" rx=\"27\" ry=\"18\"/>\n",
       "<text text-anchor=\"middle\" x=\"63\" y=\"-14.3\" font-family=\"Times,serif\" font-size=\"14.00\" fill=\"white\">w</text>\n",
       "</a>\n",
       "</g>\n",
       "</g>\n",
       "<!-- s&#45;&gt;w -->\n",
       "<g id=\"edge4\" class=\"edge\">\n",
       "<title>s-&gt;w</title>\n",
       "<g id=\"a_edge4\"><a xlink:title=\"3 → 2\">\n",
       "<path fill=\"none\" stroke=\"#4a4a4a\" d=\"M35.35,-72.76C39.71,-64.28 45.15,-53.71 50.04,-44.2\"/>\n",
       "<polygon fill=\"#4a4a4a\" stroke=\"#4a4a4a\" points=\"53.23,-45.64 54.7,-35.15 47.01,-42.44 53.23,-45.64\"/>\n",
       "</a>\n",
       "</g>\n",
       "</g>\n",
       "<!-- r&#45;&gt;w -->\n",
       "<g id=\"edge2\" class=\"edge\">\n",
       "<title>r-&gt;w</title>\n",
       "<g id=\"a_edge2\"><a xlink:title=\"1 → 2\">\n",
       "<path fill=\"none\" stroke=\"#4a4a4a\" d=\"M90.65,-72.76C86.29,-64.28 80.85,-53.71 75.96,-44.2\"/>\n",
       "<polygon fill=\"#4a4a4a\" stroke=\"#4a4a4a\" points=\"78.99,-42.44 71.3,-35.15 72.77,-45.64 78.99,-42.44\"/>\n",
       "</a>\n",
       "</g>\n",
       "</g>\n",
       "</g>\n",
       "</svg>"
      ],
      "text/plain": [
       "(pyAgrum.BayesNet<double>@0x2930290) BN{nodes: 4, arcs: 4, domainSize: 16, dim: 9, mem: 144o}"
      ]
     },
     "execution_count": 94,
     "metadata": {},
     "output_type": "execute_result"
    }
   ],
   "source": [
    "# cria a rede baysena de forma rapida com uma string\n",
    "bn=gum.fastBN(\"c->r->w<-s<-c\") \n",
    "bn"
   ]
  },
  {
   "cell_type": "markdown",
   "metadata": {},
   "source": [
    "# Criação da CPTs (conditional probability tables)\n",
    "## Explicação breve:\n",
    "\n",
    "**1. O que é uma CPT?**\n",
    "Em uma Rede Bayesiana, cada nó representa uma variável aleatória. A CPT associa a cada nó uma tabela que especifica a probabilidade dessa variável assumir determinados valores, condicionado aos valores das suas variáveis pai (ou \"ancestors\") na rede.\n",
    "\n",
    "Claro! Vamos explicar resumidamente o que é uma **CPT (Tabela de Probabilidades Condicionais)** no contexto de **Redes Bayesianas**.\n",
    "\n",
    "\n",
    "#### **Exemplo Simples**\n",
    "\n",
    "Vamos considerar uma Rede Bayesiana com três nós:\n",
    "\n",
    "1. **C (Clima)**: Pode ser *Ensolarado* ou *Chuvoso*.\n",
    "2. **R (Risco de Incêndio)**: Pode ser *Alto* ou *Baixo*.\n",
    "3. **W (Queimada)**: Pode ser *Sim* ou *Não*.\n",
    "\n",
    "**Estrutura da Rede:**\n",
    "\n",
    "```\n",
    "C (Clima) → R (Risco de Incêndio) → W (Queimada)\n",
    "```\n",
    "\n",
    "#### **CPT para Cada Nó**\n",
    "\n",
    "1. **C (Clima)**:\n",
    "   \n",
    "   Como **C** não tem pais, sua CPT é simplesmente as probabilidades de cada estado:\n",
    "   \n",
    "   | C (Clima)   | P(C) |\n",
    "   |-------------|------|\n",
    "   | Ensolarado  | 0.7  |\n",
    "   | Chuvoso     | 0.3  |\n",
    "\n",
    "2. **R (Risco de Incêndio)**:\n",
    "   \n",
    "   **R** tem **C** como pai, então sua CPT especifica as probabilidades de **R** dado cada estado de **C**:\n",
    "   \n",
    "   | C (Clima)  | R (Risco) | P(R / C) |\n",
    "   |------------|-----------|----------|\n",
    "   | Ensolarado | Alto      | 0.6      |\n",
    "   | Ensolarado | Baixo     | 0.4      |\n",
    "   | Chuvoso    | Alto      | 0.2      |\n",
    "   | Chuvoso    | Baixo     | 0.8      |\n",
    "\n",
    "3. **W (Queimada)**:\n",
    "   \n",
    "   **W** tem **R** como pai, então sua CPT especifica as probabilidades de **W** dado cada estado de **R**:\n",
    "   \n",
    "   | R (Risco) | W (Queimada) | P(W / R) |\n",
    "   |-----------|--------------|----------|\n",
    "   | Alto      | Sim          | 0.9      |\n",
    "   | Alto      | Não          | 0.1      |\n",
    "   | Baixo     | Sim          | 0.2      |\n",
    "   | Baixo     | Não          | 0.8      |\n",
    "\n",
    "#### **Interpretação das Tabelas**\n",
    "\n",
    "- **P(C)**: Probabilidade do clima ser *Ensolarado* ou *Chuvoso*.\n",
    "- **P(R | C)**: Probabilidade do risco de incêndio ser *Alto* ou *Baixo* dado o clima.\n",
    "- **P(W | R)**: Probabilidade de haver uma queimada (*Sim* ou *Não*) dado o risco de incêndio.\n"
   ]
  },
  {
   "cell_type": "code",
   "execution_count": 10,
   "metadata": {},
   "outputs": [
    {
     "data": {
      "text/html": [
       "<table style=\"border:1px solid black;border-collapse: collapse;\">\n",
       "<tr style='border:1px solid black;color:black;background-color:#808080'>\n",
       "      <th colspan='2'><center>c</center></th></tr>\n",
       "<tr><th style='border:1px solid black;border-bottom-style: double;color:black;background-color:#BBBBBB'>\n",
       "      <center>0</center></th><th style='border:1px solid black;border-bottom-style: double;color:black;background-color:#BBBBBB'>\n",
       "      <center>1</center></th></tr>\n",
       "<tr><td style='color:black;background-color:#d8a564;text-align:right;padding: 3px;'>0.3000</td><td style='color:black;background-color:#a5d864;text-align:right;padding: 3px;'>0.7000</td></tr>\n",
       "</table>"
      ],
      "text/plain": [
       "(pyAgrum.Potential<double>@0x1fa5620) \n",
       "  c                |\n",
       "0        |1        |\n",
       "---------|---------|\n",
       " 0.3000  | 0.7000  |"
      ]
     },
     "execution_count": 10,
     "metadata": {},
     "output_type": "execute_result"
    }
   ],
   "source": [
    "# Criação da CPT no nó C\n",
    "bn.cpt(id_c).fillWith([0.3,0.7]) # remember : c=  0\n",
    "# bn.cpt(\"c\").fillWith([0.5,0.5])"
   ]
  },
  {
   "cell_type": "code",
   "execution_count": null,
   "metadata": {},
   "outputs": [
    {
     "name": "stdout",
     "output_type": "stream",
     "text": [
      "[0.9 0.1]\n"
     ]
    },
    {
     "data": {
      "text/html": [
       "<table style=\"border:1px solid black;border-collapse: collapse;\">\n",
       "<tr><th colspan='1'></th>\n",
       "      <th colspan='2' style='border:1px solid black;color:black;background-color:#808080;'><center>s</center>\n",
       "      </th></tr>\n",
       "<tr><th style='border:1px solid black;color:black;background-color:#808080'><center>c</center></th><th style='border:1px solid black;border-bottom-style: double;color:black;background-color:#BBBBBB'>\n",
       "      <center>0</center></th><th style='border:1px solid black;border-bottom-style: double;color:black;background-color:#BBBBBB'>\n",
       "      <center>1</center></th></tr>\n",
       "<tr><th style='border:1px solid black;color:black;background-color:#BBBBBB'><center>0</center></th><td style='color:black;background-color:#bfbf64;text-align:right;padding: 3px;'>0.5000</td><td style='color:black;background-color:#bfbf64;text-align:right;padding: 3px;'>0.5000</td></tr>\n",
       "<tr><th style='border:1px solid black;color:black;background-color:#BBBBBB'><center>1</center></th><td style='color:black;background-color:#8bf264;text-align:right;padding: 3px;'>0.9000</td><td style='color:black;background-color:#f28b64;text-align:right;padding: 3px;'>0.1000</td></tr>\n",
       "</table>"
      ],
      "text/plain": [
       "(pyAgrum.Potential<double>@0x13ebfe0) \n",
       "      ||  s                |\n",
       "c     ||0        |1        |\n",
       "------||---------|---------|\n",
       "0     || 0.5000  | 0.5000  |\n",
       "1     || 0.9000  | 0.1000  |"
      ]
     },
     "execution_count": 16,
     "metadata": {},
     "output_type": "execute_result"
    }
   ],
   "source": [
    "# Criação da CPT no nó S\n",
    "bn.cpt(\"s\").names\n",
    "bn.cpt(\"s\")[:]=[ [0.5,0.5],[0.9,0.1]]\n",
    "print(bn.cpt(\"s\")[1]) # probablidade condicional do s\n",
    "\n",
    "# Outra forma de implementar\n",
    "# bn.cpt(\"s\")[0,:]=0.5 # equivalent to [0.5,0.5]\n",
    "# bn.cpt(\"s\")[1,:]=[0.9,0.1]\n",
    "bn.cpt(\"s\")\n"
   ]
  },
  {
   "cell_type": "code",
   "execution_count": 95,
   "metadata": {},
   "outputs": [
    {
     "name": "stdout",
     "output_type": "stream",
     "text": [
      "\n",
      "      ||  s                |\n",
      "c     ||0        |1        |\n",
      "------||---------|---------|\n",
      "0     || 0.9277  | 0.0723  |\n",
      "1     || 0.3692  | 0.6308  |\n",
      "\n"
     ]
    }
   ],
   "source": [
    "print(bn.cpt(\"s\"))"
   ]
  },
  {
   "cell_type": "code",
   "execution_count": 19,
   "metadata": {},
   "outputs": [
    {
     "data": {
      "text/html": [
       "<table style=\"border:1px solid black;border-collapse: collapse;\">\n",
       "<tr><th colspan='1'></th>\n",
       "      <th colspan='2' style='border:1px solid black;color:black;background-color:#808080;'><center>r</center>\n",
       "      </th></tr>\n",
       "<tr><th style='border:1px solid black;color:black;background-color:#808080'><center>c</center></th><th style='border:1px solid black;border-bottom-style: double;color:black;background-color:#BBBBBB'>\n",
       "      <center>0</center></th><th style='border:1px solid black;border-bottom-style: double;color:black;background-color:#BBBBBB'>\n",
       "      <center>1</center></th></tr>\n",
       "<tr><th style='border:1px solid black;color:black;background-color:#BBBBBB'><center>0</center></th><td style='color:black;background-color:#d8a564;text-align:right;padding: 3px;'>0.3000</td><td style='color:black;background-color:#a5d864;text-align:right;padding: 3px;'>0.7000</td></tr>\n",
       "<tr><th style='border:1px solid black;color:black;background-color:#BBBBBB'><center>1</center></th><td style='color:black;background-color:#98e564;text-align:right;padding: 3px;'>0.8000</td><td style='color:black;background-color:#e59864;text-align:right;padding: 3px;'>0.2000</td></tr>\n",
       "</table>"
      ],
      "text/plain": [
       "(pyAgrum.Potential<double>@0x11cec60) \n",
       "      ||  r                |\n",
       "c     ||0        |1        |\n",
       "------||---------|---------|\n",
       "0     || 0.3000  | 0.7000  |\n",
       "1     || 0.8000  | 0.2000  |"
      ]
     },
     "execution_count": 19,
     "metadata": {},
     "output_type": "execute_result"
    }
   ],
   "source": [
    "# Criando a condicional do nó r\n",
    "bn.cpt(\"r\")[:]=[ [0.3,0.7],[0.8,0.2]]\n",
    "bn.cpt(\"r\")"
   ]
  },
  {
   "cell_type": "code",
   "execution_count": 22,
   "metadata": {},
   "outputs": [
    {
     "name": "stdout",
     "output_type": "stream",
     "text": [
      "('w', 'r', 's')\n"
     ]
    },
    {
     "data": {
      "text/html": [
       "<table style=\"border:1px solid black;border-collapse: collapse;\">\n",
       "<tr><th colspan='2'></th>\n",
       "      <th colspan='2' style='border:1px solid black;color:black;background-color:#808080;'><center>w</center>\n",
       "      </th></tr>\n",
       "<tr><th style='border:1px solid black;color:black;background-color:#808080'><center>s</center></th><th style='border:1px solid black;color:black;background-color:#808080'><center>r</center></th><th style='border:1px solid black;border-bottom-style: double;color:black;background-color:#BBBBBB'>\n",
       "      <center>0</center></th><th style='border:1px solid black;border-bottom-style: double;color:black;background-color:#BBBBBB'>\n",
       "      <center>1</center></th></tr>\n",
       "<tr><th style='border:1px solid black;color:black;background-color:#BBBBBB;' rowspan = '2'>\n",
       "            <center>0</center></th><th style='border:1px solid black;color:black;background-color:#BBBBBB'><center>0</center></th><td style='color:black;background-color:#e29b64;text-align:right;padding: 3px;'>0.2196</td><td style='color:black;background-color:#9be264;text-align:right;padding: 3px;'>0.7804</td></tr>\n",
       "<tr><th style='border:1px solid black;color:black;background-color:#BBBBBB'><center>1</center></th><td style='color:black;background-color:#b8c564;text-align:right;padding: 3px;'>0.5505</td><td style='color:black;background-color:#c5b864;text-align:right;padding: 3px;'>0.4495</td></tr>\n",
       "<tr><th style='border:1px solid black;color:black;background-color:#BBBBBB;' rowspan = '2'>\n",
       "            <center>1</center></th><th style='border:1px solid black;color:black;background-color:#BBBBBB'><center>0</center></th><td style='color:black;background-color:#b9c464;text-align:right;padding: 3px;'>0.5410</td><td style='color:black;background-color:#c4b964;text-align:right;padding: 3px;'>0.4590</td></tr>\n",
       "<tr><th style='border:1px solid black;color:black;background-color:#BBBBBB'><center>1</center></th><td style='color:black;background-color:#c0bd64;text-align:right;padding: 3px;'>0.4875</td><td style='color:black;background-color:#bdc064;text-align:right;padding: 3px;'>0.5125</td></tr>\n",
       "</table>"
      ],
      "text/plain": [
       "(pyAgrum.Potential<double>@0x131fcf0) \n",
       "             ||  w                |\n",
       "r     |s     ||0        |1        |\n",
       "------|------||---------|---------|\n",
       "0     |0     || 0.2196  | 0.7804  |\n",
       "1     |0     || 0.5505  | 0.4495  |\n",
       "0     |1     || 0.5410  | 0.4590  |\n",
       "1     |1     || 0.4875  | 0.5125  |"
      ]
     },
     "execution_count": 22,
     "metadata": {},
     "output_type": "execute_result"
    }
   ],
   "source": [
    "# Mostrando o CPT do W\n",
    "print(bn.cpt(\"w\").names)\n",
    "bn.cpt(\"w\")"
   ]
  },
  {
   "cell_type": "code",
   "execution_count": 23,
   "metadata": {},
   "outputs": [
    {
     "data": {
      "text/html": [
       "<table style=\"border:1px solid black;border-collapse: collapse;\">\n",
       "<tr><th colspan='2'></th>\n",
       "      <th colspan='2' style='border:1px solid black;color:black;background-color:#808080;'><center>w</center>\n",
       "      </th></tr>\n",
       "<tr><th style='border:1px solid black;color:black;background-color:#808080'><center>s</center></th><th style='border:1px solid black;color:black;background-color:#808080'><center>r</center></th><th style='border:1px solid black;border-bottom-style: double;color:black;background-color:#BBBBBB'>\n",
       "      <center>0</center></th><th style='border:1px solid black;border-bottom-style: double;color:black;background-color:#BBBBBB'>\n",
       "      <center>1</center></th></tr>\n",
       "<tr><th style='border:1px solid black;color:black;background-color:#BBBBBB;' rowspan = '2'>\n",
       "            <center>0</center></th><th style='border:1px solid black;color:black;background-color:#BBBBBB'><center>0</center></th><td style='color:black;background-color:#7fff64;text-align:right;padding: 3px;'>1.0000</td><td style='color:black;background-color:#ff7f64;text-align:right;padding: 3px;'>0.0000</td></tr>\n",
       "<tr><th style='border:1px solid black;color:black;background-color:#BBBBBB'><center>1</center></th><td style='color:black;background-color:#f28b64;text-align:right;padding: 3px;'>0.1000</td><td style='color:black;background-color:#8bf264;text-align:right;padding: 3px;'>0.9000</td></tr>\n",
       "<tr><th style='border:1px solid black;color:black;background-color:#BBBBBB;' rowspan = '2'>\n",
       "            <center>1</center></th><th style='border:1px solid black;color:black;background-color:#BBBBBB'><center>0</center></th><td style='color:black;background-color:#f28b64;text-align:right;padding: 3px;'>0.1000</td><td style='color:black;background-color:#8bf264;text-align:right;padding: 3px;'>0.9000</td></tr>\n",
       "<tr><th style='border:1px solid black;color:black;background-color:#BBBBBB'><center>1</center></th><td style='color:black;background-color:#fd8064;text-align:right;padding: 3px;'>0.0100</td><td style='color:black;background-color:#80fd64;text-align:right;padding: 3px;'>0.9900</td></tr>\n",
       "</table>"
      ],
      "text/plain": [
       "(pyAgrum.Potential<double>@0x131fcf0) \n",
       "             ||  w                |\n",
       "r     |s     ||0        |1        |\n",
       "------|------||---------|---------|\n",
       "0     |0     || 1.0000  | 0.0000  |\n",
       "1     |0     || 0.1000  | 0.9000  |\n",
       "0     |1     || 0.1000  | 0.9000  |\n",
       "1     |1     || 0.0100  | 0.9900  |"
      ]
     },
     "execution_count": 23,
     "metadata": {},
     "output_type": "execute_result"
    }
   ],
   "source": [
    "# Outra forma de criar o cpt seria utilizando um dicionario \n",
    "\n",
    "bn.cpt(\"w\")[{'r': 0, 's': 0}] = [1, 0]\n",
    "bn.cpt(\"w\")[{'r': 0, 's': 1}] = [0.1, 0.9]\n",
    "bn.cpt(\"w\")[{'r': 1, 's': 0}] = [0.1, 0.9]\n",
    "bn.cpt(\"w\")[{'r': 1, 's': 1}] = [0.01, 0.99]\n",
    "bn.cpt(\"w\")"
   ]
  },
  {
   "cell_type": "code",
   "execution_count": null,
   "metadata": {},
   "outputs": [],
   "source": [
    "# Salvando a BN em diferentes formatos\n",
    "# bif|dsl|net|bifxml|o3prm|uai|xdsl|pkl\n",
    "gum.saveBN(bn,\"data/WaterSprinkler.xdsl\")"
   ]
  },
  {
   "cell_type": "code",
   "execution_count": 30,
   "metadata": {},
   "outputs": [
    {
     "name": "stdout",
     "output_type": "stream",
     "text": [
      "\n",
      "net {\n",
      "  name = unnamedBN;\n",
      "  software = \"aGrUM 1.13.2\";\n",
      "  node_size = (50 50);\n",
      "}\n",
      "\n",
      "node c {\n",
      "   states = (0 1 );\n",
      "   label = \"c\";\n",
      "   ID = \"c\";\n",
      "}\n",
      "\n",
      "node r {\n",
      "   states = (0 1 );\n",
      "   label = \"r\";\n",
      "   ID = \"r\";\n",
      "}\n",
      "\n",
      "node w {\n",
      "   states = (0 1 );\n",
      "   label = \"w\";\n",
      "   ID = \"w\";\n",
      "}\n",
      "\n",
      "node s {\n",
      "   states = (0 1 );\n",
      "   label = \"s\";\n",
      "   ID = \"s\";\n",
      "}\n",
      "\n",
      "potential (c) {\n",
      "   data = (  0.3 0.7);\n",
      "}\n",
      "\n",
      "potential ( r | c   ) {\n",
      "   data = \n",
      "   ((   0.3   0.7)   % c=0   \n",
      "   (   0.8   0.2));   % c=1   \n",
      "}\n",
      "\n",
      "potential ( w | r   s   ) {\n",
      "   data = \n",
      "   (((   1   0)   % s=0   r=0   \n",
      "   (   0.1   0.9))   % s=1   r=0   \n",
      "   ((   0.1   0.9)   % s=0   r=1   \n",
      "   (   0.01   0.99)));   % s=1   r=1   \n",
      "}\n",
      "\n",
      "potential ( s | c   ) {\n",
      "   data = \n",
      "   ((   0.5   0.5)   % c=0   \n",
      "   (   0.9   0.1));   % c=1   \n",
      "}\n",
      "\n",
      "\n",
      "\n"
     ]
    }
   ],
   "source": [
    "# Posso salvar e ler em outros formatos\n",
    "gum.saveBN(bn,\"data/WaterSprinkler.net\")\n",
    "with open(\"data/WaterSprinkler.net\",\"r\") as out:\n",
    "    print(out.read())\n",
    "bn3=gum.loadBN(\"data/WaterSprinkler.net\")"
   ]
  },
  {
   "cell_type": "markdown",
   "metadata": {},
   "source": [
    "1. **Inferência Exata**:\n",
    "   - **gum.LazyPropagation**: Este é um método de inferência exata que transforma a rede Bayesiana em um hipergrafo chamado de árvore de junção ou junction tree. Essa árvore é construída de maneira a otimizar os cálculos de inferência, tornando o processo mais eficiente.\n",
    "   - **Outros métodos**: Como **gum.VariableElimination** e **gum.ShaferShenoy**, que também realizam inferência exata utilizando diferentes algoritmos para eliminar variáveis e calcular probabilidades condicionais.\n",
    "\n",
    "2. **Inferência Aproximada**:\n",
    "   - **Amostragem (Sampling Inference)**: Utiliza algoritmos de amostragem para gerar uma sequência de amostras a partir da distribuição de probabilidade conjunta. Exemplos incluem **gum.GibbsSampling**, que aplica o método de amostragem de Gibbs para aproximar as distribuições desejadas.\n",
    "   - **Propagação de Crença com Ciclos (Loopy Belief Propagation)**: Utiliza um algoritmo de inferência que é exato para árvores, mas apenas aproximado para grafos direcionados acíclicos (DAGs) com ciclos. É útil para redes Bayesianas que contêm ciclos, onde métodos exatos podem ser computacionalmente caros.\n"
   ]
  },
  {
   "cell_type": "code",
   "execution_count": 33,
   "metadata": {},
   "outputs": [],
   "source": [
    "ie=gum.LazyPropagation(bn) # utilizando o metodo do hypergrafo"
   ]
  },
  {
   "cell_type": "code",
   "execution_count": 34,
   "metadata": {},
   "outputs": [
    {
     "name": "stdout",
     "output_type": "stream",
     "text": [
      "\n",
      "  w                |\n",
      "0        |1        |\n",
      "---------|---------|\n",
      " 0.5834  | 0.4166  |\n",
      "\n"
     ]
    }
   ],
   "source": [
    "ie.makeInference() # realiza a inferencia\n",
    "print(ie.posterior(\"w\"))"
   ]
  },
  {
   "cell_type": "code",
   "execution_count": 41,
   "metadata": {},
   "outputs": [
    {
     "data": {
      "text/plain": [
       "array([0.58339, 0.41661])"
      ]
     },
     "execution_count": 41,
     "metadata": {},
     "output_type": "execute_result"
    }
   ],
   "source": [
    "ie.posterior(\"w\")[:] # pode ser impresso tambem dessa forma"
   ]
  },
  {
   "cell_type": "code",
   "execution_count": null,
   "metadata": {},
   "outputs": [
    {
     "data": {
      "text/html": [
       "<table border=\"1\" class=\"dataframe\">\n",
       "  <thead>\n",
       "    <tr style=\"text-align: right;\">\n",
       "      <th>Estado</th>\n",
       "      <th>Probabilidade</th>\n",
       "    </tr>\n",
       "  </thead>\n",
       "  <tbody>\n",
       "    <tr>\n",
       "      <td>0</td>\n",
       "      <td>0.5834</td>\n",
       "    </tr>\n",
       "    <tr>\n",
       "      <td>1</td>\n",
       "      <td>0.4166</td>\n",
       "    </tr>\n",
       "  </tbody>\n",
       "</table>"
      ],
      "text/plain": [
       "<IPython.core.display.HTML object>"
      ]
     },
     "metadata": {},
     "output_type": "display_data"
    }
   ],
   "source": [
    "# utilizando o html e css\n",
    "import pandas as pd\n",
    "from IPython.display import HTML, display\n",
    "\n",
    "estados = ['0', '1']\n",
    "probabilidades = ie.posterior(\"w\")[:]\n",
    "\n",
    "# Criar o DataFrame\n",
    "df = pd.DataFrame({\n",
    "    'Estado': estados,\n",
    "    'Probabilidade': probabilidades\n",
    "})\n",
    "\n",
    "# Converter o DataFrame para HTML com formatação de números\n",
    "html_table = df.to_html(index=False, float_format=\"{:.4f}\".format)\n",
    "\n",
    "\n",
    "\n",
    "\n",
    "# Exibir a tabela HTML no notebook\n",
    "display(HTML(html_table))\n",
    "\n",
    "# display(HTML(html_table + styles))\n",
    "# styles = string com o css para estilizar"
   ]
  },
  {
   "cell_type": "markdown",
   "metadata": {},
   "source": [
    "#### **Inferência com Evidência**\n",
    "\n",
    "Quando introduzimos **evidências** em uma rede Bayesiana, estamos incorporando novos conhecimentos que influenciam as probabilidades das variáveis de interesse. Essas evidências podem ser de dois tipos:\n",
    "\n",
    "1. **Evidência Dura (Hard Evidence):**\n",
    "   - **Definição:** Quando conhecemos exatamente o valor de uma variável aleatória.\n",
    "   - **Exemplo:** Saber com certeza que o sprinkler está ligado (`S=1`).\n",
    "   - **Representação:** A evidência é inserida em um dicionário com o formato `'nome da variável': etiqueta`. Por exemplo, `{'Sprinkler': 'Ligado'}`.\n",
    "\n",
    "2. **Evidência Suave (Soft Evidence):**\n",
    "   - **Definição:** Quando temos informações probabilísticas sobre o valor de uma variável, mas não sabemos o valor exato.\n",
    "   - **Exemplo:** Saber que há uma probabilidade de 70% de o sprinkler estar ligado.\n",
    "   - **Representação:** A evidência é representada como distribuições de probabilidade para as variáveis.\n",
    "\n",
    "Ao adicionar evidências a uma rede Bayesiana, usamos um motor de inferência para recalcular as probabilidades das variáveis de interesse condicionadas às evidências fornecidas. Isso nos permite responder perguntas como: \"Qual a probabilidade da grama estar molhada (`W`) dado que o sprinkler está ligado (`S=1`) e que não está nublado (`C=0`)?\", ou seja, `P(W|S=1,C=0)`.\n",
    "\n"
   ]
  },
  {
   "cell_type": "code",
   "execution_count": null,
   "metadata": {},
   "outputs": [
    {
     "data": {
      "text/html": [
       "<table style=\"border:1px solid black;border-collapse: collapse;\">\n",
       "<tr style='border:1px solid black;color:black;background-color:#808080'>\n",
       "      <th colspan='2'><center>w</center></th></tr>\n",
       "<tr><th style='border:1px solid black;border-bottom-style: double;color:black;background-color:#BBBBBB'>\n",
       "      <center>0</center></th><th style='border:1px solid black;border-bottom-style: double;color:black;background-color:#BBBBBB'>\n",
       "      <center>1</center></th></tr>\n",
       "<tr><td style='color:black;background-color:#cfae64;text-align:right;padding: 3px;'>0.3700</td><td style='color:black;background-color:#aecf64;text-align:right;padding: 3px;'>0.6300</td></tr>\n",
       "</table>"
      ],
      "text/plain": [
       "(pyAgrum.Potential<double>@0x1a489f0) \n",
       "  w                |\n",
       "0        |1        |\n",
       "---------|---------|\n",
       " 0.3700  | 0.6300  |"
      ]
     },
     "execution_count": 56,
     "metadata": {},
     "output_type": "execute_result"
    }
   ],
   "source": [
    "# hard evidence (sempre estados de SIM/NÃO)\n",
    "ie.setEvidence({'s':0, 'c': 0})\n",
    "ie.makeInference()\n",
    "ie.posterior(\"w\")"
   ]
  },
  {
   "cell_type": "code",
   "execution_count": 63,
   "metadata": {},
   "outputs": [
    {
     "data": {
      "text/html": [
       "<table style=\"border:1px solid black;border-collapse: collapse;\">\n",
       "<tr style='border:1px solid black;color:black;background-color:#808080'>\n",
       "      <th colspan='2'><center>w</center></th></tr>\n",
       "<tr><th style='border:1px solid black;border-bottom-style: double;color:black;background-color:#BBBBBB'>\n",
       "      <center>0</center></th><th style='border:1px solid black;border-bottom-style: double;color:black;background-color:#BBBBBB'>\n",
       "      <center>1</center></th></tr>\n",
       "<tr><td style='color:black;background-color:#ec9164;text-align:right;padding: 3px;'>0.1480</td><td style='color:black;background-color:#91ec64;text-align:right;padding: 3px;'>0.8520</td></tr>\n",
       "</table>"
      ],
      "text/plain": [
       "(pyAgrum.Potential<double>@0x2775550) \n",
       "  w                |\n",
       "0        |1        |\n",
       "---------|---------|\n",
       " 0.1480  | 0.8520  |"
      ]
     },
     "execution_count": 63,
     "metadata": {},
     "output_type": "execute_result"
    }
   ],
   "source": [
    "# soft evidence\n",
    "ie.setEvidence({'s': [0.5, 1], 'c': [1, 0]}) # 50% de chance do S ser 1, 100% de chance do C ser 0\n",
    "ie.makeInference()\n",
    "ie.posterior(\"w\") # using gnb's feature"
   ]
  },
  {
   "cell_type": "code",
   "execution_count": 79,
   "metadata": {},
   "outputs": [
    {
     "data": {
      "text/html": [
       "<table style=\"border-style: hidden; border-collapse: collapse;\" width=\"100%\"><tr><td style=\"border-top:hidden;border-bottom:hidden;vertical-align:middle;\"><div align=\"center\" style=\"vertical-align:middle;\"><table style=\"border:1px solid black;border-collapse: collapse;\">\n",
       "<tr style='border:1px solid black;color:black;background-color:#808080'>\n",
       "      <th colspan='2'><center>c</center></th></tr>\n",
       "<tr><th style='border:1px solid black;border-bottom-style: double;color:black;background-color:#BBBBBB'>\n",
       "      <center>0</center></th><th style='border:1px solid black;border-bottom-style: double;color:black;background-color:#BBBBBB'>\n",
       "      <center>1</center></th></tr>\n",
       "<tr><td style='color:black;background-color:#d8a564;text-align:right;padding: 3px;'>0.30</td><td style='color:black;background-color:#a5d864;text-align:right;padding: 3px;'>0.70</td></tr>\n",
       "</table><br><small><i>P(c)</i></small></div></td></tr></table>"
      ],
      "text/plain": [
       "<IPython.core.display.HTML object>"
      ]
     },
     "metadata": {},
     "output_type": "display_data"
    },
    {
     "data": {
      "text/html": [
       "<table style=\"border-style: hidden; border-collapse: collapse;\" width=\"100%\"><tr><td style=\"border-top:hidden;border-bottom:hidden;vertical-align:middle;\"><div align=\"center\" style=\"vertical-align:middle;\"><table style=\"border:1px solid black;border-collapse: collapse;\">\n",
       "<tr><th colspan='1'></th>\n",
       "      <th colspan='2' style='border:1px solid black;color:black;background-color:#808080;'><center>s</center>\n",
       "      </th></tr>\n",
       "<tr><th style='border:1px solid black;color:black;background-color:#808080'><center>c</center></th><th style='border:1px solid black;border-bottom-style: double;color:black;background-color:#BBBBBB'>\n",
       "      <center>0</center></th><th style='border:1px solid black;border-bottom-style: double;color:black;background-color:#BBBBBB'>\n",
       "      <center>1</center></th></tr>\n",
       "<tr><th style='border:1px solid black;color:black;background-color:#BBBBBB'><center>0</center></th><td style='color:black;background-color:#bfbf64;text-align:right;padding: 3px;'>0.50</td><td style='color:black;background-color:#bfbf64;text-align:right;padding: 3px;'>0.50</td></tr>\n",
       "<tr><th style='border:1px solid black;color:black;background-color:#BBBBBB'><center>1</center></th><td style='color:black;background-color:#8bf264;text-align:right;padding: 3px;'>0.90</td><td style='color:black;background-color:#f28b64;text-align:right;padding: 3px;'>0.10</td></tr>\n",
       "</table><br><small><i>P(s|c)</i></small></div></td><td style=\"border-top:hidden;border-bottom:hidden;vertical-align:middle;\"><div align=\"center\" style=\"vertical-align:middle;\"><svg xmlns=\"http://www.w3.org/2000/svg\" xmlns:xlink=\"http://www.w3.org/1999/xlink\" width=\"133pt\" height=\"187pt\" viewBox=\"0.00 0.00 133.29 187.00\">\n",
       "<g id=\"graph0\" class=\"graph\" transform=\"scale(1.01 1.01) rotate(0) translate(4 184)\">\n",
       "<title>G</title>\n",
       "<!-- c -->\n",
       "<g id=\"node1\" class=\"node\">\n",
       "<title>c</title>\n",
       "<g id=\"a_node1\"><a xlink:title=\"(0) c\">\n",
       "<ellipse fill=\"#404040\" stroke=\"#4a4a4a\" cx=\"63\" cy=\"-162\" rx=\"27\" ry=\"18\"/>\n",
       "<text text-anchor=\"middle\" x=\"63\" y=\"-158.3\" font-family=\"Times,serif\" font-size=\"14.00\" fill=\"white\">c</text>\n",
       "</a>\n",
       "</g>\n",
       "</g>\n",
       "<!-- s -->\n",
       "<g id=\"node2\" class=\"node\">\n",
       "<title>s</title>\n",
       "<g id=\"a_node2\"><a xlink:title=\"(3) s\">\n",
       "<ellipse fill=\"#404040\" stroke=\"#4a4a4a\" cx=\"27\" cy=\"-90\" rx=\"27\" ry=\"18\"/>\n",
       "<text text-anchor=\"middle\" x=\"27\" y=\"-86.3\" font-family=\"Times,serif\" font-size=\"14.00\" fill=\"white\">s</text>\n",
       "</a>\n",
       "</g>\n",
       "</g>\n",
       "<!-- c&#45;&gt;s -->\n",
       "<g id=\"edge3\" class=\"edge\">\n",
       "<title>c-&gt;s</title>\n",
       "<g id=\"a_edge3\"><a xlink:title=\"0 → 3\">\n",
       "<path fill=\"none\" stroke=\"#4a4a4a\" d=\"M54.65,-144.76C50.29,-136.28 44.85,-125.71 39.96,-116.2\"/>\n",
       "<polygon fill=\"#4a4a4a\" stroke=\"#4a4a4a\" points=\"42.99,-114.44 35.3,-107.15 36.77,-117.64 42.99,-114.44\"/>\n",
       "</a>\n",
       "</g>\n",
       "</g>\n",
       "<!-- r -->\n",
       "<g id=\"node3\" class=\"node\">\n",
       "<title>r</title>\n",
       "<g id=\"a_node3\"><a xlink:title=\"(1) r\">\n",
       "<ellipse fill=\"#404040\" stroke=\"#4a4a4a\" cx=\"99\" cy=\"-90\" rx=\"27\" ry=\"18\"/>\n",
       "<text text-anchor=\"middle\" x=\"99\" y=\"-86.3\" font-family=\"Times,serif\" font-size=\"14.00\" fill=\"white\">r</text>\n",
       "</a>\n",
       "</g>\n",
       "</g>\n",
       "<!-- c&#45;&gt;r -->\n",
       "<g id=\"edge1\" class=\"edge\">\n",
       "<title>c-&gt;r</title>\n",
       "<g id=\"a_edge1\"><a xlink:title=\"0 → 1\">\n",
       "<path fill=\"none\" stroke=\"#4a4a4a\" d=\"M71.35,-144.76C75.71,-136.28 81.15,-125.71 86.04,-116.2\"/>\n",
       "<polygon fill=\"#4a4a4a\" stroke=\"#4a4a4a\" points=\"89.23,-117.64 90.7,-107.15 83.01,-114.44 89.23,-117.64\"/>\n",
       "</a>\n",
       "</g>\n",
       "</g>\n",
       "<!-- w -->\n",
       "<g id=\"node4\" class=\"node\">\n",
       "<title>w</title>\n",
       "<g id=\"a_node4\"><a xlink:title=\"(2) w\">\n",
       "<ellipse fill=\"#404040\" stroke=\"#4a4a4a\" cx=\"63\" cy=\"-18\" rx=\"27\" ry=\"18\"/>\n",
       "<text text-anchor=\"middle\" x=\"63\" y=\"-14.3\" font-family=\"Times,serif\" font-size=\"14.00\" fill=\"white\">w</text>\n",
       "</a>\n",
       "</g>\n",
       "</g>\n",
       "<!-- s&#45;&gt;w -->\n",
       "<g id=\"edge4\" class=\"edge\">\n",
       "<title>s-&gt;w</title>\n",
       "<g id=\"a_edge4\"><a xlink:title=\"3 → 2\">\n",
       "<path fill=\"none\" stroke=\"#4a4a4a\" d=\"M35.35,-72.76C39.71,-64.28 45.15,-53.71 50.04,-44.2\"/>\n",
       "<polygon fill=\"#4a4a4a\" stroke=\"#4a4a4a\" points=\"53.23,-45.64 54.7,-35.15 47.01,-42.44 53.23,-45.64\"/>\n",
       "</a>\n",
       "</g>\n",
       "</g>\n",
       "<!-- r&#45;&gt;w -->\n",
       "<g id=\"edge2\" class=\"edge\">\n",
       "<title>r-&gt;w</title>\n",
       "<g id=\"a_edge2\"><a xlink:title=\"1 → 2\">\n",
       "<path fill=\"none\" stroke=\"#4a4a4a\" d=\"M90.65,-72.76C86.29,-64.28 80.85,-53.71 75.96,-44.2\"/>\n",
       "<polygon fill=\"#4a4a4a\" stroke=\"#4a4a4a\" points=\"78.99,-42.44 71.3,-35.15 72.77,-45.64 78.99,-42.44\"/>\n",
       "</a>\n",
       "</g>\n",
       "</g>\n",
       "</g>\n",
       "</svg><br><small><i></i></small></div></td><td style=\"border-top:hidden;border-bottom:hidden;vertical-align:middle;\"><div align=\"center\" style=\"vertical-align:middle;\"><table style=\"border:1px solid black;border-collapse: collapse;\">\n",
       "<tr><th colspan='1'></th>\n",
       "      <th colspan='2' style='border:1px solid black;color:black;background-color:#808080;'><center>r</center>\n",
       "      </th></tr>\n",
       "<tr><th style='border:1px solid black;color:black;background-color:#808080'><center>c</center></th><th style='border:1px solid black;border-bottom-style: double;color:black;background-color:#BBBBBB'>\n",
       "      <center>0</center></th><th style='border:1px solid black;border-bottom-style: double;color:black;background-color:#BBBBBB'>\n",
       "      <center>1</center></th></tr>\n",
       "<tr><th style='border:1px solid black;color:black;background-color:#BBBBBB'><center>0</center></th><td style='color:black;background-color:#d8a564;text-align:right;padding: 3px;'>0.30</td><td style='color:black;background-color:#a5d864;text-align:right;padding: 3px;'>0.70</td></tr>\n",
       "<tr><th style='border:1px solid black;color:black;background-color:#BBBBBB'><center>1</center></th><td style='color:black;background-color:#98e564;text-align:right;padding: 3px;'>0.80</td><td style='color:black;background-color:#e59864;text-align:right;padding: 3px;'>0.20</td></tr>\n",
       "</table><br><small><i>P(w|s,r)</i></small></div></td></tr></table>"
      ],
      "text/plain": [
       "<IPython.core.display.HTML object>"
      ]
     },
     "metadata": {},
     "output_type": "display_data"
    },
    {
     "data": {
      "text/html": [
       "<table style=\"border-style: hidden; border-collapse: collapse;\" width=\"100%\"><tr><td style=\"border-top:hidden;border-bottom:hidden;vertical-align:middle;\"><div align=\"center\" style=\"vertical-align:middle;\"><table style=\"border:1px solid black;border-collapse: collapse;\">\n",
       "<tr><th colspan='2'></th>\n",
       "      <th colspan='2' style='border:1px solid black;color:black;background-color:#808080;'><center>w</center>\n",
       "      </th></tr>\n",
       "<tr><th style='border:1px solid black;color:black;background-color:#808080'><center>s</center></th><th style='border:1px solid black;color:black;background-color:#808080'><center>r</center></th><th style='border:1px solid black;border-bottom-style: double;color:black;background-color:#BBBBBB'>\n",
       "      <center>0</center></th><th style='border:1px solid black;border-bottom-style: double;color:black;background-color:#BBBBBB'>\n",
       "      <center>1</center></th></tr>\n",
       "<tr><th style='border:1px solid black;color:black;background-color:#BBBBBB;' rowspan = '2'>\n",
       "            <center>0</center></th><th style='border:1px solid black;color:black;background-color:#BBBBBB'><center>0</center></th><td style='color:black;background-color:#7fff64;text-align:right;padding: 3px;'>1.00</td><td style='color:black;background-color:#ff7f64;text-align:right;padding: 3px;'>0.00</td></tr>\n",
       "<tr><th style='border:1px solid black;color:black;background-color:#BBBBBB'><center>1</center></th><td style='color:black;background-color:#f28b64;text-align:right;padding: 3px;'>0.10</td><td style='color:black;background-color:#8bf264;text-align:right;padding: 3px;'>0.90</td></tr>\n",
       "<tr><th style='border:1px solid black;color:black;background-color:#BBBBBB;' rowspan = '2'>\n",
       "            <center>1</center></th><th style='border:1px solid black;color:black;background-color:#BBBBBB'><center>0</center></th><td style='color:black;background-color:#f28b64;text-align:right;padding: 3px;'>0.10</td><td style='color:black;background-color:#8bf264;text-align:right;padding: 3px;'>0.90</td></tr>\n",
       "<tr><th style='border:1px solid black;color:black;background-color:#BBBBBB'><center>1</center></th><td style='color:black;background-color:#fd8064;text-align:right;padding: 3px;'>0.01</td><td style='color:black;background-color:#80fd64;text-align:right;padding: 3px;'>0.99</td></tr>\n",
       "</table><br><small><i>P(w|s,r)</i></small></div></td></tr></table>"
      ],
      "text/plain": [
       "<IPython.core.display.HTML object>"
      ]
     },
     "metadata": {},
     "output_type": "display_data"
    }
   ],
   "source": [
    "# criando a imagem do começo da documentação\n",
    "gum.config['notebook','potential_visible_digits']=2\n",
    "gnb.sideBySide(bn.cpt(\"c\"),captions=['P(c)'])\n",
    "gnb.sideBySide(bn.cpt(\"s\"),gnb.getBN(bn,size=\"2.6!\"),bn.cpt(\"r\"),\n",
    "              captions=['P(s|c)',\"\",'P(w|s,r)'])\n",
    "gnb.sideBySide(bn.cpt(\"w\"),captions=['P(w|s,r)'])"
   ]
  },
  {
   "cell_type": "code",
   "execution_count": null,
   "metadata": {},
   "outputs": [
    {
     "data": {
      "text/html": [
       "<table style=\"border-style: hidden; border-collapse: collapse;\" width=\"100%\"><tr><td style=\"border-top:hidden;border-bottom:hidden;vertical-align:middle;\"><div align=\"center\" style=\"vertical-align:middle;\"><table style=\"border:1px solid black;border-collapse: collapse;\">\n",
       "<tr style='border:1px solid black;color:black;background-color:#808080'>\n",
       "      <th colspan='2'><center>Cloudy?</center></th></tr>\n",
       "<tr><th style='border:1px solid black;border-bottom-style: double;color:black;background-color:#BBBBBB'>\n",
       "      <center>0</center></th><th style='border:1px solid black;border-bottom-style: double;color:black;background-color:#BBBBBB'>\n",
       "      <center>1</center></th></tr>\n",
       "<tr><td style='color:black;background-color:#bfbf64;text-align:center;'>$$\\frac{1}{2}$$</td><td style='color:black;background-color:#bfbf64;text-align:center;'>$$\\frac{1}{2}$$</td></tr>\n",
       "</table><br><small><i>$P(Cloudy)$</i></small></div></td></tr></table>"
      ],
      "text/plain": [
       "<IPython.core.display.HTML object>"
      ]
     },
     "metadata": {},
     "output_type": "display_data"
    },
    {
     "data": {
      "text/html": [
       "<table style=\"border-style: hidden; border-collapse: collapse;\" width=\"100%\"><tr><td style=\"border-top:hidden;border-bottom:hidden;vertical-align:middle;\"><div align=\"center\" style=\"vertical-align:middle;\"><table style=\"border:1px solid black;border-collapse: collapse;\">\n",
       "<tr><th colspan='1'></th>\n",
       "      <th colspan='2' style='border:1px solid black;color:black;background-color:#808080;'><center>Sprinkler?</center>\n",
       "      </th></tr>\n",
       "<tr><th style='border:1px solid black;color:black;background-color:#808080'><center>Cloudy?</center></th><th style='border:1px solid black;border-bottom-style: double;color:black;background-color:#BBBBBB'>\n",
       "      <center>0</center></th><th style='border:1px solid black;border-bottom-style: double;color:black;background-color:#BBBBBB'>\n",
       "      <center>1</center></th></tr>\n",
       "<tr><th style='border:1px solid black;color:black;background-color:#BBBBBB'><center>0</center></th><td style='color:black;background-color:#bfbf64;text-align:center;'>$$\\frac{1}{2}$$</td><td style='color:black;background-color:#bfbf64;text-align:center;'>$$\\frac{1}{2}$$</td></tr>\n",
       "<tr><th style='border:1px solid black;color:black;background-color:#BBBBBB'><center>1</center></th><td style='color:black;background-color:#8bf264;text-align:center;'>$$\\frac{9}{10}$$</td><td style='color:black;background-color:#f28b64;text-align:center;'>$$\\frac{1}{10}$$</td></tr>\n",
       "</table><br><small><i>$P(Sprinkler|Cloudy)$</i></small></div></td><td style=\"border-top:hidden;border-bottom:hidden;vertical-align:middle;\"><div align=\"center\" style=\"vertical-align:middle;\"><svg xmlns=\"http://www.w3.org/2000/svg\" xmlns:xlink=\"http://www.w3.org/1999/xlink\" width=\"216pt\" height=\"187pt\" viewBox=\"0.00 0.00 216.00 186.67\">\n",
       "<g id=\"graph0\" class=\"graph\" transform=\"scale(1.01 1.01) rotate(0) translate(4 184)\">\n",
       "<title>G</title>\n",
       "<!-- Wet Grass? -->\n",
       "<g id=\"node1\" class=\"node\">\n",
       "<title>Wet Grass?</title>\n",
       "<g id=\"a_node1\"><a xlink:title=\"(2) Wet Grass?\">\n",
       "<ellipse fill=\"#404040\" stroke=\"#4a4a4a\" cx=\"93.4\" cy=\"-18\" rx=\"63.89\" ry=\"18\"/>\n",
       "<text text-anchor=\"middle\" x=\"93.4\" y=\"-14.3\" font-family=\"Times,serif\" font-size=\"14.00\" fill=\"white\">Wet Grass?</text>\n",
       "</a>\n",
       "</g>\n",
       "</g>\n",
       "<!-- Cloudy? -->\n",
       "<g id=\"node2\" class=\"node\">\n",
       "<title>Cloudy?</title>\n",
       "<g id=\"a_node2\"><a xlink:title=\"(0) Cloudy?\">\n",
       "<ellipse fill=\"#404040\" stroke=\"#4a4a4a\" cx=\"93.4\" cy=\"-162\" rx=\"48.19\" ry=\"18\"/>\n",
       "<text text-anchor=\"middle\" x=\"93.4\" y=\"-158.3\" font-family=\"Times,serif\" font-size=\"14.00\" fill=\"white\">Cloudy?</text>\n",
       "</a>\n",
       "</g>\n",
       "</g>\n",
       "<!-- Rain? -->\n",
       "<g id=\"node3\" class=\"node\">\n",
       "<title>Rain?</title>\n",
       "<g id=\"a_node3\"><a xlink:title=\"(3) Rain?\">\n",
       "<ellipse fill=\"#404040\" stroke=\"#4a4a4a\" cx=\"36.4\" cy=\"-90\" rx=\"36.29\" ry=\"18\"/>\n",
       "<text text-anchor=\"middle\" x=\"36.4\" y=\"-86.3\" font-family=\"Times,serif\" font-size=\"14.00\" fill=\"white\">Rain?</text>\n",
       "</a>\n",
       "</g>\n",
       "</g>\n",
       "<!-- Cloudy?&#45;&gt;Rain? -->\n",
       "<g id=\"edge3\" class=\"edge\">\n",
       "<title>Cloudy?-&gt;Rain?</title>\n",
       "<g id=\"a_edge3\"><a xlink:title=\"0 → 3\">\n",
       "<path fill=\"none\" stroke=\"#4a4a4a\" d=\"M79.89,-144.41C72.69,-135.57 63.7,-124.53 55.77,-114.79\"/>\n",
       "<polygon fill=\"#4a4a4a\" stroke=\"#4a4a4a\" points=\"58.44,-112.53 49.42,-106.99 53.02,-116.95 58.44,-112.53\"/>\n",
       "</a>\n",
       "</g>\n",
       "</g>\n",
       "<!-- Sprinkler? -->\n",
       "<g id=\"node4\" class=\"node\">\n",
       "<title>Sprinkler?</title>\n",
       "<g id=\"a_node4\"><a xlink:title=\"(1) Sprinkler?\">\n",
       "<ellipse fill=\"#404040\" stroke=\"#4a4a4a\" cx=\"150.4\" cy=\"-90\" rx=\"59.29\" ry=\"18\"/>\n",
       "<text text-anchor=\"middle\" x=\"150.4\" y=\"-86.3\" font-family=\"Times,serif\" font-size=\"14.00\" fill=\"white\">Sprinkler?</text>\n",
       "</a>\n",
       "</g>\n",
       "</g>\n",
       "<!-- Cloudy?&#45;&gt;Sprinkler? -->\n",
       "<g id=\"edge1\" class=\"edge\">\n",
       "<title>Cloudy?-&gt;Sprinkler?</title>\n",
       "<g id=\"a_edge1\"><a xlink:title=\"0 → 1\">\n",
       "<path fill=\"none\" stroke=\"#4a4a4a\" d=\"M106.9,-144.41C113.83,-135.91 122.41,-125.37 130.11,-115.91\"/>\n",
       "<polygon fill=\"#4a4a4a\" stroke=\"#4a4a4a\" points=\"132.99,-117.92 136.59,-107.96 127.56,-113.5 132.99,-117.92\"/>\n",
       "</a>\n",
       "</g>\n",
       "</g>\n",
       "<!-- Rain?&#45;&gt;Wet Grass? -->\n",
       "<g id=\"edge4\" class=\"edge\">\n",
       "<title>Rain?-&gt;Wet Grass?</title>\n",
       "<g id=\"a_edge4\"><a xlink:title=\"3 → 2\">\n",
       "<path fill=\"none\" stroke=\"#4a4a4a\" d=\"M49.33,-73.12C56.41,-64.42 65.35,-53.45 73.31,-43.66\"/>\n",
       "<polygon fill=\"#4a4a4a\" stroke=\"#4a4a4a\" points=\"76.12,-45.76 79.72,-35.8 70.69,-41.34 76.12,-45.76\"/>\n",
       "</a>\n",
       "</g>\n",
       "</g>\n",
       "<!-- Sprinkler?&#45;&gt;Wet Grass? -->\n",
       "<g id=\"edge2\" class=\"edge\">\n",
       "<title>Sprinkler?-&gt;Wet Grass?</title>\n",
       "<g id=\"a_edge2\"><a xlink:title=\"1 → 2\">\n",
       "<path fill=\"none\" stroke=\"#4a4a4a\" d=\"M136.89,-72.41C129.96,-63.91 121.39,-53.37 113.68,-43.91\"/>\n",
       "<polygon fill=\"#4a4a4a\" stroke=\"#4a4a4a\" points=\"116.23,-41.5 107.2,-35.96 110.8,-45.92 116.23,-41.5\"/>\n",
       "</a>\n",
       "</g>\n",
       "</g>\n",
       "</g>\n",
       "</svg><br><small><i></i></small></div></td><td style=\"border-top:hidden;border-bottom:hidden;vertical-align:middle;\"><div align=\"center\" style=\"vertical-align:middle;\"><table style=\"border:1px solid black;border-collapse: collapse;\">\n",
       "<tr><th colspan='1'></th>\n",
       "      <th colspan='2' style='border:1px solid black;color:black;background-color:#808080;'><center>Rain?</center>\n",
       "      </th></tr>\n",
       "<tr><th style='border:1px solid black;color:black;background-color:#808080'><center>Cloudy?</center></th><th style='border:1px solid black;border-bottom-style: double;color:black;background-color:#BBBBBB'>\n",
       "      <center>0</center></th><th style='border:1px solid black;border-bottom-style: double;color:black;background-color:#BBBBBB'>\n",
       "      <center>1</center></th></tr>\n",
       "<tr><th style='border:1px solid black;color:black;background-color:#BBBBBB'><center>0</center></th><td style='color:black;background-color:#98e564;text-align:center;'>$$\\frac{4}{5}$$</td><td style='color:black;background-color:#e59864;text-align:center;'>$$\\frac{1}{5}$$</td></tr>\n",
       "<tr><th style='border:1px solid black;color:black;background-color:#BBBBBB'><center>1</center></th><td style='color:black;background-color:#e59864;text-align:center;'>$$\\frac{1}{5}$$</td><td style='color:black;background-color:#98e564;text-align:center;'>$$\\frac{4}{5}$$</td></tr>\n",
       "</table><br><small><i>$P(WetGrass|Sprinkler,Rain)$</i></small></div></td></tr></table>"
      ],
      "text/plain": [
       "<IPython.core.display.HTML object>"
      ]
     },
     "metadata": {},
     "output_type": "display_data"
    },
    {
     "data": {
      "text/html": [
       "<table style=\"border-style: hidden; border-collapse: collapse;\" width=\"100%\"><tr><td style=\"border-top:hidden;border-bottom:hidden;vertical-align:middle;\"><div align=\"center\" style=\"vertical-align:middle;\"><table style=\"border:1px solid black;border-collapse: collapse;\">\n",
       "<tr><th colspan='2'></th>\n",
       "      <th colspan='2' style='border:1px solid black;color:black;background-color:#808080;'><center>Wet Grass?</center>\n",
       "      </th></tr>\n",
       "<tr><th style='border:1px solid black;color:black;background-color:#808080'><center>Rain?</center></th><th style='border:1px solid black;color:black;background-color:#808080'><center>Sprinkler?</center></th><th style='border:1px solid black;border-bottom-style: double;color:black;background-color:#BBBBBB'>\n",
       "      <center>0</center></th><th style='border:1px solid black;border-bottom-style: double;color:black;background-color:#BBBBBB'>\n",
       "      <center>1</center></th></tr>\n",
       "<tr><th style='border:1px solid black;color:black;background-color:#BBBBBB;' rowspan = '2'>\n",
       "            <center>0</center></th><th style='border:1px solid black;color:black;background-color:#BBBBBB'><center>0</center></th><td style='color:black;background-color:#7fff64;text-align:center;'>$$1$$</td><td style='color:black;background-color:#ff7f64;text-align:center;'>$$0$$</td></tr>\n",
       "<tr><th style='border:1px solid black;color:black;background-color:#BBBBBB'><center>1</center></th><td style='color:black;background-color:#f28b64;text-align:center;'>$$\\frac{1}{10}$$</td><td style='color:black;background-color:#8bf264;text-align:center;'>$$\\frac{9}{10}$$</td></tr>\n",
       "<tr><th style='border:1px solid black;color:black;background-color:#BBBBBB;' rowspan = '2'>\n",
       "            <center>1</center></th><th style='border:1px solid black;color:black;background-color:#BBBBBB'><center>0</center></th><td style='color:black;background-color:#f28b64;text-align:center;'>$$\\frac{1}{10}$$</td><td style='color:black;background-color:#8bf264;text-align:center;'>$$\\frac{9}{10}$$</td></tr>\n",
       "<tr><th style='border:1px solid black;color:black;background-color:#BBBBBB'><center>1</center></th><td style='color:black;background-color:#fd8064;text-align:center;'>$$\\frac{1}{100}$$</td><td style='color:black;background-color:#80fd64;text-align:center;'>$$\\frac{99}{100}$$</td></tr>\n",
       "</table><br><small><i>$P(WetGrass|Sprinkler,Rain)$</i></small></div></td></tr></table>"
      ],
      "text/plain": [
       "<IPython.core.display.HTML object>"
      ]
     },
     "metadata": {},
     "output_type": "display_data"
    }
   ],
   "source": [
    "# deixando mais bonitinho\n",
    "bn=gum.fastBN(\"Cloudy?->Sprinkler?->Wet Grass?<-Rain?<-Cloudy?\")\n",
    "\n",
    "bn.cpt(\"Cloudy?\").fillWith([0.5,0.5])\n",
    "\n",
    "bn.cpt(\"Sprinkler?\")[:]=[[0.5,0.5],\n",
    "                         [0.9,0.1]]\n",
    "\n",
    "bn.cpt(\"Rain?\")[{'Cloudy?':0}]=[0.8,0.2]\n",
    "bn.cpt(\"Rain?\")[{'Cloudy?':1}]=[0.2,0.8]\n",
    "\n",
    "bn.cpt(\"Wet Grass?\")[{'Rain?': 0, 'Sprinkler?': 0}] = [1, 0]\n",
    "bn.cpt(\"Wet Grass?\")[{'Rain?': 0, 'Sprinkler?': 1}] = [0.1, 0.9]\n",
    "bn.cpt(\"Wet Grass?\")[{'Rain?': 1, 'Sprinkler?': 0}] = [0.1, 0.9]\n",
    "bn.cpt(\"Wet Grass?\")[{'Rain?': 1, 'Sprinkler?': 1}] = [0.01, 0.99]\n",
    "\n",
    "# the next lines control the visualisation of proba as fraction\n",
    "gum.config['notebook','potential_with_fraction']=True\n",
    "gum.config['notebook', 'potential_fraction_with_latex']=True\n",
    "gum.config['notebook', 'potential_fraction_limit']=100\n",
    "\n",
    "gnb.sideBySide(bn.cpt(\"Cloudy?\"),captions=['$P(Cloudy)$'])\n",
    "gnb.sideBySide(bn.cpt(\"Sprinkler?\"),gnb.getBN(bn,size=\"3!\"),bn.cpt(\"Rain?\"),\n",
    "              captions=['$P(Sprinkler|Cloudy)$',\"\",'$P(WetGrass|Sprinkler,Rain)$'])\n",
    "gnb.sideBySide(bn.cpt(\"Wet Grass?\"),captions=['$P(WetGrass|Sprinkler,Rain)$'])"
   ]
  }
 ],
 "metadata": {
  "kernelspec": {
   "display_name": ".venv",
   "language": "python",
   "name": "python3"
  },
  "language_info": {
   "codemirror_mode": {
    "name": "ipython",
    "version": 3
   },
   "file_extension": ".py",
   "mimetype": "text/x-python",
   "name": "python",
   "nbconvert_exporter": "python",
   "pygments_lexer": "ipython3",
   "version": "3.8.10"
  }
 },
 "nbformat": 4,
 "nbformat_minor": 2
}
